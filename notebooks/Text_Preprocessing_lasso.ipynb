{
 "cells": [
  {
   "cell_type": "markdown",
   "metadata": {
    "colab_type": "text",
    "id": "ehNjBdcxKwCR"
   },
   "source": [
    "# **<center> Análisis de Sentimientos de los candidatos presidenciales </br> Ecuador 2021, en la red social Twitter </center>**\n",
    "<h6>\n",
    "    <center> Miguel Angel Macias, Jonnathan Campoberde <br/> \n",
    "    <i>Universidad de Cuenca <br/>  <i>Facultad de Ingenieria - Escuela de Sistemas<br/> Cuenca, Ecuador</i>\n",
    "    <br/> { mangel.maciasn, jonnathan.campoberde }@ucuenca.edu.ec</center>\n",
    "<h6>"
   ]
  },
  {
   "cell_type": "markdown",
   "metadata": {
    "colab_type": "text",
    "id": "aJY55ow_KwCV"
   },
   "source": [
    "# **I.&emsp;Introducción**\n",
    "El presente trabajo tiene como objetivo emplear de manera práctica todos los conocimientos adquiridos en el transcurso de la asignatura “Text Mining”. Se trabajará con un dataset... . Se busca analizar el ..., detectando las ... por medio de ... . Todo esto con el propósito de ... .\n",
    "\n",
    "## **1.1.&emsp;Objetivos del Proyecto**\n",
    ">El objetivo del proyecto es el Análisis de Sentimientos de los candidatos presidenciales de Ecuador 2021, para luego contrastar los resultados obtenidos con los resultados oficiales de las elecciones Posteriormente se desea responder a las preguntas definidas en 1.2.\n",
    "\n",
    "## **1.2.&emsp;Preguntas de investigación**\n",
    ">- RQ1:     ¿Qué tan precisamente los datos de Twitter reflejan el sentimiento político en un proceso electoral?\n",
    ">- RQ1:     ¿En qué grado de aceptación se encuentran los candidatos dentro de la red Social Twitter?\n",
    ">- RQ3:     ¿Los resultadso oficiales son parecidos a los hallados en nuestro análisis?\n"
   ]
  },
  {
   "cell_type": "markdown",
   "metadata": {},
   "source": [
    "# **II.&emsp;TEXT CLEANING**\n",
    "\n",
    "## **2.1.&emsp; Reading dataset**\n",
    ">Para este paso..."
   ]
  },
  {
   "cell_type": "code",
   "execution_count": 1,
   "metadata": {},
   "outputs": [],
   "source": [
    "#!pip install emoji"
   ]
  },
  {
   "cell_type": "code",
   "execution_count": 2,
   "metadata": {},
   "outputs": [],
   "source": [
    "import warnings\n",
    "warnings.filterwarnings(\"ignore\")\n",
    "\n",
    "#from datetime import datetime, timezone\n",
    "import pytz\n",
    "import numpy as np              # Para operaciones matematicas\n",
    "import pandas as pd             # Manejo de datos / dataframes\n",
    "import re\n",
    "import emoji\n",
    "from nltk.tokenize import RegexpTokenizer\n",
    "from nltk.corpus import stopwords\n",
    "from nltk.tokenize import word_tokenize \n",
    "from nltk.stem import PorterStemmer\n",
    "%matplotlib inline"
   ]
  },
  {
   "cell_type": "code",
   "execution_count": 3,
   "metadata": {},
   "outputs": [],
   "source": [
    "data_raw = '../data/raw'              # directorio que contiene toda la data sin manipular\n",
    "data_processed = '../data/processed'  # directorio que contiene data procesada"
   ]
  },
  {
   "cell_type": "code",
   "execution_count": 4,
   "metadata": {},
   "outputs": [
    {
     "data": {
      "text/html": [
       "<div>\n",
       "<style scoped>\n",
       "    .dataframe tbody tr th:only-of-type {\n",
       "        vertical-align: middle;\n",
       "    }\n",
       "\n",
       "    .dataframe tbody tr th {\n",
       "        vertical-align: top;\n",
       "    }\n",
       "\n",
       "    .dataframe thead th {\n",
       "        text-align: right;\n",
       "    }\n",
       "</style>\n",
       "<table border=\"1\" class=\"dataframe\">\n",
       "  <thead>\n",
       "    <tr style=\"text-align: right;\">\n",
       "      <th></th>\n",
       "      <th>created_at</th>\n",
       "      <th>favorite_count</th>\n",
       "      <th>full_text</th>\n",
       "      <th>id_str</th>\n",
       "      <th>metadata.iso_language_code</th>\n",
       "      <th>retweeted_status.created_at</th>\n",
       "      <th>retweeted_status.full_text</th>\n",
       "      <th>user.created_at</th>\n",
       "      <th>user.favourites_count</th>\n",
       "      <th>user.followers_count</th>\n",
       "      <th>user.friends_count</th>\n",
       "      <th>user.id_str</th>\n",
       "      <th>user.location</th>\n",
       "      <th>user.verified</th>\n",
       "      <th>retweet_count</th>\n",
       "    </tr>\n",
       "  </thead>\n",
       "  <tbody>\n",
       "    <tr>\n",
       "      <th>0</th>\n",
       "      <td>2021-02-01 00:00:00+00:00</td>\n",
       "      <td>1</td>\n",
       "      <td>#Elecciones2021Ec | ¿Las propuestas económicas...</td>\n",
       "      <td>1356029498307784705</td>\n",
       "      <td>es</td>\n",
       "      <td>NaN</td>\n",
       "      <td>NaN</td>\n",
       "      <td>2011-12-05 13:59:33+00:00</td>\n",
       "      <td>269</td>\n",
       "      <td>12757</td>\n",
       "      <td>288</td>\n",
       "      <td>429043466</td>\n",
       "      <td>Ecuador</td>\n",
       "      <td>False</td>\n",
       "      <td>0</td>\n",
       "    </tr>\n",
       "    <tr>\n",
       "      <th>1</th>\n",
       "      <td>2021-01-31 23:59:47+00:00</td>\n",
       "      <td>0</td>\n",
       "      <td>RT @karitupl_: Y si van a venir con lo del Fer...</td>\n",
       "      <td>1356029442645233665</td>\n",
       "      <td>es</td>\n",
       "      <td>Sun Jan 31 22:19:16 +0000 2021</td>\n",
       "      <td>Y si van a venir con lo del Feriado Bancario, ...</td>\n",
       "      <td>2019-01-11 01:19:38+00:00</td>\n",
       "      <td>10928</td>\n",
       "      <td>31</td>\n",
       "      <td>487</td>\n",
       "      <td>1083533862066634752</td>\n",
       "      <td>Quito, Ecuador</td>\n",
       "      <td>False</td>\n",
       "      <td>95</td>\n",
       "    </tr>\n",
       "    <tr>\n",
       "      <th>2</th>\n",
       "      <td>2021-01-31 23:59:30+00:00</td>\n",
       "      <td>0</td>\n",
       "      <td>RT @relicheandres: Guillermo Lasso es una cart...</td>\n",
       "      <td>1356029372596154381</td>\n",
       "      <td>es</td>\n",
       "      <td>Sun Jan 31 18:45:05 +0000 2021</td>\n",
       "      <td>Guillermo Lasso es una carta perdida. Su propi...</td>\n",
       "      <td>2012-06-06 06:19:48+00:00</td>\n",
       "      <td>18497</td>\n",
       "      <td>464</td>\n",
       "      <td>2667</td>\n",
       "      <td>600732907</td>\n",
       "      <td>NaN</td>\n",
       "      <td>False</td>\n",
       "      <td>215</td>\n",
       "    </tr>\n",
       "    <tr>\n",
       "      <th>3</th>\n",
       "      <td>2021-01-31 23:59:22+00:00</td>\n",
       "      <td>0</td>\n",
       "      <td>RT @fabriciovelav: AHORA: @ECUATRANSA despidió...</td>\n",
       "      <td>1356029337548558337</td>\n",
       "      <td>es</td>\n",
       "      <td>Sun Jan 31 16:08:19 +0000 2021</td>\n",
       "      <td>AHORA: @ECUATRANSA despidió a su gerente, tras...</td>\n",
       "      <td>2017-07-03 14:34:05+00:00</td>\n",
       "      <td>10857</td>\n",
       "      <td>128</td>\n",
       "      <td>2410</td>\n",
       "      <td>881883752145793025</td>\n",
       "      <td>Latacunga, Ecuador</td>\n",
       "      <td>False</td>\n",
       "      <td>917</td>\n",
       "    </tr>\n",
       "    <tr>\n",
       "      <th>4</th>\n",
       "      <td>2021-01-31 23:59:19+00:00</td>\n",
       "      <td>0</td>\n",
       "      <td>RT @farriancito: Guillermo Lasso:\\r\\n'Gracias ...</td>\n",
       "      <td>1356029324969836544</td>\n",
       "      <td>es</td>\n",
       "      <td>Sun Jan 31 19:17:57 +0000 2021</td>\n",
       "      <td>Guillermo Lasso:\\r\\n'Gracias Dalo Bucaram'\\r\\n...</td>\n",
       "      <td>2011-12-07 02:30:28+00:00</td>\n",
       "      <td>24803</td>\n",
       "      <td>748</td>\n",
       "      <td>1007</td>\n",
       "      <td>430359745</td>\n",
       "      <td>Guayaquil</td>\n",
       "      <td>False</td>\n",
       "      <td>22</td>\n",
       "    </tr>\n",
       "    <tr>\n",
       "      <th>...</th>\n",
       "      <td>...</td>\n",
       "      <td>...</td>\n",
       "      <td>...</td>\n",
       "      <td>...</td>\n",
       "      <td>...</td>\n",
       "      <td>...</td>\n",
       "      <td>...</td>\n",
       "      <td>...</td>\n",
       "      <td>...</td>\n",
       "      <td>...</td>\n",
       "      <td>...</td>\n",
       "      <td>...</td>\n",
       "      <td>...</td>\n",
       "      <td>...</td>\n",
       "      <td>...</td>\n",
       "    </tr>\n",
       "    <tr>\n",
       "      <th>55050</th>\n",
       "      <td>2021-02-01 00:01:01+00:00</td>\n",
       "      <td>1</td>\n",
       "      <td>Ecuador se apresta para un nuevo proceso elect...</td>\n",
       "      <td>1356029751929012225</td>\n",
       "      <td>es</td>\n",
       "      <td>NaN</td>\n",
       "      <td>NaN</td>\n",
       "      <td>2015-04-11 11:36:17+00:00</td>\n",
       "      <td>652</td>\n",
       "      <td>166</td>\n",
       "      <td>1429</td>\n",
       "      <td>3155978477</td>\n",
       "      <td>Molina de Segura, España</td>\n",
       "      <td>False</td>\n",
       "      <td>1</td>\n",
       "    </tr>\n",
       "    <tr>\n",
       "      <th>55051</th>\n",
       "      <td>2021-02-01 00:00:21+00:00</td>\n",
       "      <td>0</td>\n",
       "      <td>RT @FERNANDOREVCOM1: @ElFerRamirezG @Sgangoten...</td>\n",
       "      <td>1356029584580485122</td>\n",
       "      <td>es</td>\n",
       "      <td>Sun Jan 31 21:39:04 +0000 2021</td>\n",
       "      <td>@ElFerRamirezG @SgangotenaG No al racismo, ni ...</td>\n",
       "      <td>2021-01-21 12:14:58+00:00</td>\n",
       "      <td>252</td>\n",
       "      <td>1</td>\n",
       "      <td>111</td>\n",
       "      <td>1352228070103658496</td>\n",
       "      <td>NaN</td>\n",
       "      <td>False</td>\n",
       "      <td>2</td>\n",
       "    </tr>\n",
       "    <tr>\n",
       "      <th>55052</th>\n",
       "      <td>2021-02-01 00:00:15+00:00</td>\n",
       "      <td>0</td>\n",
       "      <td>RT @pochoharbEC: Negativa impresión la actitud...</td>\n",
       "      <td>1356029560047996928</td>\n",
       "      <td>es</td>\n",
       "      <td>Sun Jan 31 12:36:40 +0000 2021</td>\n",
       "      <td>Negativa impresión la actitud de Isidro Romero...</td>\n",
       "      <td>2017-08-05 17:53:15+00:00</td>\n",
       "      <td>3769</td>\n",
       "      <td>16</td>\n",
       "      <td>56</td>\n",
       "      <td>893892671676321792</td>\n",
       "      <td>NaN</td>\n",
       "      <td>False</td>\n",
       "      <td>361</td>\n",
       "    </tr>\n",
       "    <tr>\n",
       "      <th>55053</th>\n",
       "      <td>2021-02-01 00:00:12+00:00</td>\n",
       "      <td>0</td>\n",
       "      <td>RT @savirosero: Mi abuelita toda su vida ha ap...</td>\n",
       "      <td>1356029545829314560</td>\n",
       "      <td>es</td>\n",
       "      <td>Sun Jan 31 23:22:40 +0000 2021</td>\n",
       "      <td>Mi abuelita toda su vida ha apoyado a la Izqui...</td>\n",
       "      <td>2015-03-21 04:16:03+00:00</td>\n",
       "      <td>80232</td>\n",
       "      <td>885</td>\n",
       "      <td>820</td>\n",
       "      <td>3100934092</td>\n",
       "      <td>NaN</td>\n",
       "      <td>False</td>\n",
       "      <td>8</td>\n",
       "    </tr>\n",
       "    <tr>\n",
       "      <th>55054</th>\n",
       "      <td>2021-02-01 00:00:01+00:00</td>\n",
       "      <td>0</td>\n",
       "      <td>RT @abcorderoc: El lado sensible de Guillermo ...</td>\n",
       "      <td>1356029500790894597</td>\n",
       "      <td>es</td>\n",
       "      <td>Sun Jan 31 14:08:40 +0000 2021</td>\n",
       "      <td>El lado sensible de Guillermo Lasso que pocos ...</td>\n",
       "      <td>2019-07-20 18:11:07+00:00</td>\n",
       "      <td>1512</td>\n",
       "      <td>84</td>\n",
       "      <td>200</td>\n",
       "      <td>1152642102259531781</td>\n",
       "      <td>Ciudad de Panamá, Panamá</td>\n",
       "      <td>False</td>\n",
       "      <td>5</td>\n",
       "    </tr>\n",
       "  </tbody>\n",
       "</table>\n",
       "<p>55055 rows × 15 columns</p>\n",
       "</div>"
      ],
      "text/plain": [
       "                     created_at  favorite_count  \\\n",
       "0     2021-02-01 00:00:00+00:00               1   \n",
       "1     2021-01-31 23:59:47+00:00               0   \n",
       "2     2021-01-31 23:59:30+00:00               0   \n",
       "3     2021-01-31 23:59:22+00:00               0   \n",
       "4     2021-01-31 23:59:19+00:00               0   \n",
       "...                         ...             ...   \n",
       "55050 2021-02-01 00:01:01+00:00               1   \n",
       "55051 2021-02-01 00:00:21+00:00               0   \n",
       "55052 2021-02-01 00:00:15+00:00               0   \n",
       "55053 2021-02-01 00:00:12+00:00               0   \n",
       "55054 2021-02-01 00:00:01+00:00               0   \n",
       "\n",
       "                                               full_text               id_str  \\\n",
       "0      #Elecciones2021Ec | ¿Las propuestas económicas...  1356029498307784705   \n",
       "1      RT @karitupl_: Y si van a venir con lo del Fer...  1356029442645233665   \n",
       "2      RT @relicheandres: Guillermo Lasso es una cart...  1356029372596154381   \n",
       "3      RT @fabriciovelav: AHORA: @ECUATRANSA despidió...  1356029337548558337   \n",
       "4      RT @farriancito: Guillermo Lasso:\\r\\n'Gracias ...  1356029324969836544   \n",
       "...                                                  ...                  ...   \n",
       "55050  Ecuador se apresta para un nuevo proceso elect...  1356029751929012225   \n",
       "55051  RT @FERNANDOREVCOM1: @ElFerRamirezG @Sgangoten...  1356029584580485122   \n",
       "55052  RT @pochoharbEC: Negativa impresión la actitud...  1356029560047996928   \n",
       "55053  RT @savirosero: Mi abuelita toda su vida ha ap...  1356029545829314560   \n",
       "55054  RT @abcorderoc: El lado sensible de Guillermo ...  1356029500790894597   \n",
       "\n",
       "      metadata.iso_language_code     retweeted_status.created_at  \\\n",
       "0                             es                             NaN   \n",
       "1                             es  Sun Jan 31 22:19:16 +0000 2021   \n",
       "2                             es  Sun Jan 31 18:45:05 +0000 2021   \n",
       "3                             es  Sun Jan 31 16:08:19 +0000 2021   \n",
       "4                             es  Sun Jan 31 19:17:57 +0000 2021   \n",
       "...                          ...                             ...   \n",
       "55050                         es                             NaN   \n",
       "55051                         es  Sun Jan 31 21:39:04 +0000 2021   \n",
       "55052                         es  Sun Jan 31 12:36:40 +0000 2021   \n",
       "55053                         es  Sun Jan 31 23:22:40 +0000 2021   \n",
       "55054                         es  Sun Jan 31 14:08:40 +0000 2021   \n",
       "\n",
       "                              retweeted_status.full_text  \\\n",
       "0                                                    NaN   \n",
       "1      Y si van a venir con lo del Feriado Bancario, ...   \n",
       "2      Guillermo Lasso es una carta perdida. Su propi...   \n",
       "3      AHORA: @ECUATRANSA despidió a su gerente, tras...   \n",
       "4      Guillermo Lasso:\\r\\n'Gracias Dalo Bucaram'\\r\\n...   \n",
       "...                                                  ...   \n",
       "55050                                                NaN   \n",
       "55051  @ElFerRamirezG @SgangotenaG No al racismo, ni ...   \n",
       "55052  Negativa impresión la actitud de Isidro Romero...   \n",
       "55053  Mi abuelita toda su vida ha apoyado a la Izqui...   \n",
       "55054  El lado sensible de Guillermo Lasso que pocos ...   \n",
       "\n",
       "                user.created_at  user.favourites_count  user.followers_count  \\\n",
       "0     2011-12-05 13:59:33+00:00                    269                 12757   \n",
       "1     2019-01-11 01:19:38+00:00                  10928                    31   \n",
       "2     2012-06-06 06:19:48+00:00                  18497                   464   \n",
       "3     2017-07-03 14:34:05+00:00                  10857                   128   \n",
       "4     2011-12-07 02:30:28+00:00                  24803                   748   \n",
       "...                         ...                    ...                   ...   \n",
       "55050 2015-04-11 11:36:17+00:00                    652                   166   \n",
       "55051 2021-01-21 12:14:58+00:00                    252                     1   \n",
       "55052 2017-08-05 17:53:15+00:00                   3769                    16   \n",
       "55053 2015-03-21 04:16:03+00:00                  80232                   885   \n",
       "55054 2019-07-20 18:11:07+00:00                   1512                    84   \n",
       "\n",
       "       user.friends_count          user.id_str             user.location  \\\n",
       "0                     288            429043466                   Ecuador   \n",
       "1                     487  1083533862066634752            Quito, Ecuador   \n",
       "2                    2667            600732907                       NaN   \n",
       "3                    2410   881883752145793025        Latacunga, Ecuador   \n",
       "4                    1007            430359745                 Guayaquil   \n",
       "...                   ...                  ...                       ...   \n",
       "55050                1429           3155978477  Molina de Segura, España   \n",
       "55051                 111  1352228070103658496                       NaN   \n",
       "55052                  56   893892671676321792                       NaN   \n",
       "55053                 820           3100934092                       NaN   \n",
       "55054                 200  1152642102259531781  Ciudad de Panamá, Panamá   \n",
       "\n",
       "       user.verified  retweet_count  \n",
       "0              False              0  \n",
       "1              False             95  \n",
       "2              False            215  \n",
       "3              False            917  \n",
       "4              False             22  \n",
       "...              ...            ...  \n",
       "55050          False              1  \n",
       "55051          False              2  \n",
       "55052          False            361  \n",
       "55053          False              8  \n",
       "55054          False              5  \n",
       "\n",
       "[55055 rows x 15 columns]"
      ]
     },
     "execution_count": 4,
     "metadata": {},
     "output_type": "execute_result"
    }
   ],
   "source": [
    "df_lasso = pd.read_csv(data_raw+\"/all_tweets_lasso.csv\")\n",
    "df_lasso['created_at'] = pd.to_datetime(df_lasso['created_at'], utc=pytz.UTC)\n",
    "df_lasso['user.created_at'] = pd.to_datetime(df_lasso['user.created_at'], utc=pytz.UTC)\n",
    "df_lasso"
   ]
  },
  {
   "cell_type": "markdown",
   "metadata": {},
   "source": [
    "## **2.2.&emsp; Removing Duplicates**\n",
    ">lorem ipsum"
   ]
  },
  {
   "cell_type": "code",
   "execution_count": 5,
   "metadata": {},
   "outputs": [
    {
     "data": {
      "text/plain": [
       "47145"
      ]
     },
     "execution_count": 5,
     "metadata": {},
     "output_type": "execute_result"
    }
   ],
   "source": [
    "# Count duplicates\n",
    "len(df_lasso['full_text'])-len(df_lasso['full_text'].drop_duplicates())"
   ]
  },
  {
   "cell_type": "code",
   "execution_count": 6,
   "metadata": {},
   "outputs": [],
   "source": [
    "df_lasso_processed = df_lasso.drop_duplicates( ['full_text'], keep='first')"
   ]
  },
  {
   "cell_type": "code",
   "execution_count": 7,
   "metadata": {},
   "outputs": [
    {
     "data": {
      "text/plain": [
       "7910"
      ]
     },
     "execution_count": 7,
     "metadata": {},
     "output_type": "execute_result"
    }
   ],
   "source": [
    "len(df_lasso_processed['full_text'])"
   ]
  },
  {
   "cell_type": "markdown",
   "metadata": {},
   "source": [
    "## **2.3.&emsp; Identify tweets by trolls**\n",
    ">Lorem ipsum"
   ]
  },
  {
   "cell_type": "code",
   "execution_count": 8,
   "metadata": {},
   "outputs": [],
   "source": [
    "def is_troll(Dt, Dc, Fc, fc, v):\n",
    "    '''\n",
    "    ----------------------------------\n",
    "    | Variable Description           |\n",
    "    ----------------------------------\n",
    "    | Dt  stands for Date Tweet      |\n",
    "    | Dc  stands for Date creation   |\n",
    "    | Fc  stands for Followers count |\n",
    "    | fc  stands for friend count    |\n",
    "    | v   stands for verified        |\n",
    "    ----------------------------------\n",
    "    | Weight penalization            |\n",
    "    ----------------------------------\n",
    "    | Timeliness metric:  WD = 0.7   |\n",
    "    | Followers metric:   WF = 0.2   |\n",
    "    | Following metric:   Wf = 0.1   |\n",
    "    ----------------------------------\n",
    "    | Acceptance Threshold           |\n",
    "    ----------------------------------\n",
    "    | Non Troll   > 0.8              |\n",
    "    | Troll       < 0.8              |\n",
    "    ----------------------------------\n",
    "    '''\n",
    "    # If user is verified then is a real person\n",
    "    if v:\n",
    "        return True\n",
    "    else:\n",
    "\n",
    "        threshold = 0.7*((Dt-Dc).days)/180 + 0.2*(Fc/250) + 0.1*(fc/300)\n",
    "\n",
    "        return threshold < 0.8\n"
   ]
  },
  {
   "cell_type": "code",
   "execution_count": 9,
   "metadata": {},
   "outputs": [],
   "source": [
    "df_lasso_processed['is_troll'] = df_lasso_processed.apply(lambda x: is_troll(x['created_at'],\n",
    "                                                         x['user.created_at'],\n",
    "                                                         x['user.followers_count'],\n",
    "                                                         x['user.friends_count'],\n",
    "                                                         x['user.verified']), axis=1)"
   ]
  },
  {
   "cell_type": "markdown",
   "metadata": {},
   "source": [
    "## **2.4.&emsp; Removing characters and Specific Stopwords**\n",
    ">lorem ipsum"
   ]
  },
  {
   "cell_type": "code",
   "execution_count": 10,
   "metadata": {},
   "outputs": [],
   "source": [
    "def clean_text(text):\n",
    "    \"\"\"Function to clean text extracted from the Internet with html tags\n",
    "    \n",
    "    Parameters\n",
    "    ----------\n",
    "    text: str \n",
    "      original string\n",
    "    \n",
    "    Return\n",
    "    ------\n",
    "    text: str\n",
    "      modified initial string\n",
    "    \"\"\"\n",
    "\n",
    "    text = text.lower() # lowercase text\n",
    "    text = re.sub(r\"(?:\\@|http?\\://|https?\\://|www)\\S+\", \"\", text) #Remove http links\n",
    "    text = EMOJI.sub(r'', text)\n",
    "    text = REPLACE_BY_SPACE_RE.sub(' ', text) # replace REPLACE_BY_SPACE_RE symbols by space in text\n",
    "    text = ' '.join(word for word in text.split() if word not in STOPWORDS) # delete stopwors from text\n",
    "    return text"
   ]
  },
  {
   "cell_type": "code",
   "execution_count": 11,
   "metadata": {
    "tags": []
   },
   "outputs": [],
   "source": [
    "# filtrado de caracteres y stopwords\n",
    "REPLACE_BY_SPACE_RE = re.compile('[/(){}\\[\\]\\|@#:,;¿?!¡-]')\n",
    "EMOJI = re.compile(\"[\"\n",
    "                               u\"\\U0001F600-\\U0001F64F\"  # emoticons\n",
    "                               u\"\\U0001F300-\\U0001F5FF\"  # symbols & pictographs\n",
    "                               u\"\\U0001F680-\\U0001F6FF\"  # transport & map symbols\n",
    "                               u\"\\U0001F1E0-\\U0001F1FF\"  # flags (iOS)\n",
    "                               u\"\\U00002500-\\U00002BEF\"  # chinese char\n",
    "                               u\"\\U00002702-\\U000027B0\"\n",
    "                               u\"\\U00002702-\\U000027B0\"\n",
    "                               u\"\\U000024C2-\\U0001F251\"\n",
    "                               u\"\\U0001f926-\\U0001f937\"\n",
    "                               u\"\\U00010000-\\U0010ffff\"\n",
    "                               u\"\\u2640-\\u2642\"\n",
    "                               u\"\\u2600-\\u2B55\"\n",
    "                               u\"\\u200d\"\n",
    "                               u\"\\u23cf\"\n",
    "                               u\"\\u23e9\"\n",
    "                               u\"\\u231a\"\n",
    "                               u\"\\ufe0f\"  # dingbats\n",
    "                               u\"\\u3030\"\n",
    "                               \"]+\", flags=re.UNICODE)\n",
    "\n",
    "STOPWORDS = ('rt')  # Adding new stopwords to the set, 'cause theese words repeat in all docs\n",
    "\n",
    "df_lasso_processed['full_text'] = df_lasso_processed[\"full_text\"].apply(clean_text)"
   ]
  },
  {
   "cell_type": "markdown",
   "metadata": {},
   "source": [
    "### _Luego de remover los caracteres especiales pueden existir Tweets vacios, debido a que estos solo contenian emotes o enlaces en su interior. Es por esta razon que se buscan estos espacios en blanco y se los quita_"
   ]
  },
  {
   "cell_type": "code",
   "execution_count": 12,
   "metadata": {},
   "outputs": [
    {
     "data": {
      "text/plain": [
       "26"
      ]
     },
     "execution_count": 12,
     "metadata": {},
     "output_type": "execute_result"
    }
   ],
   "source": [
    "df_lasso_processed[df_lasso_processed['full_text']==\"\"][\"full_text\"].count()"
   ]
  },
  {
   "cell_type": "code",
   "execution_count": 13,
   "metadata": {},
   "outputs": [],
   "source": [
    "df_lasso_processed.drop(df_lasso_processed.loc[df_lasso_processed[\"full_text\"]==\"\"].index, inplace=True)"
   ]
  },
  {
   "cell_type": "code",
   "execution_count": 14,
   "metadata": {},
   "outputs": [
    {
     "data": {
      "text/plain": [
       "0"
      ]
     },
     "execution_count": 14,
     "metadata": {},
     "output_type": "execute_result"
    }
   ],
   "source": [
    "df_lasso_processed[df_lasso_processed['full_text']==\"\"][\"full_text\"].count()"
   ]
  },
  {
   "cell_type": "code",
   "execution_count": 15,
   "metadata": {},
   "outputs": [],
   "source": [
    "df_lasso_processed.to_csv(data_processed+'/lasso_clean.csv', \n",
    "                        index=False, header=True, chunksize=10000)"
   ]
  },
  {
   "cell_type": "code",
   "execution_count": null,
   "metadata": {},
   "outputs": [],
   "source": []
  }
 ],
 "metadata": {
  "colab": {
   "name": "Trabajo Final Data Science G4.ipynb",
   "provenance": [],
   "toc_visible": true
  },
  "kernelspec": {
   "display_name": "Python 3",
   "language": "python",
   "name": "python3"
  },
  "language_info": {
   "codemirror_mode": {
    "name": "ipython",
    "version": 3
   },
   "file_extension": ".py",
   "mimetype": "text/x-python",
   "name": "python",
   "nbconvert_exporter": "python",
   "pygments_lexer": "ipython3",
   "version": "3.8.5"
  }
 },
 "nbformat": 4,
 "nbformat_minor": 4
}
