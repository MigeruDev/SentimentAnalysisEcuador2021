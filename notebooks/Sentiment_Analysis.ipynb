{
 "cells": [
  {
   "cell_type": "markdown",
   "metadata": {
    "colab_type": "text",
    "id": "ehNjBdcxKwCR"
   },
   "source": [
    "# **<center> Análisis de Sentimientos de los candidatos presidenciales </br> Ecuador 2021, en la red social Twitter </center>**\n",
    "<h6>\n",
    "    <center> Miguel Angel Macias, Jonnathan Campoberde <br/> \n",
    "    <i>Universidad de Cuenca <br/>  <i>Facultad de Ingenieria - Escuela de Sistemas<br/> Cuenca, Ecuador</i>\n",
    "    <br/> { mangel.maciasn, jonnathan.campoberde }@ucuenca.edu.ec</center>\n",
    "<h6>"
   ]
  },
  {
   "cell_type": "markdown",
   "metadata": {
    "colab_type": "text",
    "id": "aJY55ow_KwCV"
   },
   "source": [
    "# **I.&emsp;Introducción**\n",
    "El presente trabajo tiene como objetivo emplear de manera práctica todos los conocimientos adquiridos en el transcurso de la asignatura “Text Mining”. Se trabajará con un dataset... . Se busca analizar el ..., detectando las ... por medio de ... . Todo esto con el propósito de ... .\n",
    "\n",
    "## **1.1.&emsp;Objetivos del Proyecto**\n",
    ">El objetivo del proyecto es el Análisis de Sentimientos de los candidatos presidenciales de Ecuador 2021, para luego contrastar los resultados obtenidos con los resultados oficiales de las elecciones Posteriormente se desea responder a las preguntas definidas en 1.2.\n",
    "\n",
    "## **1.2.&emsp;Preguntas de investigación**\n",
    ">- RQ1:     ¿Qué tan precisamente los datos de Twitter reflejan el sentimiento político en un proceso electoral?\n",
    ">- RQ1:     ¿En qué grado de aceptación se encuentran los candidatos dentro de la red Social Twitter?\n",
    ">- RQ3:     ¿Los resultadso oficiales son parecidos a los hallados en nuestro análisis?\n"
   ]
  },
  {
   "cell_type": "markdown",
   "metadata": {},
   "source": [
    "# **IV.&emsp;SENTIMENT ANALYSIS**\n",
    "\n",
    "## **4.1.&emsp; Reading dataset**\n",
    ">Para este paso..."
   ]
  },
  {
   "cell_type": "code",
   "execution_count": 1,
   "metadata": {},
   "outputs": [],
   "source": [
    "import warnings\n",
    "\n",
    "import numpy as np              # Para operaciones matematicas\n",
    "import pandas as pd             # Manejo de datos / dataframes\n",
    "import seaborn as sns\n",
    "import matplotlib.pyplot as plt\n",
    "\n",
    "warnings.filterwarnings(\"ignore\")\n",
    "#%matplotlib inline"
   ]
  },
  {
   "cell_type": "code",
   "execution_count": 2,
   "metadata": {},
   "outputs": [],
   "source": [
    "data_raw = '../data/raw'              # directorio que contiene toda la data sin manipular\n",
    "data_processed = '../data/processed'  # directorio que contiene data procesada"
   ]
  },
  {
   "cell_type": "code",
   "execution_count": 3,
   "metadata": {},
   "outputs": [
    {
     "data": {
      "text/html": [
       "<div>\n",
       "<style scoped>\n",
       "    .dataframe tbody tr th:only-of-type {\n",
       "        vertical-align: middle;\n",
       "    }\n",
       "\n",
       "    .dataframe tbody tr th {\n",
       "        vertical-align: top;\n",
       "    }\n",
       "\n",
       "    .dataframe thead th {\n",
       "        text-align: right;\n",
       "    }\n",
       "</style>\n",
       "<table border=\"1\" class=\"dataframe\">\n",
       "  <thead>\n",
       "    <tr style=\"text-align: right;\">\n",
       "      <th></th>\n",
       "      <th>created_at</th>\n",
       "      <th>favorite_count</th>\n",
       "      <th>full_text</th>\n",
       "      <th>id_str</th>\n",
       "      <th>metadata.iso_language_code</th>\n",
       "      <th>retweeted_status.created_at</th>\n",
       "      <th>retweeted_status.full_text</th>\n",
       "      <th>user.created_at</th>\n",
       "      <th>user.favourites_count</th>\n",
       "      <th>user.followers_count</th>\n",
       "      <th>user.friends_count</th>\n",
       "      <th>user.id_str</th>\n",
       "      <th>user.location</th>\n",
       "      <th>user.verified</th>\n",
       "      <th>retweet_count</th>\n",
       "      <th>is_troll</th>\n",
       "      <th>sentiment_tag</th>\n",
       "      <th>sentiment_sc</th>\n",
       "    </tr>\n",
       "  </thead>\n",
       "  <tbody>\n",
       "    <tr>\n",
       "      <td>0</td>\n",
       "      <td>2021-02-01 00:00:00+00:00</td>\n",
       "      <td>1</td>\n",
       "      <td>elecciones2021ec las propuestas económicas de ...</td>\n",
       "      <td>1356029498307784705</td>\n",
       "      <td>es</td>\n",
       "      <td>NaN</td>\n",
       "      <td>NaN</td>\n",
       "      <td>2011-12-05 13:59:33+00:00</td>\n",
       "      <td>269</td>\n",
       "      <td>12756</td>\n",
       "      <td>288</td>\n",
       "      <td>429043466</td>\n",
       "      <td>Ecuador</td>\n",
       "      <td>False</td>\n",
       "      <td>0</td>\n",
       "      <td>False</td>\n",
       "      <td>Negativo</td>\n",
       "      <td>0.303537</td>\n",
       "    </tr>\n",
       "    <tr>\n",
       "      <td>1</td>\n",
       "      <td>2021-01-31 23:59:54+00:00</td>\n",
       "      <td>0</td>\n",
       "      <td>el candidato andrés arauz no aceptó responder ...</td>\n",
       "      <td>1356029470554128384</td>\n",
       "      <td>es</td>\n",
       "      <td>Sun Jan 31 15:51:12 +0000 2021</td>\n",
       "      <td>El candidato Andrés Arauz @ecuarauz no aceptó ...</td>\n",
       "      <td>2010-04-22 06:20:32+00:00</td>\n",
       "      <td>15211</td>\n",
       "      <td>1643</td>\n",
       "      <td>3233</td>\n",
       "      <td>135774682</td>\n",
       "      <td>Ombligo del mundo</td>\n",
       "      <td>False</td>\n",
       "      <td>154</td>\n",
       "      <td>False</td>\n",
       "      <td>Negativo</td>\n",
       "      <td>0.012758</td>\n",
       "    </tr>\n",
       "    <tr>\n",
       "      <td>2</td>\n",
       "      <td>2021-01-31 23:59:53+00:00</td>\n",
       "      <td>0</td>\n",
       "      <td>candidato del correísmo andrés arauz aumentó s...</td>\n",
       "      <td>1356029467274194946</td>\n",
       "      <td>es</td>\n",
       "      <td>Sun Jan 31 19:20:13 +0000 2021</td>\n",
       "      <td>Candidato del Correísmo, Andrés Arauz aumentó ...</td>\n",
       "      <td>2020-11-24 03:29:03+00:00</td>\n",
       "      <td>10157</td>\n",
       "      <td>169</td>\n",
       "      <td>163</td>\n",
       "      <td>1331077287144517634</td>\n",
       "      <td>NaN</td>\n",
       "      <td>False</td>\n",
       "      <td>387</td>\n",
       "      <td>True</td>\n",
       "      <td>Negativo</td>\n",
       "      <td>0.011175</td>\n",
       "    </tr>\n",
       "    <tr>\n",
       "      <td>3</td>\n",
       "      <td>2021-01-31 23:59:30+00:00</td>\n",
       "      <td>0</td>\n",
       "      <td>eln habría prestado $80.000 para la campaña de...</td>\n",
       "      <td>1356029369324593155</td>\n",
       "      <td>es</td>\n",
       "      <td>Sun Jan 31 16:18:52 +0000 2021</td>\n",
       "      <td>#ELN habría prestado $80.000 para la campaña d...</td>\n",
       "      <td>2010-08-20 20:40:04+00:00</td>\n",
       "      <td>2653</td>\n",
       "      <td>197</td>\n",
       "      <td>226</td>\n",
       "      <td>180914917</td>\n",
       "      <td>Quito</td>\n",
       "      <td>False</td>\n",
       "      <td>23</td>\n",
       "      <td>False</td>\n",
       "      <td>Negativo</td>\n",
       "      <td>0.404774</td>\n",
       "    </tr>\n",
       "    <tr>\n",
       "      <td>4</td>\n",
       "      <td>2021-01-31 23:59:27+00:00</td>\n",
       "      <td>0</td>\n",
       "      <td>$1 000 a 1 millón de familias ayudará a dinami...</td>\n",
       "      <td>1356029360399151105</td>\n",
       "      <td>es</td>\n",
       "      <td>Sun Jan 31 14:02:07 +0000 2021</td>\n",
       "      <td>🇪🇨$1 000 A 1 MILLÓN DE FAMILIAS AYUDARÁ A DINA...</td>\n",
       "      <td>2011-12-07 02:30:28+00:00</td>\n",
       "      <td>24781</td>\n",
       "      <td>747</td>\n",
       "      <td>1006</td>\n",
       "      <td>430359745</td>\n",
       "      <td>Guayaquil</td>\n",
       "      <td>False</td>\n",
       "      <td>12</td>\n",
       "      <td>False</td>\n",
       "      <td>Negativo</td>\n",
       "      <td>0.046922</td>\n",
       "    </tr>\n",
       "    <tr>\n",
       "      <td>...</td>\n",
       "      <td>...</td>\n",
       "      <td>...</td>\n",
       "      <td>...</td>\n",
       "      <td>...</td>\n",
       "      <td>...</td>\n",
       "      <td>...</td>\n",
       "      <td>...</td>\n",
       "      <td>...</td>\n",
       "      <td>...</td>\n",
       "      <td>...</td>\n",
       "      <td>...</td>\n",
       "      <td>...</td>\n",
       "      <td>...</td>\n",
       "      <td>...</td>\n",
       "      <td>...</td>\n",
       "      <td>...</td>\n",
       "      <td>...</td>\n",
       "      <td>...</td>\n",
       "    </tr>\n",
       "    <tr>\n",
       "      <td>12260</td>\n",
       "      <td>2021-02-01 00:09:31+00:00</td>\n",
       "      <td>0</td>\n",
       "      <td>ilustrame porque se vendían los cdrs al 40% y ...</td>\n",
       "      <td>1356031890243858433</td>\n",
       "      <td>es</td>\n",
       "      <td>NaN</td>\n",
       "      <td>NaN</td>\n",
       "      <td>2019-09-30 18:22:03+00:00</td>\n",
       "      <td>802</td>\n",
       "      <td>53</td>\n",
       "      <td>552</td>\n",
       "      <td>1178736732826734599</td>\n",
       "      <td>NaN</td>\n",
       "      <td>False</td>\n",
       "      <td>0</td>\n",
       "      <td>False</td>\n",
       "      <td>Negativo</td>\n",
       "      <td>0.001778</td>\n",
       "    </tr>\n",
       "    <tr>\n",
       "      <td>12261</td>\n",
       "      <td>2021-02-01 00:07:41+00:00</td>\n",
       "      <td>3</td>\n",
       "      <td>es imperativo que saquemos a estas ratas y más...</td>\n",
       "      <td>1356031431550631937</td>\n",
       "      <td>es</td>\n",
       "      <td>NaN</td>\n",
       "      <td>NaN</td>\n",
       "      <td>2020-12-09 16:17:04+00:00</td>\n",
       "      <td>217</td>\n",
       "      <td>34</td>\n",
       "      <td>55</td>\n",
       "      <td>1336706385728430081</td>\n",
       "      <td>Las Palmas</td>\n",
       "      <td>False</td>\n",
       "      <td>0</td>\n",
       "      <td>True</td>\n",
       "      <td>Negativo</td>\n",
       "      <td>0.008126</td>\n",
       "    </tr>\n",
       "    <tr>\n",
       "      <td>12262</td>\n",
       "      <td>2021-02-01 00:04:17+00:00</td>\n",
       "      <td>19</td>\n",
       "      <td>según consejero esto es una infracción elector...</td>\n",
       "      <td>1356030576332066816</td>\n",
       "      <td>es</td>\n",
       "      <td>NaN</td>\n",
       "      <td>NaN</td>\n",
       "      <td>2020-12-11 02:59:34+00:00</td>\n",
       "      <td>2825</td>\n",
       "      <td>2294</td>\n",
       "      <td>1766</td>\n",
       "      <td>1337230403632050176</td>\n",
       "      <td>NaN</td>\n",
       "      <td>False</td>\n",
       "      <td>17</td>\n",
       "      <td>False</td>\n",
       "      <td>Negativo</td>\n",
       "      <td>0.034966</td>\n",
       "    </tr>\n",
       "    <tr>\n",
       "      <td>12263</td>\n",
       "      <td>2021-02-01 00:01:11+00:00</td>\n",
       "      <td>321</td>\n",
       "      <td>14 años el correismo nos ha estado robando y t...</td>\n",
       "      <td>1356029796665470977</td>\n",
       "      <td>es</td>\n",
       "      <td>NaN</td>\n",
       "      <td>NaN</td>\n",
       "      <td>2020-03-30 03:57:46+00:00</td>\n",
       "      <td>22591</td>\n",
       "      <td>4451</td>\n",
       "      <td>1717</td>\n",
       "      <td>1244473781923516416</td>\n",
       "      <td>NaN</td>\n",
       "      <td>False</td>\n",
       "      <td>114</td>\n",
       "      <td>False</td>\n",
       "      <td>Negativo</td>\n",
       "      <td>0.016784</td>\n",
       "    </tr>\n",
       "    <tr>\n",
       "      <td>12264</td>\n",
       "      <td>2021-02-01 00:00:06+00:00</td>\n",
       "      <td>6</td>\n",
       "      <td>lasso nebot y bucaram gobernaron con moreno ap...</td>\n",
       "      <td>1356029522987118592</td>\n",
       "      <td>es</td>\n",
       "      <td>NaN</td>\n",
       "      <td>NaN</td>\n",
       "      <td>2013-02-03 18:05:29+00:00</td>\n",
       "      <td>98466</td>\n",
       "      <td>621</td>\n",
       "      <td>1093</td>\n",
       "      <td>1145827459</td>\n",
       "      <td>Quito, Ecuador</td>\n",
       "      <td>False</td>\n",
       "      <td>2</td>\n",
       "      <td>False</td>\n",
       "      <td>Negativo</td>\n",
       "      <td>0.035777</td>\n",
       "    </tr>\n",
       "  </tbody>\n",
       "</table>\n",
       "<p>12265 rows × 18 columns</p>\n",
       "</div>"
      ],
      "text/plain": [
       "                      created_at  favorite_count  \\\n",
       "0      2021-02-01 00:00:00+00:00               1   \n",
       "1      2021-01-31 23:59:54+00:00               0   \n",
       "2      2021-01-31 23:59:53+00:00               0   \n",
       "3      2021-01-31 23:59:30+00:00               0   \n",
       "4      2021-01-31 23:59:27+00:00               0   \n",
       "...                          ...             ...   \n",
       "12260  2021-02-01 00:09:31+00:00               0   \n",
       "12261  2021-02-01 00:07:41+00:00               3   \n",
       "12262  2021-02-01 00:04:17+00:00              19   \n",
       "12263  2021-02-01 00:01:11+00:00             321   \n",
       "12264  2021-02-01 00:00:06+00:00               6   \n",
       "\n",
       "                                               full_text               id_str  \\\n",
       "0      elecciones2021ec las propuestas económicas de ...  1356029498307784705   \n",
       "1      el candidato andrés arauz no aceptó responder ...  1356029470554128384   \n",
       "2      candidato del correísmo andrés arauz aumentó s...  1356029467274194946   \n",
       "3      eln habría prestado $80.000 para la campaña de...  1356029369324593155   \n",
       "4      $1 000 a 1 millón de familias ayudará a dinami...  1356029360399151105   \n",
       "...                                                  ...                  ...   \n",
       "12260  ilustrame porque se vendían los cdrs al 40% y ...  1356031890243858433   \n",
       "12261  es imperativo que saquemos a estas ratas y más...  1356031431550631937   \n",
       "12262  según consejero esto es una infracción elector...  1356030576332066816   \n",
       "12263  14 años el correismo nos ha estado robando y t...  1356029796665470977   \n",
       "12264  lasso nebot y bucaram gobernaron con moreno ap...  1356029522987118592   \n",
       "\n",
       "      metadata.iso_language_code     retweeted_status.created_at  \\\n",
       "0                             es                             NaN   \n",
       "1                             es  Sun Jan 31 15:51:12 +0000 2021   \n",
       "2                             es  Sun Jan 31 19:20:13 +0000 2021   \n",
       "3                             es  Sun Jan 31 16:18:52 +0000 2021   \n",
       "4                             es  Sun Jan 31 14:02:07 +0000 2021   \n",
       "...                          ...                             ...   \n",
       "12260                         es                             NaN   \n",
       "12261                         es                             NaN   \n",
       "12262                         es                             NaN   \n",
       "12263                         es                             NaN   \n",
       "12264                         es                             NaN   \n",
       "\n",
       "                              retweeted_status.full_text  \\\n",
       "0                                                    NaN   \n",
       "1      El candidato Andrés Arauz @ecuarauz no aceptó ...   \n",
       "2      Candidato del Correísmo, Andrés Arauz aumentó ...   \n",
       "3      #ELN habría prestado $80.000 para la campaña d...   \n",
       "4      🇪🇨$1 000 A 1 MILLÓN DE FAMILIAS AYUDARÁ A DINA...   \n",
       "...                                                  ...   \n",
       "12260                                                NaN   \n",
       "12261                                                NaN   \n",
       "12262                                                NaN   \n",
       "12263                                                NaN   \n",
       "12264                                                NaN   \n",
       "\n",
       "                 user.created_at  user.favourites_count  user.followers_count  \\\n",
       "0      2011-12-05 13:59:33+00:00                    269                 12756   \n",
       "1      2010-04-22 06:20:32+00:00                  15211                  1643   \n",
       "2      2020-11-24 03:29:03+00:00                  10157                   169   \n",
       "3      2010-08-20 20:40:04+00:00                   2653                   197   \n",
       "4      2011-12-07 02:30:28+00:00                  24781                   747   \n",
       "...                          ...                    ...                   ...   \n",
       "12260  2019-09-30 18:22:03+00:00                    802                    53   \n",
       "12261  2020-12-09 16:17:04+00:00                    217                    34   \n",
       "12262  2020-12-11 02:59:34+00:00                   2825                  2294   \n",
       "12263  2020-03-30 03:57:46+00:00                  22591                  4451   \n",
       "12264  2013-02-03 18:05:29+00:00                  98466                   621   \n",
       "\n",
       "       user.friends_count          user.id_str      user.location  \\\n",
       "0                     288            429043466            Ecuador   \n",
       "1                    3233            135774682  Ombligo del mundo   \n",
       "2                     163  1331077287144517634                NaN   \n",
       "3                     226            180914917              Quito   \n",
       "4                    1006            430359745          Guayaquil   \n",
       "...                   ...                  ...                ...   \n",
       "12260                 552  1178736732826734599                NaN   \n",
       "12261                  55  1336706385728430081         Las Palmas   \n",
       "12262                1766  1337230403632050176                NaN   \n",
       "12263                1717  1244473781923516416                NaN   \n",
       "12264                1093           1145827459     Quito, Ecuador   \n",
       "\n",
       "       user.verified  retweet_count  is_troll sentiment_tag  sentiment_sc  \n",
       "0              False              0     False      Negativo      0.303537  \n",
       "1              False            154     False      Negativo      0.012758  \n",
       "2              False            387      True      Negativo      0.011175  \n",
       "3              False             23     False      Negativo      0.404774  \n",
       "4              False             12     False      Negativo      0.046922  \n",
       "...              ...            ...       ...           ...           ...  \n",
       "12260          False              0     False      Negativo      0.001778  \n",
       "12261          False              0      True      Negativo      0.008126  \n",
       "12262          False             17     False      Negativo      0.034966  \n",
       "12263          False            114     False      Negativo      0.016784  \n",
       "12264          False              2     False      Negativo      0.035777  \n",
       "\n",
       "[12265 rows x 18 columns]"
      ]
     },
     "execution_count": 3,
     "metadata": {},
     "output_type": "execute_result"
    }
   ],
   "source": [
    "df_arauz_tag = pd.read_csv(data_processed+\"/arauz_tag.csv\")\n",
    "df_arauz_tag"
   ]
  },
  {
   "cell_type": "markdown",
   "metadata": {},
   "source": [
    "## **4.2.&emsp; Exploratory Data Analysis**\n",
    ">Para este paso..."
   ]
  },
  {
   "cell_type": "code",
   "execution_count": 14,
   "metadata": {},
   "outputs": [
    {
     "data": {
      "image/png": "[encoded data removed]",
      "text/plain": [
       "<Figure size 420.625x360 with 1 Axes>"
      ]
     },
     "metadata": {},
     "output_type": "display_data"
    }
   ],
   "source": [
    "sns.set_style('darkgrid')\n",
    "fig, ax = plt.subplots(figsize=(12, 9))\n",
    "g = sns.displot(df_arauz_tag, x=\"sentiment_sc\", bins=10,\n",
    "                hue=\"is_troll\", stat=\"density\", ax=ax)\n",
    "plt.close(1)\n",
    "plt.show()"
   ]
  },
  {
   "cell_type": "code",
   "execution_count": 37,
   "metadata": {},
   "outputs": [
    {
     "data": {
      "text/plain": [
       "1    661\n",
       "0    383\n",
       "Name: class, dtype: int64"
      ]
     },
     "execution_count": 37,
     "metadata": {},
     "output_type": "execute_result"
    }
   ],
   "source": [
    "df_students['class'].value_counts()"
   ]
  },
  {
   "cell_type": "code",
   "execution_count": 55,
   "metadata": {},
   "outputs": [
    {
     "data": {
      "image/png": "[encoded data removed]",
      "text/plain": [
       "<Figure size 432x288 with 1 Axes>"
      ]
     },
     "metadata": {
      "needs_background": "light"
     },
     "output_type": "display_data"
    }
   ],
   "source": [
    "sns.countplot(x=\"sentiment_tag\", data=df_arauz_ndp)\n",
    "plt.show()"
   ]
  },
  {
   "cell_type": "code",
   "execution_count": null,
   "metadata": {},
   "outputs": [],
   "source": []
  },
  {
   "cell_type": "code",
   "execution_count": null,
   "metadata": {},
   "outputs": [],
   "source": []
  },
  {
   "cell_type": "code",
   "execution_count": 12,
   "metadata": {},
   "outputs": [],
   "source": [
    "# importing the required library\n",
    " \n",
    "import seaborn as sns\n",
    "import matplotlib.pyplot as plt"
   ]
  },
  {
   "cell_type": "code",
   "execution_count": 15,
   "metadata": {},
   "outputs": [
    {
     "data": {
      "image/png": "[encoded data removed]",
      "text/plain": [
       "<Figure size 432x288 with 1 Axes>"
      ]
     },
     "metadata": {
      "needs_background": "light"
     },
     "output_type": "display_data"
    }
   ],
   "source": [
    "sns.countplot(x=\"is_troll\", data=df_arauz_processed)\n",
    "plt.show()"
   ]
  },
  {
   "cell_type": "code",
   "execution_count": 16,
   "metadata": {},
   "outputs": [
    {
     "data": {
      "text/plain": [
       "False    10636\n",
       "True      1671\n",
       "Name: is_troll, dtype: int64"
      ]
     },
     "execution_count": 16,
     "metadata": {},
     "output_type": "execute_result"
    }
   ],
   "source": [
    "df_arauz_processed['is_troll'].value_counts()"
   ]
  },
  {
   "cell_type": "code",
   "execution_count": null,
   "metadata": {},
   "outputs": [],
   "source": []
  },
  {
   "cell_type": "code",
   "execution_count": null,
   "metadata": {},
   "outputs": [],
   "source": []
  },
  {
   "cell_type": "markdown",
   "metadata": {},
   "source": [
    "## **2.2.&emsp; Import**\n",
    ">Comenzamos importando todas las herramientas que vamos a utilizar para la exploración y manejo de datos. Se cargan en memoria 5 tablas .csv sin manipular y 2 tablas .csv previamente tratadas."
   ]
  },
  {
   "cell_type": "code",
   "execution_count": 1,
   "metadata": {
    "colab": {},
    "colab_type": "code",
    "id": "ePTs38dpKwCW"
   },
   "outputs": [],
   "source": [
    "import numpy as np              # Para operaciones matematicas\n",
    "import pandas as pd             # Manejo de datos / dataframes\n",
    "from sys import getsizeof       # Operaciones de sistema\n",
    "%matplotlib inline"
   ]
  },
  {
   "cell_type": "code",
   "execution_count": 2,
   "metadata": {
    "colab": {
     "base_uri": "https://localhost:8080/",
     "height": 455
    },
    "colab_type": "code",
    "executionInfo": {
     "elapsed": 779,
     "status": "error",
     "timestamp": 1580919934538,
     "user": {
      "displayName": "MIGUEL ANGEL MACIAS NARVAEZ",
      "photoUrl": "https://lh3.googleusercontent.com/a-/AAuE7mCqGFLQGHy5LwUESYdzxhNuN_QOH8-eJxo-B3No=s64",
      "userId": "03083191490277251715"
     },
     "user_tz": 300
    },
    "id": "VqSaosMrKwCe",
    "outputId": "449908b4-0997-42d3-ceb6-770624c66879"
   },
   "outputs": [],
   "source": [
    "data_raw = '../data/raw'              # directorio que contiene toda la data sin manipular\n",
    "data_processed = '../data/processed'  # directorio que contiene data procesada"
   ]
  },
  {
   "cell_type": "markdown",
   "metadata": {},
   "source": [
    "## **2.3.&emsp;Manipulacion de la data**\n",
    ">Una vez que cargamos el data con el que vamos a trabajar, procedemos a inspeccionarlos en busca de datos faltantes."
   ]
  },
  {
   "cell_type": "code",
   "execution_count": 32,
   "metadata": {},
   "outputs": [],
   "source": [
    "# Convertimos las variables categoricas a numericas\n",
    "df_students[O_columns] = df_students[O_columns].apply(lambda x: x.cat.codes)"
   ]
  },
  {
   "cell_type": "markdown",
   "metadata": {},
   "source": [
    "## **2.4.&emsp;Visualizacion de la data**\n",
    ">Observamos el estado actual de los datos a traves de graficos."
   ]
  },
  {
   "cell_type": "code",
   "execution_count": 34,
   "metadata": {},
   "outputs": [],
   "source": [
    "import seaborn as sns                  # Para visualizacion\n",
    "import matplotlib.pyplot as plt        # Para visualizacion\n",
    "from IPython.display import Image      # Para mostrar imagenes"
   ]
  },
  {
   "cell_type": "code",
   "execution_count": null,
   "metadata": {},
   "outputs": [],
   "source": []
  },
  {
   "cell_type": "code",
   "execution_count": null,
   "metadata": {},
   "outputs": [],
   "source": []
  },
  {
   "cell_type": "code",
   "execution_count": null,
   "metadata": {},
   "outputs": [],
   "source": []
  },
  {
   "cell_type": "code",
   "execution_count": null,
   "metadata": {},
   "outputs": [],
   "source": []
  },
  {
   "cell_type": "code",
   "execution_count": null,
   "metadata": {},
   "outputs": [],
   "source": []
  },
  {
   "cell_type": "code",
   "execution_count": 49,
   "metadata": {},
   "outputs": [],
   "source": [
    "df_students.to_csv(data_processed+'/df_students.csv', \n",
    "                        index=False, header=True, chunksize=100000)"
   ]
  },
  {
   "cell_type": "code",
   "execution_count": null,
   "metadata": {},
   "outputs": [],
   "source": []
  }
 ],
 "metadata": {
  "colab": {
   "name": "Trabajo Final Data Science G4.ipynb",
   "provenance": [],
   "toc_visible": true
  },
  "kernelspec": {
   "display_name": "darlin",
   "language": "python",
   "name": "darlin"
  },
  "language_info": {
   "codemirror_mode": {
    "name": "ipython",
    "version": 3
   },
   "file_extension": ".py",
   "mimetype": "text/x-python",
   "name": "python",
   "nbconvert_exporter": "python",
   "pygments_lexer": "ipython3",
   "version": "3.7.0"
  }
 },
 "nbformat": 4,
 "nbformat_minor": 4
}
