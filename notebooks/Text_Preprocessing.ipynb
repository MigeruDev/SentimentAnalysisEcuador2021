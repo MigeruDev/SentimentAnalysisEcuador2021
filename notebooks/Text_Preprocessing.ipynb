{
 "cells": [
  {
   "cell_type": "markdown",
   "metadata": {
    "colab_type": "text",
    "id": "ehNjBdcxKwCR"
   },
   "source": [
    "# **<center> Análisis de Sentimientos de los candidatos presidenciales </br> Ecuador 2021, en la red social Twitter </center>**\n",
    "<h6>\n",
    "    <center> Miguel Angel Macias, Jonnathan Campoberde <br/> \n",
    "    <i>Universidad de Cuenca <br/>  <i>Facultad de Ingenieria - Escuela de Sistemas<br/> Cuenca, Ecuador</i>\n",
    "    <br/> { mangel.maciasn, jonnathan.campoberde }@ucuenca.edu.ec</center>\n",
    "<h6>"
   ]
  },
  {
   "cell_type": "markdown",
   "metadata": {
    "colab_type": "text",
    "id": "aJY55ow_KwCV"
   },
   "source": [
    "# **I.&emsp;Introducción**\n",
    "El presente trabajo tiene como objetivo emplear de manera práctica todos los conocimientos adquiridos en el transcurso de la asignatura “Text Mining”. Se trabajará con un dataset... . Se busca analizar el ..., detectando las ... por medio de ... . Todo esto con el propósito de ... .\n",
    "\n",
    "## **1.1.&emsp;Objetivos del Proyecto**\n",
    ">El objetivo del proyecto es el Análisis de Sentimientos de los candidatos presidenciales de Ecuador 2021, para luego contrastar los resultados obtenidos con los resultados oficiales de las elecciones Posteriormente se desea responder a las preguntas definidas en 1.2.\n",
    "\n",
    "## **1.2.&emsp;Preguntas de investigación**\n",
    ">- RQ1:     ¿Qué tan precisamente los datos de Twitter reflejan el sentimiento político en un proceso electoral?\n",
    ">- RQ1:     ¿En qué grado de aceptación se encuentran los candidatos dentro de la red Social Twitter?\n",
    ">- RQ3:     ¿Los resultadso oficiales son parecidos a los hallados en nuestro análisis?\n"
   ]
  },
  {
   "cell_type": "markdown",
   "metadata": {},
   "source": [
    "# **II.&emsp;TEXT CLEANING**\n",
    "\n",
    "## **2.1.&emsp; Reading dataset**\n",
    ">Para este paso..."
   ]
  },
  {
   "cell_type": "code",
   "execution_count": 1,
   "metadata": {},
   "outputs": [],
   "source": [
    "#!pip install emoji"
   ]
  },
  {
   "cell_type": "code",
   "execution_count": 2,
   "metadata": {},
   "outputs": [],
   "source": [
    "import warnings\n",
    "warnings.filterwarnings(\"ignore\")\n",
    "\n",
    "#from datetime import datetime, timezone\n",
    "import pytz\n",
    "import numpy as np              # Para operaciones matematicas\n",
    "import pandas as pd             # Manejo de datos / dataframes\n",
    "import re\n",
    "import emoji\n",
    "from nltk.tokenize import RegexpTokenizer\n",
    "from nltk.corpus import stopwords\n",
    "from nltk.tokenize import word_tokenize \n",
    "from nltk.stem import PorterStemmer\n",
    "%matplotlib inline"
   ]
  },
  {
   "cell_type": "code",
   "execution_count": 3,
   "metadata": {},
   "outputs": [],
   "source": [
    "data_raw = '../data/raw'              # directorio que contiene toda la data sin manipular\n",
    "data_processed = '../data/processed'  # directorio que contiene data procesada"
   ]
  },
  {
   "cell_type": "code",
   "execution_count": 4,
   "metadata": {},
   "outputs": [
    {
     "data": {
      "text/html": [
       "<div>\n",
       "<style scoped>\n",
       "    .dataframe tbody tr th:only-of-type {\n",
       "        vertical-align: middle;\n",
       "    }\n",
       "\n",
       "    .dataframe tbody tr th {\n",
       "        vertical-align: top;\n",
       "    }\n",
       "\n",
       "    .dataframe thead th {\n",
       "        text-align: right;\n",
       "    }\n",
       "</style>\n",
       "<table border=\"1\" class=\"dataframe\">\n",
       "  <thead>\n",
       "    <tr style=\"text-align: right;\">\n",
       "      <th></th>\n",
       "      <th>created_at</th>\n",
       "      <th>favorite_count</th>\n",
       "      <th>full_text</th>\n",
       "      <th>id_str</th>\n",
       "      <th>metadata.iso_language_code</th>\n",
       "      <th>retweeted_status.created_at</th>\n",
       "      <th>retweeted_status.full_text</th>\n",
       "      <th>user.created_at</th>\n",
       "      <th>user.favourites_count</th>\n",
       "      <th>user.followers_count</th>\n",
       "      <th>user.friends_count</th>\n",
       "      <th>user.id_str</th>\n",
       "      <th>user.location</th>\n",
       "      <th>user.verified</th>\n",
       "      <th>retweet_count</th>\n",
       "    </tr>\n",
       "  </thead>\n",
       "  <tbody>\n",
       "    <tr>\n",
       "      <td>0</td>\n",
       "      <td>2021-02-01 00:00:00+00:00</td>\n",
       "      <td>1</td>\n",
       "      <td>#Elecciones2021Ec | ¿Las propuestas económicas...</td>\n",
       "      <td>1356029498307784705</td>\n",
       "      <td>es</td>\n",
       "      <td>NaN</td>\n",
       "      <td>NaN</td>\n",
       "      <td>2011-12-05 13:59:33+00:00</td>\n",
       "      <td>269</td>\n",
       "      <td>12756</td>\n",
       "      <td>288</td>\n",
       "      <td>429043466</td>\n",
       "      <td>Ecuador</td>\n",
       "      <td>False</td>\n",
       "      <td>0</td>\n",
       "    </tr>\n",
       "    <tr>\n",
       "      <td>1</td>\n",
       "      <td>2021-01-31 23:59:54+00:00</td>\n",
       "      <td>0</td>\n",
       "      <td>RT @carlosrojasecu: El candidato Andrés Arauz ...</td>\n",
       "      <td>1356029470554128384</td>\n",
       "      <td>es</td>\n",
       "      <td>Sun Jan 31 15:51:12 +0000 2021</td>\n",
       "      <td>El candidato Andrés Arauz @ecuarauz no aceptó ...</td>\n",
       "      <td>2010-04-22 06:20:32+00:00</td>\n",
       "      <td>15211</td>\n",
       "      <td>1643</td>\n",
       "      <td>3233</td>\n",
       "      <td>135774682</td>\n",
       "      <td>Ombligo del mundo</td>\n",
       "      <td>False</td>\n",
       "      <td>154</td>\n",
       "    </tr>\n",
       "    <tr>\n",
       "      <td>2</td>\n",
       "      <td>2021-01-31 23:59:53+00:00</td>\n",
       "      <td>0</td>\n",
       "      <td>RT @VTVcanal8: Candidato del Correísmo, Andrés...</td>\n",
       "      <td>1356029467274194946</td>\n",
       "      <td>es</td>\n",
       "      <td>Sun Jan 31 19:20:13 +0000 2021</td>\n",
       "      <td>Candidato del Correísmo, Andrés Arauz aumentó ...</td>\n",
       "      <td>2020-11-24 03:29:03+00:00</td>\n",
       "      <td>10157</td>\n",
       "      <td>169</td>\n",
       "      <td>163</td>\n",
       "      <td>1331077287144517634</td>\n",
       "      <td>NaN</td>\n",
       "      <td>False</td>\n",
       "      <td>387</td>\n",
       "    </tr>\n",
       "    <tr>\n",
       "      <td>3</td>\n",
       "      <td>2021-01-31 23:59:48+00:00</td>\n",
       "      <td>0</td>\n",
       "      <td>RT @VTVcanal8: Candidato del Correísmo, Andrés...</td>\n",
       "      <td>1356029444817776641</td>\n",
       "      <td>es</td>\n",
       "      <td>Sun Jan 31 19:20:13 +0000 2021</td>\n",
       "      <td>Candidato del Correísmo, Andrés Arauz aumentó ...</td>\n",
       "      <td>2020-09-02 18:22:54+00:00</td>\n",
       "      <td>17</td>\n",
       "      <td>270</td>\n",
       "      <td>247</td>\n",
       "      <td>1301224047850721281</td>\n",
       "      <td>venezuela caracas</td>\n",
       "      <td>False</td>\n",
       "      <td>387</td>\n",
       "    </tr>\n",
       "    <tr>\n",
       "      <td>4</td>\n",
       "      <td>2021-01-31 23:59:30+00:00</td>\n",
       "      <td>0</td>\n",
       "      <td>RT @ecuadorenvivo: #ELN habría prestado $80.00...</td>\n",
       "      <td>1356029369324593155</td>\n",
       "      <td>es</td>\n",
       "      <td>Sun Jan 31 16:18:52 +0000 2021</td>\n",
       "      <td>#ELN habría prestado $80.000 para la campaña d...</td>\n",
       "      <td>2010-08-20 20:40:04+00:00</td>\n",
       "      <td>2653</td>\n",
       "      <td>197</td>\n",
       "      <td>226</td>\n",
       "      <td>180914917</td>\n",
       "      <td>Quito</td>\n",
       "      <td>False</td>\n",
       "      <td>23</td>\n",
       "    </tr>\n",
       "    <tr>\n",
       "      <td>...</td>\n",
       "      <td>...</td>\n",
       "      <td>...</td>\n",
       "      <td>...</td>\n",
       "      <td>...</td>\n",
       "      <td>...</td>\n",
       "      <td>...</td>\n",
       "      <td>...</td>\n",
       "      <td>...</td>\n",
       "      <td>...</td>\n",
       "      <td>...</td>\n",
       "      <td>...</td>\n",
       "      <td>...</td>\n",
       "      <td>...</td>\n",
       "      <td>...</td>\n",
       "      <td>...</td>\n",
       "    </tr>\n",
       "    <tr>\n",
       "      <td>133334</td>\n",
       "      <td>2021-02-01 00:01:08+00:00</td>\n",
       "      <td>0</td>\n",
       "      <td>RT @politikcorrecta: El candidato por @cendemo...</td>\n",
       "      <td>1356029780018294787</td>\n",
       "      <td>es</td>\n",
       "      <td>Sun Jan 31 15:31:00 +0000 2021</td>\n",
       "      <td>El candidato por @cendemocratico, Andrés Arauz...</td>\n",
       "      <td>2017-10-02 00:43:11+00:00</td>\n",
       "      <td>125237</td>\n",
       "      <td>307</td>\n",
       "      <td>740</td>\n",
       "      <td>914651941912883201</td>\n",
       "      <td>Pichincha, Ecuador</td>\n",
       "      <td>False</td>\n",
       "      <td>270</td>\n",
       "    </tr>\n",
       "    <tr>\n",
       "      <td>133335</td>\n",
       "      <td>2021-02-01 00:00:44+00:00</td>\n",
       "      <td>0</td>\n",
       "      <td>RT @CarlosP05340289: Pelearse con tus amigos p...</td>\n",
       "      <td>1356029680277741571</td>\n",
       "      <td>es</td>\n",
       "      <td>Sun Jan 31 22:05:36 +0000 2021</td>\n",
       "      <td>Pelearse con tus amigos por política es lo más...</td>\n",
       "      <td>2010-03-18 23:52:39+00:00</td>\n",
       "      <td>9129</td>\n",
       "      <td>395</td>\n",
       "      <td>839</td>\n",
       "      <td>124306327</td>\n",
       "      <td>Switzerland</td>\n",
       "      <td>False</td>\n",
       "      <td>191</td>\n",
       "    </tr>\n",
       "    <tr>\n",
       "      <td>133336</td>\n",
       "      <td>2021-02-01 00:00:23+00:00</td>\n",
       "      <td>0</td>\n",
       "      <td>RT @ErmelRosario: 🇪🇨POR MI LINDO ECUADOR, SOLO...</td>\n",
       "      <td>1356029594864934916</td>\n",
       "      <td>es</td>\n",
       "      <td>Sun Jan 31 15:05:16 +0000 2021</td>\n",
       "      <td>🇪🇨POR MI LINDO ECUADOR, SOLO 1 VUELTA, VOTA TO...</td>\n",
       "      <td>2013-09-16 19:39:40+00:00</td>\n",
       "      <td>26502</td>\n",
       "      <td>403</td>\n",
       "      <td>496</td>\n",
       "      <td>1872797210</td>\n",
       "      <td>NaN</td>\n",
       "      <td>False</td>\n",
       "      <td>9</td>\n",
       "    </tr>\n",
       "    <tr>\n",
       "      <td>133337</td>\n",
       "      <td>2021-02-01 00:00:21+00:00</td>\n",
       "      <td>0</td>\n",
       "      <td>RT @petrogustavo: Intentan por todos los medio...</td>\n",
       "      <td>1356029583942971395</td>\n",
       "      <td>es</td>\n",
       "      <td>Sat Jan 30 10:12:43 +0000 2021</td>\n",
       "      <td>Intentan por todos los medios impedir la victo...</td>\n",
       "      <td>2012-06-16 17:39:50+00:00</td>\n",
       "      <td>26931</td>\n",
       "      <td>232</td>\n",
       "      <td>38</td>\n",
       "      <td>610235412</td>\n",
       "      <td>NaN</td>\n",
       "      <td>False</td>\n",
       "      <td>1557</td>\n",
       "    </tr>\n",
       "    <tr>\n",
       "      <td>133338</td>\n",
       "      <td>2021-02-01 00:00:06+00:00</td>\n",
       "      <td>6</td>\n",
       "      <td>@larryyumibandam @MashiRafael @La6Ecuador @Las...</td>\n",
       "      <td>1356029522987118592</td>\n",
       "      <td>es</td>\n",
       "      <td>NaN</td>\n",
       "      <td>NaN</td>\n",
       "      <td>2013-02-03 18:05:29+00:00</td>\n",
       "      <td>98466</td>\n",
       "      <td>621</td>\n",
       "      <td>1093</td>\n",
       "      <td>1145827459</td>\n",
       "      <td>Quito, Ecuador</td>\n",
       "      <td>False</td>\n",
       "      <td>2</td>\n",
       "    </tr>\n",
       "  </tbody>\n",
       "</table>\n",
       "<p>133339 rows × 15 columns</p>\n",
       "</div>"
      ],
      "text/plain": [
       "                      created_at  favorite_count  \\\n",
       "0      2021-02-01 00:00:00+00:00               1   \n",
       "1      2021-01-31 23:59:54+00:00               0   \n",
       "2      2021-01-31 23:59:53+00:00               0   \n",
       "3      2021-01-31 23:59:48+00:00               0   \n",
       "4      2021-01-31 23:59:30+00:00               0   \n",
       "...                          ...             ...   \n",
       "133334 2021-02-01 00:01:08+00:00               0   \n",
       "133335 2021-02-01 00:00:44+00:00               0   \n",
       "133336 2021-02-01 00:00:23+00:00               0   \n",
       "133337 2021-02-01 00:00:21+00:00               0   \n",
       "133338 2021-02-01 00:00:06+00:00               6   \n",
       "\n",
       "                                                full_text  \\\n",
       "0       #Elecciones2021Ec | ¿Las propuestas económicas...   \n",
       "1       RT @carlosrojasecu: El candidato Andrés Arauz ...   \n",
       "2       RT @VTVcanal8: Candidato del Correísmo, Andrés...   \n",
       "3       RT @VTVcanal8: Candidato del Correísmo, Andrés...   \n",
       "4       RT @ecuadorenvivo: #ELN habría prestado $80.00...   \n",
       "...                                                   ...   \n",
       "133334  RT @politikcorrecta: El candidato por @cendemo...   \n",
       "133335  RT @CarlosP05340289: Pelearse con tus amigos p...   \n",
       "133336  RT @ErmelRosario: 🇪🇨POR MI LINDO ECUADOR, SOLO...   \n",
       "133337  RT @petrogustavo: Intentan por todos los medio...   \n",
       "133338  @larryyumibandam @MashiRafael @La6Ecuador @Las...   \n",
       "\n",
       "                     id_str metadata.iso_language_code  \\\n",
       "0       1356029498307784705                         es   \n",
       "1       1356029470554128384                         es   \n",
       "2       1356029467274194946                         es   \n",
       "3       1356029444817776641                         es   \n",
       "4       1356029369324593155                         es   \n",
       "...                     ...                        ...   \n",
       "133334  1356029780018294787                         es   \n",
       "133335  1356029680277741571                         es   \n",
       "133336  1356029594864934916                         es   \n",
       "133337  1356029583942971395                         es   \n",
       "133338  1356029522987118592                         es   \n",
       "\n",
       "           retweeted_status.created_at  \\\n",
       "0                                  NaN   \n",
       "1       Sun Jan 31 15:51:12 +0000 2021   \n",
       "2       Sun Jan 31 19:20:13 +0000 2021   \n",
       "3       Sun Jan 31 19:20:13 +0000 2021   \n",
       "4       Sun Jan 31 16:18:52 +0000 2021   \n",
       "...                                ...   \n",
       "133334  Sun Jan 31 15:31:00 +0000 2021   \n",
       "133335  Sun Jan 31 22:05:36 +0000 2021   \n",
       "133336  Sun Jan 31 15:05:16 +0000 2021   \n",
       "133337  Sat Jan 30 10:12:43 +0000 2021   \n",
       "133338                             NaN   \n",
       "\n",
       "                               retweeted_status.full_text  \\\n",
       "0                                                     NaN   \n",
       "1       El candidato Andrés Arauz @ecuarauz no aceptó ...   \n",
       "2       Candidato del Correísmo, Andrés Arauz aumentó ...   \n",
       "3       Candidato del Correísmo, Andrés Arauz aumentó ...   \n",
       "4       #ELN habría prestado $80.000 para la campaña d...   \n",
       "...                                                   ...   \n",
       "133334  El candidato por @cendemocratico, Andrés Arauz...   \n",
       "133335  Pelearse con tus amigos por política es lo más...   \n",
       "133336  🇪🇨POR MI LINDO ECUADOR, SOLO 1 VUELTA, VOTA TO...   \n",
       "133337  Intentan por todos los medios impedir la victo...   \n",
       "133338                                                NaN   \n",
       "\n",
       "                 user.created_at  user.favourites_count  user.followers_count  \\\n",
       "0      2011-12-05 13:59:33+00:00                    269                 12756   \n",
       "1      2010-04-22 06:20:32+00:00                  15211                  1643   \n",
       "2      2020-11-24 03:29:03+00:00                  10157                   169   \n",
       "3      2020-09-02 18:22:54+00:00                     17                   270   \n",
       "4      2010-08-20 20:40:04+00:00                   2653                   197   \n",
       "...                          ...                    ...                   ...   \n",
       "133334 2017-10-02 00:43:11+00:00                 125237                   307   \n",
       "133335 2010-03-18 23:52:39+00:00                   9129                   395   \n",
       "133336 2013-09-16 19:39:40+00:00                  26502                   403   \n",
       "133337 2012-06-16 17:39:50+00:00                  26931                   232   \n",
       "133338 2013-02-03 18:05:29+00:00                  98466                   621   \n",
       "\n",
       "        user.friends_count          user.id_str       user.location  \\\n",
       "0                      288            429043466             Ecuador   \n",
       "1                     3233            135774682   Ombligo del mundo   \n",
       "2                      163  1331077287144517634                 NaN   \n",
       "3                      247  1301224047850721281   venezuela caracas   \n",
       "4                      226            180914917               Quito   \n",
       "...                    ...                  ...                 ...   \n",
       "133334                 740   914651941912883201  Pichincha, Ecuador   \n",
       "133335                 839            124306327         Switzerland   \n",
       "133336                 496           1872797210                 NaN   \n",
       "133337                  38            610235412                 NaN   \n",
       "133338                1093           1145827459      Quito, Ecuador   \n",
       "\n",
       "        user.verified  retweet_count  \n",
       "0               False              0  \n",
       "1               False            154  \n",
       "2               False            387  \n",
       "3               False            387  \n",
       "4               False             23  \n",
       "...               ...            ...  \n",
       "133334          False            270  \n",
       "133335          False            191  \n",
       "133336          False              9  \n",
       "133337          False           1557  \n",
       "133338          False              2  \n",
       "\n",
       "[133339 rows x 15 columns]"
      ]
     },
     "execution_count": 4,
     "metadata": {},
     "output_type": "execute_result"
    }
   ],
   "source": [
    "df_arauz = pd.read_csv(data_raw+\"/all_tweets_arauz.csv\")\n",
    "df_arauz['created_at'] = pd.to_datetime(df_arauz['created_at'], utc=pytz.UTC)\n",
    "df_arauz['user.created_at'] = pd.to_datetime(df_arauz['user.created_at'], utc=pytz.UTC)\n",
    "df_arauz"
   ]
  },
  {
   "cell_type": "markdown",
   "metadata": {},
   "source": [
    "## **2.2.&emsp; Removing Duplicates**\n",
    ">lorem ipsum"
   ]
  },
  {
   "cell_type": "code",
   "execution_count": 5,
   "metadata": {},
   "outputs": [
    {
     "data": {
      "text/plain": [
       "121032"
      ]
     },
     "execution_count": 5,
     "metadata": {},
     "output_type": "execute_result"
    }
   ],
   "source": [
    "# Count duplicates\n",
    "len(df_arauz['full_text'])-len(df_arauz['full_text'].drop_duplicates())"
   ]
  },
  {
   "cell_type": "code",
   "execution_count": 6,
   "metadata": {},
   "outputs": [],
   "source": [
    "df_arauz_processed = df_arauz.drop_duplicates( ['full_text'], keep='first')"
   ]
  },
  {
   "cell_type": "code",
   "execution_count": 7,
   "metadata": {},
   "outputs": [
    {
     "data": {
      "text/plain": [
       "12307"
      ]
     },
     "execution_count": 7,
     "metadata": {},
     "output_type": "execute_result"
    }
   ],
   "source": [
    "len(df_arauz_processed['full_text'])"
   ]
  },
  {
   "cell_type": "markdown",
   "metadata": {},
   "source": [
    "## **2.3.&emsp; Identify tweets by trolls**\n",
    ">Lorem ipsum"
   ]
  },
  {
   "cell_type": "code",
   "execution_count": 8,
   "metadata": {},
   "outputs": [],
   "source": [
    "def is_troll(Dt, Dc, Fc, fc, v):\n",
    "    '''\n",
    "    ----------------------------------\n",
    "    | Variable Description           |\n",
    "    ----------------------------------\n",
    "    | Dt  stands for Date Tweet      |\n",
    "    | Dc  stands for Date creation   |\n",
    "    | Fc  stands for Followers count |\n",
    "    | fc  stands for friend count    |\n",
    "    | v   stands for verified        |\n",
    "    ----------------------------------\n",
    "    | Weight penalization            |\n",
    "    ----------------------------------\n",
    "    | Timeliness metric:  WD = 0.7   |\n",
    "    | Followers metric:   WF = 0.2   |\n",
    "    | Following metric:   Wf = 0.1   |\n",
    "    ----------------------------------\n",
    "    | Acceptance Threshold           |\n",
    "    ----------------------------------\n",
    "    | Non Troll   > 0.8              |\n",
    "    | Troll       < 0.8              |\n",
    "    ----------------------------------\n",
    "    '''\n",
    "    # If user is verified then is a real person\n",
    "    if v:\n",
    "        return True\n",
    "    else:\n",
    "\n",
    "        threshold = 0.7*((Dt-Dc).days)/180 + 0.2*(Fc/250) + 0.1*(fc/300)\n",
    "\n",
    "        return threshold < 0.8\n"
   ]
  },
  {
   "cell_type": "code",
   "execution_count": 9,
   "metadata": {},
   "outputs": [],
   "source": [
    "df_arauz_processed['is_troll'] = df_arauz_processed.apply(lambda x: is_troll(x['created_at'],\n",
    "                                                         x['user.created_at'],\n",
    "                                                         x['user.followers_count'],\n",
    "                                                         x['user.friends_count'],\n",
    "                                                         x['user.verified']), axis=1)\n",
    "# Se excluyen tweets trolls del dataset\n",
    "#df_arauz_clean = df_arauz_processed[df_arauz_processed['is_troll']==False]"
   ]
  },
  {
   "cell_type": "markdown",
   "metadata": {},
   "source": [
    "## **2.4.&emsp; Removing characters and Specific Stopwords**\n",
    ">lorem ipsum"
   ]
  },
  {
   "cell_type": "code",
   "execution_count": 10,
   "metadata": {},
   "outputs": [],
   "source": [
    "def clean_text(text):\n",
    "    \"\"\"Function to clean text extracted from the Internet with html tags\n",
    "    \n",
    "    Parameters\n",
    "    ----------\n",
    "    text: str \n",
    "      original string\n",
    "    \n",
    "    Return\n",
    "    ------\n",
    "    text: str\n",
    "      modified initial string\n",
    "    \"\"\"\n",
    "\n",
    "    text = text.lower() # lowercase text\n",
    "    text = re.sub(r\"(?:\\@|http?\\://|https?\\://|www)\\S+\", \"\", text) #Remove http links\n",
    "    text = EMOJI.sub(r'', text)\n",
    "    text = REPLACE_BY_SPACE_RE.sub(' ', text) # replace REPLACE_BY_SPACE_RE symbols by space in text\n",
    "    text = ' '.join(word for word in text.split() if word not in STOPWORDS) # delete stopwors from text\n",
    "    return text"
   ]
  },
  {
   "cell_type": "code",
   "execution_count": 11,
   "metadata": {
    "tags": []
   },
   "outputs": [],
   "source": [
    "# filtrado de caracteres y stopwords\n",
    "REPLACE_BY_SPACE_RE = re.compile('[/(){}\\[\\]\\|@#:,;¿?!¡-]')\n",
    "EMOJI = re.compile(\"[\"\n",
    "                               u\"\\U0001F600-\\U0001F64F\"  # emoticons\n",
    "                               u\"\\U0001F300-\\U0001F5FF\"  # symbols & pictographs\n",
    "                               u\"\\U0001F680-\\U0001F6FF\"  # transport & map symbols\n",
    "                               u\"\\U0001F1E0-\\U0001F1FF\"  # flags (iOS)\n",
    "                               u\"\\U00002500-\\U00002BEF\"  # chinese char\n",
    "                               u\"\\U00002702-\\U000027B0\"\n",
    "                               u\"\\U00002702-\\U000027B0\"\n",
    "                               u\"\\U000024C2-\\U0001F251\"\n",
    "                               u\"\\U0001f926-\\U0001f937\"\n",
    "                               u\"\\U00010000-\\U0010ffff\"\n",
    "                               u\"\\u2640-\\u2642\"\n",
    "                               u\"\\u2600-\\u2B55\"\n",
    "                               u\"\\u200d\"\n",
    "                               u\"\\u23cf\"\n",
    "                               u\"\\u23e9\"\n",
    "                               u\"\\u231a\"\n",
    "                               u\"\\ufe0f\"  # dingbats\n",
    "                               u\"\\u3030\"\n",
    "                               \"]+\", flags=re.UNICODE)\n",
    "\n",
    "STOPWORDS = ('rt')  # Adding new stopwords to the set, 'cause theese words repeat in all docs\n",
    "\n",
    "df_arauz_processed['full_text'] = df_arauz_processed[\"full_text\"].apply(clean_text)"
   ]
  },
  {
   "cell_type": "markdown",
   "metadata": {},
   "source": [
    "### _Luego de remover los caracteres especiales pueden existir Tweets vacios, debido a que estos solo contenian emotes o enlaces en su interior. Es por esta razon que se buscan estos espacios en blanco y se los quita_"
   ]
  },
  {
   "cell_type": "code",
   "execution_count": 12,
   "metadata": {},
   "outputs": [
    {
     "data": {
      "text/plain": [
       "42"
      ]
     },
     "execution_count": 12,
     "metadata": {},
     "output_type": "execute_result"
    }
   ],
   "source": [
    "df_arauz_processed[df_arauz_processed['full_text']==\"\"][\"full_text\"].count()"
   ]
  },
  {
   "cell_type": "code",
   "execution_count": 13,
   "metadata": {},
   "outputs": [],
   "source": [
    "df_arauz_processed.drop(df_arauz_processed.loc[df_arauz_processed[\"full_text\"]==\"\"].index, inplace=True)"
   ]
  },
  {
   "cell_type": "code",
   "execution_count": 14,
   "metadata": {},
   "outputs": [
    {
     "data": {
      "text/plain": [
       "0"
      ]
     },
     "execution_count": 14,
     "metadata": {},
     "output_type": "execute_result"
    }
   ],
   "source": [
    "df_arauz_processed[df_arauz_processed['full_text']==\"\"][\"full_text\"].count()"
   ]
  },
  {
   "cell_type": "code",
   "execution_count": 15,
   "metadata": {},
   "outputs": [],
   "source": [
    "df_arauz_processed.to_csv(data_processed+'/arauz_clean.csv', \n",
    "                        index=False, header=True, chunksize=10000)"
   ]
  }
 ],
 "metadata": {
  "colab": {
   "name": "Trabajo Final Data Science G4.ipynb",
   "provenance": [],
   "toc_visible": true
  },
  "kernelspec": {
   "display_name": "darlin",
   "language": "python",
   "name": "darlin"
  },
  "language_info": {
   "codemirror_mode": {
    "name": "ipython",
    "version": 3
   },
   "file_extension": ".py",
   "mimetype": "text/x-python",
   "name": "python",
   "nbconvert_exporter": "python",
   "pygments_lexer": "ipython3",
   "version": "3.7.0"
  }
 },
 "nbformat": 4,
 "nbformat_minor": 4
}
