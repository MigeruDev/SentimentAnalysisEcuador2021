{
 "cells": [
  {
   "cell_type": "markdown",
   "metadata": {},
   "source": [
    "## **4.3.&emsp;Entrenar el modelo**\n",
    "#### **4.3.1.&emsp;Entrenamiento**\n",
    ">Luego de haber realizado el feature selection, se procede a entrenar el modelo sin las columnas antes mencionadas"
   ]
  },
  {
   "cell_type": "code",
   "execution_count": 1,
   "metadata": {
    "colab": {},
    "colab_type": "code",
    "id": "ePTs38dpKwCW"
   },
   "outputs": [],
   "source": [
    "import numpy as np              # Para operaciones matematicas\n",
    "import pandas as pd             # Manejo de datos / dataframes\n",
    "from sys import getsizeof       # Operaciones de sistema\n",
    "%matplotlib inline"
   ]
  },
  {
   "cell_type": "code",
   "execution_count": 2,
   "metadata": {
    "colab": {
     "base_uri": "https://localhost:8080/",
     "height": 455
    },
    "colab_type": "code",
    "executionInfo": {
     "elapsed": 779,
     "status": "error",
     "timestamp": 1580919934538,
     "user": {
      "displayName": "MIGUEL ANGEL MACIAS NARVAEZ",
      "photoUrl": "https://lh3.googleusercontent.com/a-/AAuE7mCqGFLQGHy5LwUESYdzxhNuN_QOH8-eJxo-B3No=s64",
      "userId": "03083191490277251715"
     },
     "user_tz": 300
    },
    "id": "VqSaosMrKwCe",
    "outputId": "449908b4-0997-42d3-ceb6-770624c66879"
   },
   "outputs": [],
   "source": [
    "data_raw = '../data/raw'              # directorio que contiene toda la data sin manipular\n",
    "data_processed = '../data/processed'  # directorio que contiene data procesada"
   ]
  },
  {
   "cell_type": "code",
   "execution_count": 3,
   "metadata": {},
   "outputs": [
    {
     "data": {
      "text/html": [
       "<div>\n",
       "<style scoped>\n",
       "    .dataframe tbody tr th:only-of-type {\n",
       "        vertical-align: middle;\n",
       "    }\n",
       "\n",
       "    .dataframe tbody tr th {\n",
       "        vertical-align: top;\n",
       "    }\n",
       "\n",
       "    .dataframe thead th {\n",
       "        text-align: right;\n",
       "    }\n",
       "</style>\n",
       "<table border=\"1\" class=\"dataframe\">\n",
       "  <thead>\n",
       "    <tr style=\"text-align: right;\">\n",
       "      <th></th>\n",
       "      <th>school</th>\n",
       "      <th>sex</th>\n",
       "      <th>age</th>\n",
       "      <th>address</th>\n",
       "      <th>famsize</th>\n",
       "      <th>Pstatus</th>\n",
       "      <th>Medu</th>\n",
       "      <th>Fedu</th>\n",
       "      <th>Mjob</th>\n",
       "      <th>Fjob</th>\n",
       "      <th>...</th>\n",
       "      <th>freetime</th>\n",
       "      <th>goout</th>\n",
       "      <th>Dalc</th>\n",
       "      <th>Walc</th>\n",
       "      <th>health</th>\n",
       "      <th>absences</th>\n",
       "      <th>G1</th>\n",
       "      <th>G2</th>\n",
       "      <th>G3</th>\n",
       "      <th>class</th>\n",
       "    </tr>\n",
       "  </thead>\n",
       "  <tbody>\n",
       "    <tr>\n",
       "      <td>0</td>\n",
       "      <td>0</td>\n",
       "      <td>0</td>\n",
       "      <td>18</td>\n",
       "      <td>1</td>\n",
       "      <td>0</td>\n",
       "      <td>0</td>\n",
       "      <td>4</td>\n",
       "      <td>4</td>\n",
       "      <td>0</td>\n",
       "      <td>4</td>\n",
       "      <td>...</td>\n",
       "      <td>3</td>\n",
       "      <td>4</td>\n",
       "      <td>1</td>\n",
       "      <td>1</td>\n",
       "      <td>3</td>\n",
       "      <td>6</td>\n",
       "      <td>5</td>\n",
       "      <td>6</td>\n",
       "      <td>6</td>\n",
       "      <td>0</td>\n",
       "    </tr>\n",
       "    <tr>\n",
       "      <td>1</td>\n",
       "      <td>0</td>\n",
       "      <td>0</td>\n",
       "      <td>17</td>\n",
       "      <td>1</td>\n",
       "      <td>0</td>\n",
       "      <td>1</td>\n",
       "      <td>1</td>\n",
       "      <td>1</td>\n",
       "      <td>0</td>\n",
       "      <td>2</td>\n",
       "      <td>...</td>\n",
       "      <td>3</td>\n",
       "      <td>3</td>\n",
       "      <td>1</td>\n",
       "      <td>1</td>\n",
       "      <td>3</td>\n",
       "      <td>4</td>\n",
       "      <td>5</td>\n",
       "      <td>5</td>\n",
       "      <td>6</td>\n",
       "      <td>0</td>\n",
       "    </tr>\n",
       "    <tr>\n",
       "      <td>2</td>\n",
       "      <td>0</td>\n",
       "      <td>0</td>\n",
       "      <td>15</td>\n",
       "      <td>1</td>\n",
       "      <td>1</td>\n",
       "      <td>1</td>\n",
       "      <td>1</td>\n",
       "      <td>1</td>\n",
       "      <td>0</td>\n",
       "      <td>2</td>\n",
       "      <td>...</td>\n",
       "      <td>3</td>\n",
       "      <td>2</td>\n",
       "      <td>2</td>\n",
       "      <td>3</td>\n",
       "      <td>3</td>\n",
       "      <td>10</td>\n",
       "      <td>7</td>\n",
       "      <td>8</td>\n",
       "      <td>10</td>\n",
       "      <td>0</td>\n",
       "    </tr>\n",
       "    <tr>\n",
       "      <td>3</td>\n",
       "      <td>0</td>\n",
       "      <td>0</td>\n",
       "      <td>15</td>\n",
       "      <td>1</td>\n",
       "      <td>0</td>\n",
       "      <td>1</td>\n",
       "      <td>4</td>\n",
       "      <td>2</td>\n",
       "      <td>1</td>\n",
       "      <td>3</td>\n",
       "      <td>...</td>\n",
       "      <td>2</td>\n",
       "      <td>2</td>\n",
       "      <td>1</td>\n",
       "      <td>1</td>\n",
       "      <td>5</td>\n",
       "      <td>2</td>\n",
       "      <td>15</td>\n",
       "      <td>14</td>\n",
       "      <td>15</td>\n",
       "      <td>1</td>\n",
       "    </tr>\n",
       "    <tr>\n",
       "      <td>4</td>\n",
       "      <td>0</td>\n",
       "      <td>0</td>\n",
       "      <td>16</td>\n",
       "      <td>1</td>\n",
       "      <td>0</td>\n",
       "      <td>1</td>\n",
       "      <td>3</td>\n",
       "      <td>3</td>\n",
       "      <td>2</td>\n",
       "      <td>2</td>\n",
       "      <td>...</td>\n",
       "      <td>3</td>\n",
       "      <td>2</td>\n",
       "      <td>1</td>\n",
       "      <td>2</td>\n",
       "      <td>5</td>\n",
       "      <td>4</td>\n",
       "      <td>6</td>\n",
       "      <td>10</td>\n",
       "      <td>10</td>\n",
       "      <td>0</td>\n",
       "    </tr>\n",
       "    <tr>\n",
       "      <td>...</td>\n",
       "      <td>...</td>\n",
       "      <td>...</td>\n",
       "      <td>...</td>\n",
       "      <td>...</td>\n",
       "      <td>...</td>\n",
       "      <td>...</td>\n",
       "      <td>...</td>\n",
       "      <td>...</td>\n",
       "      <td>...</td>\n",
       "      <td>...</td>\n",
       "      <td>...</td>\n",
       "      <td>...</td>\n",
       "      <td>...</td>\n",
       "      <td>...</td>\n",
       "      <td>...</td>\n",
       "      <td>...</td>\n",
       "      <td>...</td>\n",
       "      <td>...</td>\n",
       "      <td>...</td>\n",
       "      <td>...</td>\n",
       "      <td>...</td>\n",
       "    </tr>\n",
       "    <tr>\n",
       "      <td>1039</td>\n",
       "      <td>1</td>\n",
       "      <td>0</td>\n",
       "      <td>19</td>\n",
       "      <td>0</td>\n",
       "      <td>0</td>\n",
       "      <td>1</td>\n",
       "      <td>2</td>\n",
       "      <td>3</td>\n",
       "      <td>3</td>\n",
       "      <td>2</td>\n",
       "      <td>...</td>\n",
       "      <td>4</td>\n",
       "      <td>2</td>\n",
       "      <td>1</td>\n",
       "      <td>2</td>\n",
       "      <td>5</td>\n",
       "      <td>4</td>\n",
       "      <td>10</td>\n",
       "      <td>11</td>\n",
       "      <td>10</td>\n",
       "      <td>0</td>\n",
       "    </tr>\n",
       "    <tr>\n",
       "      <td>1040</td>\n",
       "      <td>1</td>\n",
       "      <td>0</td>\n",
       "      <td>18</td>\n",
       "      <td>1</td>\n",
       "      <td>1</td>\n",
       "      <td>1</td>\n",
       "      <td>3</td>\n",
       "      <td>1</td>\n",
       "      <td>4</td>\n",
       "      <td>3</td>\n",
       "      <td>...</td>\n",
       "      <td>3</td>\n",
       "      <td>4</td>\n",
       "      <td>1</td>\n",
       "      <td>1</td>\n",
       "      <td>1</td>\n",
       "      <td>4</td>\n",
       "      <td>15</td>\n",
       "      <td>15</td>\n",
       "      <td>16</td>\n",
       "      <td>1</td>\n",
       "    </tr>\n",
       "    <tr>\n",
       "      <td>1041</td>\n",
       "      <td>1</td>\n",
       "      <td>0</td>\n",
       "      <td>18</td>\n",
       "      <td>1</td>\n",
       "      <td>0</td>\n",
       "      <td>1</td>\n",
       "      <td>1</td>\n",
       "      <td>1</td>\n",
       "      <td>2</td>\n",
       "      <td>2</td>\n",
       "      <td>...</td>\n",
       "      <td>1</td>\n",
       "      <td>1</td>\n",
       "      <td>1</td>\n",
       "      <td>1</td>\n",
       "      <td>5</td>\n",
       "      <td>6</td>\n",
       "      <td>11</td>\n",
       "      <td>12</td>\n",
       "      <td>9</td>\n",
       "      <td>0</td>\n",
       "    </tr>\n",
       "    <tr>\n",
       "      <td>1042</td>\n",
       "      <td>1</td>\n",
       "      <td>1</td>\n",
       "      <td>17</td>\n",
       "      <td>1</td>\n",
       "      <td>1</td>\n",
       "      <td>1</td>\n",
       "      <td>3</td>\n",
       "      <td>1</td>\n",
       "      <td>3</td>\n",
       "      <td>3</td>\n",
       "      <td>...</td>\n",
       "      <td>4</td>\n",
       "      <td>5</td>\n",
       "      <td>3</td>\n",
       "      <td>4</td>\n",
       "      <td>2</td>\n",
       "      <td>6</td>\n",
       "      <td>10</td>\n",
       "      <td>10</td>\n",
       "      <td>10</td>\n",
       "      <td>0</td>\n",
       "    </tr>\n",
       "    <tr>\n",
       "      <td>1043</td>\n",
       "      <td>1</td>\n",
       "      <td>1</td>\n",
       "      <td>18</td>\n",
       "      <td>0</td>\n",
       "      <td>1</td>\n",
       "      <td>1</td>\n",
       "      <td>3</td>\n",
       "      <td>2</td>\n",
       "      <td>3</td>\n",
       "      <td>2</td>\n",
       "      <td>...</td>\n",
       "      <td>4</td>\n",
       "      <td>1</td>\n",
       "      <td>3</td>\n",
       "      <td>4</td>\n",
       "      <td>5</td>\n",
       "      <td>4</td>\n",
       "      <td>10</td>\n",
       "      <td>11</td>\n",
       "      <td>11</td>\n",
       "      <td>1</td>\n",
       "    </tr>\n",
       "  </tbody>\n",
       "</table>\n",
       "<p>1044 rows × 34 columns</p>\n",
       "</div>"
      ],
      "text/plain": [
       "      school  sex  age  address  famsize  Pstatus  Medu  Fedu  Mjob  Fjob  \\\n",
       "0          0    0   18        1        0        0     4     4     0     4   \n",
       "1          0    0   17        1        0        1     1     1     0     2   \n",
       "2          0    0   15        1        1        1     1     1     0     2   \n",
       "3          0    0   15        1        0        1     4     2     1     3   \n",
       "4          0    0   16        1        0        1     3     3     2     2   \n",
       "...      ...  ...  ...      ...      ...      ...   ...   ...   ...   ...   \n",
       "1039       1    0   19        0        0        1     2     3     3     2   \n",
       "1040       1    0   18        1        1        1     3     1     4     3   \n",
       "1041       1    0   18        1        0        1     1     1     2     2   \n",
       "1042       1    1   17        1        1        1     3     1     3     3   \n",
       "1043       1    1   18        0        1        1     3     2     3     2   \n",
       "\n",
       "      ...  freetime  goout  Dalc  Walc  health  absences  G1  G2  G3  class  \n",
       "0     ...         3      4     1     1       3         6   5   6   6      0  \n",
       "1     ...         3      3     1     1       3         4   5   5   6      0  \n",
       "2     ...         3      2     2     3       3        10   7   8  10      0  \n",
       "3     ...         2      2     1     1       5         2  15  14  15      1  \n",
       "4     ...         3      2     1     2       5         4   6  10  10      0  \n",
       "...   ...       ...    ...   ...   ...     ...       ...  ..  ..  ..    ...  \n",
       "1039  ...         4      2     1     2       5         4  10  11  10      0  \n",
       "1040  ...         3      4     1     1       1         4  15  15  16      1  \n",
       "1041  ...         1      1     1     1       5         6  11  12   9      0  \n",
       "1042  ...         4      5     3     4       2         6  10  10  10      0  \n",
       "1043  ...         4      1     3     4       5         4  10  11  11      1  \n",
       "\n",
       "[1044 rows x 34 columns]"
      ]
     },
     "execution_count": 3,
     "metadata": {},
     "output_type": "execute_result"
    }
   ],
   "source": [
    "df_students = pd.read_csv(data_processed+\"/df_students.csv\")\n",
    "df_students"
   ]
  },
  {
   "cell_type": "code",
   "execution_count": 4,
   "metadata": {},
   "outputs": [],
   "source": [
    "#-------------------------- Regression Model ------------------------#\n",
    "from sklearn import linear_model                                     #\n",
    "from sklearn import model_selection                                  #\n",
    "from sklearn.model_selection import train_test_split                 #\n",
    "from sklearn.feature_selection import RFE                            #\n",
    "from sklearn.preprocessing import MinMaxScaler                       #\n",
    "from sklearn.metrics import classification_report                    #\n",
    "from sklearn.metrics import confusion_matrix                         #\n",
    "from sklearn.metrics import accuracy_score                           #\n",
    "#--------------------------------------------------------------------#\n",
    "from sklearn.model_selection import cross_val_score, GridSearchCV\n",
    "from sklearn.ensemble import RandomForestRegressor"
   ]
  },
  {
   "cell_type": "code",
   "execution_count": 5,
   "metadata": {},
   "outputs": [
    {
     "data": {
      "text/plain": [
       "((783, 10), (261, 10))"
      ]
     },
     "execution_count": 5,
     "metadata": {},
     "output_type": "execute_result"
    }
   ],
   "source": [
    "#X = df_students.drop(['G3','class'],axis=1)\n",
    "\n",
    "X = df_students[['failures', 'schoolsup', 'paid', 'nursery',\n",
    "                'freetime', 'Dalc', 'absences', 'G1', 'studytime', 'goout']]\n",
    "\n",
    "y = df_students['G3']\n",
    "\n",
    "scaler = MinMaxScaler()\n",
    "tmp = scaler.fit_transform(X)\n",
    "X = pd.DataFrame(tmp, columns=X.columns)\n",
    "\n",
    "X_train, X_test, y_train, y_test = train_test_split( X, y,\n",
    "                                                 test_size=.25,\n",
    "                                                 #stratify=y,\n",
    "                                                 random_state=1)\n",
    "\n",
    "X_train.shape,X_test.shape"
   ]
  },
  {
   "cell_type": "markdown",
   "metadata": {},
   "source": [
    "## Accuracy score is only for classification problems. For regression problems you can use: R2 Score, MSE (Mean Squared Error), RMSE (Root Mean Squared Error).\n",
    "r2, neg_mean_squared_error"
   ]
  },
  {
   "cell_type": "code",
   "execution_count": 6,
   "metadata": {},
   "outputs": [
    {
     "name": "stdout",
     "output_type": "stream",
     "text": [
      "Best score :  0.7174487423687458\n",
      "Best Parameters :  {'bootstrap': True, 'max_depth': 50, 'max_leaf_nodes': 50, 'min_samples_leaf': 10, 'min_samples_split': 2, 'n_estimators': 100}\n",
      "Training Accuracy :  0.7752593575448703\n",
      "Test Accuracy :  0.6676185112930764\n"
     ]
    }
   ],
   "source": [
    "# Perform Grid-Search\n",
    "clf = RandomForestRegressor(random_state=42, criterion='mse')\n",
    "\n",
    "parameters = {                       \n",
    "    \"max_depth\": [10, 50, 80, 90, 100, 110],                                                      \n",
    "    \"max_leaf_nodes\": [10, 50, 75, 100],\n",
    "    \"min_samples_split\": [2, 3, 4],\n",
    "    \"n_estimators\": [10, 50, 100],\n",
    "    \"min_samples_leaf\": [1, 2, 5, 10],\n",
    "    \"bootstrap\": [True, False]\n",
    "}\n",
    "\n",
    "# clf_svc = RandomizedSearchCV(clf_svc, param_distributions=parameters, scoring=\"accuracy\", cv=5, n_jobs=-1, n_iter=15)\n",
    "clf = GridSearchCV(clf, param_grid=parameters, scoring=\"r2\", cv=5, n_jobs=-1)\n",
    "model_svc = clf.fit(X_train, y_train)\n",
    "\n",
    "#print (\"R2 score:\", r2(y_test,y_predict))\n",
    "print(\"Best score : \", model_svc.best_score_)\n",
    "print(\"Best Parameters : \", model_svc.best_params_)\n",
    "#print(\"Accuracy Score : \", accuracy_score(model_svc.predict(X_test), y_test))\n",
    "print(\"Training Accuracy : \", model_svc.score(X_train, y_train))\n",
    "print(\"Test Accuracy : \", model_svc.score(X_test, y_test))"
   ]
  },
  {
   "cell_type": "markdown",
   "metadata": {},
   "source": [
    "## Entrenando el modelo"
   ]
  },
  {
   "cell_type": "code",
   "execution_count": 7,
   "metadata": {},
   "outputs": [],
   "source": [
    "rfr = RandomForestRegressor(random_state=42, criterion='mse',\n",
    "                           max_depth=50, max_leaf_nodes=50, bootstrap=True,\n",
    "                           min_samples_leaf=10, min_samples_split=2,\n",
    "                           n_estimators=100)\n",
    "\n",
    "model = rfr.fit(X_train, y_train)\n",
    "\n",
    "predictions = model.predict(X_test)"
   ]
  },
  {
   "cell_type": "code",
   "execution_count": 8,
   "metadata": {},
   "outputs": [
    {
     "name": "stdout",
     "output_type": "stream",
     "text": [
      "Training score :  0.7752593575448702\n",
      "Test score :  0.6676185112930764\n"
     ]
    }
   ],
   "source": [
    "print(\"Training score : \", model.score(X_train, y_train))\n",
    "print(\"Test score : \", model.score(X_test, y_test))"
   ]
  },
  {
   "cell_type": "markdown",
   "metadata": {},
   "source": [
    "## **4.4.&emsp;Evaluando el modelo**\n",
    "#### **4.4.1.&emsp;Metricas**"
   ]
  },
  {
   "cell_type": "code",
   "execution_count": 9,
   "metadata": {},
   "outputs": [],
   "source": [
    "from sklearn import metrics"
   ]
  },
  {
   "cell_type": "code",
   "execution_count": 10,
   "metadata": {},
   "outputs": [
    {
     "name": "stdout",
     "output_type": "stream",
     "text": [
      "Mean Absolute Error: 1.462780872972735\n",
      "Mean Squared Error: 4.896973091777499\n",
      "Root Mean Squared Error: 2.2129105476221804\n"
     ]
    }
   ],
   "source": [
    "print('Mean Absolute Error:', metrics.mean_absolute_error(y_test, predictions))\n",
    "print('Mean Squared Error:', metrics.mean_squared_error(y_test, predictions))\n",
    "print('Root Mean Squared Error:', np.sqrt(metrics.mean_squared_error(y_test, predictions)))"
   ]
  },
  {
   "cell_type": "markdown",
   "metadata": {},
   "source": [
    "#### **4.4.2.&emsp;Visualizacion**"
   ]
  },
  {
   "cell_type": "code",
   "execution_count": 14,
   "metadata": {},
   "outputs": [],
   "source": [
    "import seaborn\n",
    "import matplotlib.pyplot as matplotlib\n",
    "\n",
    "from matplotlib.lines import Line2D\n",
    "from scipy.stats import pearsonr"
   ]
  },
  {
   "cell_type": "code",
   "execution_count": 15,
   "metadata": {},
   "outputs": [],
   "source": [
    "def simple_scatter_plot(x_data, y_data, output_filename, title_name, x_axis_label, y_axis_label):\n",
    "    \"\"\"Simple scatter plot.\n",
    " \n",
    "    Args:\n",
    "        x_data (list): List with x-axis data.\n",
    "        y_data (list): List with y-axis data.\n",
    "        output_filename (str): Path to output image in PNG format.\n",
    "        title_name (int): Plot title.\n",
    "        x_axis_label (str): X-axis Label.\n",
    "        y_axis_label (str): Y-axis Label.\n",
    " \n",
    "    \"\"\"\n",
    "    seaborn.set(color_codes=True)\n",
    "    matplotlib.figure(1, figsize=(9, 6))\n",
    " \n",
    "    matplotlib.title(title_name)\n",
    " \n",
    "    ax = seaborn.scatterplot(x=x_data, y=y_data)\n",
    " \n",
    "    ax.set(xlabel=x_axis_label, ylabel=y_axis_label)\n",
    " \n",
    "    matplotlib.savefig(output_filename, bbox_inches='tight', dpi=300)\n",
    "    matplotlib.show()\n",
    "    matplotlib.close()"
   ]
  },
  {
   "cell_type": "code",
   "execution_count": 16,
   "metadata": {},
   "outputs": [
    {
     "data": {
      "image/png": "[encoded data removed]",
      "text/plain": [
       "<Figure size 648x432 with 1 Axes>"
      ]
     },
     "metadata": {},
     "output_type": "display_data"
    }
   ],
   "source": [
    "# find the correlation between real answer and prediction\n",
    "correlation = round(pearsonr(predictions, y_test)[0], 5)\n",
    " \n",
    "output_filename = \"rf_regression.png\"\n",
    "title_name = \"Random Forest Regression - Real G3 vs Predicted G3 - correlation ({})\".format(correlation)\n",
    "x_axis_label = \"Real G3\"\n",
    "y_axis_label = \"Predicted G3\"\n",
    " \n",
    "# plot data\n",
    "simple_scatter_plot(y_test, predictions, output_filename, title_name, x_axis_label, y_axis_label)"
   ]
  },
  {
   "cell_type": "markdown",
   "metadata": {},
   "source": [
    "#### **4.4.3.&emsp;Feature Importance**"
   ]
  },
  {
   "cell_type": "code",
   "execution_count": 17,
   "metadata": {},
   "outputs": [],
   "source": [
    "import seaborn as sn\n",
    "import matplotlib.pyplot as plt"
   ]
  },
  {
   "cell_type": "code",
   "execution_count": 18,
   "metadata": {},
   "outputs": [
    {
     "name": "stderr",
     "output_type": "stream",
     "text": [
      "No handles with labels found to put in legend.\n"
     ]
    },
    {
     "data": {
      "image/png": "[encoded data removed]",
      "text/plain": [
       "<Figure size 432x288 with 1 Axes>"
      ]
     },
     "metadata": {},
     "output_type": "display_data"
    }
   ],
   "source": [
    "feature_imp = pd.Series(rfr.feature_importances_, index = X.columns).sort_values(ascending=False)\n",
    "\n",
    "# Creating a bar plot\n",
    "sns.barplot(x=feature_imp, y=feature_imp.index)\n",
    "# Add labels to your graph\n",
    "plt.xlabel('Score')\n",
    "plt.ylabel('Caracteristicas')\n",
    "plt.title(\"Carateristicas Importantes\")\n",
    "plt.legend()\n",
    "plt.show()"
   ]
  },
  {
   "cell_type": "markdown",
   "metadata": {},
   "source": [
    "#### **4.4.4.&emsp;Re-evaluating the model**"
   ]
  },
  {
   "cell_type": "code",
   "execution_count": 19,
   "metadata": {},
   "outputs": [
    {
     "data": {
      "text/plain": [
       "((783, 4), (261, 4))"
      ]
     },
     "execution_count": 19,
     "metadata": {},
     "output_type": "execute_result"
    }
   ],
   "source": [
    "#X = df_students.drop(['G3','class'],axis=1)\n",
    "\n",
    "X = df_students[['failures','absences', 'G1', 'goout']]\n",
    "\n",
    "y = df_students['G3']\n",
    "\n",
    "scaler = MinMaxScaler()\n",
    "tmp = scaler.fit_transform(X)\n",
    "X = pd.DataFrame(tmp, columns=X.columns)\n",
    "\n",
    "X_train, X_test, y_train, y_test = train_test_split( X, y,\n",
    "                                                 test_size=.25,\n",
    "                                                 #stratify=y,\n",
    "                                                 random_state=1)\n",
    "\n",
    "X_train.shape,X_test.shape"
   ]
  },
  {
   "cell_type": "code",
   "execution_count": 20,
   "metadata": {},
   "outputs": [],
   "source": [
    "rfr = RandomForestRegressor(random_state=42, criterion='mse',\n",
    "                           max_depth=50, max_leaf_nodes=50, bootstrap=True,\n",
    "                           min_samples_leaf=10, min_samples_split=2,\n",
    "                           n_estimators=100)\n",
    "\n",
    "model = rfr.fit(X_train, y_train)\n",
    "\n",
    "predictions = model.predict(X_test)"
   ]
  },
  {
   "cell_type": "code",
   "execution_count": 21,
   "metadata": {},
   "outputs": [
    {
     "name": "stdout",
     "output_type": "stream",
     "text": [
      "Training score :  0.7629146765672422\n",
      "Test score :  0.6608225851435365\n"
     ]
    }
   ],
   "source": [
    "print(\"Training score : \", model.score(X_train, y_train))\n",
    "print(\"Test score : \", model.score(X_test, y_test))"
   ]
  },
  {
   "cell_type": "code",
   "execution_count": 22,
   "metadata": {},
   "outputs": [
    {
     "name": "stdout",
     "output_type": "stream",
     "text": [
      "Mean Absolute Error: 1.4728336870764982\n",
      "Mean Squared Error: 4.997097402603206\n",
      "Root Mean Squared Error: 2.23541884276822\n"
     ]
    }
   ],
   "source": [
    "print('Mean Absolute Error:', metrics.mean_absolute_error(y_test, predictions))\n",
    "print('Mean Squared Error:', metrics.mean_squared_error(y_test, predictions))\n",
    "print('Root Mean Squared Error:', np.sqrt(metrics.mean_squared_error(y_test, predictions)))"
   ]
  },
  {
   "cell_type": "code",
   "execution_count": null,
   "metadata": {},
   "outputs": [],
   "source": []
  },
  {
   "cell_type": "code",
   "execution_count": null,
   "metadata": {},
   "outputs": [],
   "source": []
  }
 ],
 "metadata": {
  "kernelspec": {
   "display_name": "Python 3",
   "language": "python",
   "name": "python3"
  },
  "language_info": {
   "codemirror_mode": {
    "name": "ipython",
    "version": 3
   },
   "file_extension": ".py",
   "mimetype": "text/x-python",
   "name": "python",
   "nbconvert_exporter": "python",
   "pygments_lexer": "ipython3",
   "version": "3.7.0"
  }
 },
 "nbformat": 4,
 "nbformat_minor": 4
}
