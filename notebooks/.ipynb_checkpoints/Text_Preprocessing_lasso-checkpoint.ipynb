{
 "cells": [
  {
   "cell_type": "markdown",
   "metadata": {
    "colab_type": "text",
    "id": "ehNjBdcxKwCR"
   },
   "source": [
    "# **<center> Análisis de Sentimientos de los candidatos presidenciales </br> Ecuador 2021, en la red social Twitter </center>**\n",
    "<h6>\n",
    "    <center> Miguel Angel Macias, Jonnathan Campoberde <br/> \n",
    "    <i>Universidad de Cuenca <br/>  <i>Facultad de Ingenieria - Escuela de Sistemas<br/> Cuenca, Ecuador</i>\n",
    "    <br/> { mangel.maciasn, jonnathan.campoberde }@ucuenca.edu.ec</center>\n",
    "<h6>"
   ]
  },
  {
   "cell_type": "markdown",
   "metadata": {
    "colab_type": "text",
    "id": "aJY55ow_KwCV"
   },
   "source": [
    "# **I.&emsp;Introducción**\n",
    "El presente trabajo tiene como objetivo emplear de manera práctica todos los conocimientos adquiridos en el transcurso de la asignatura “Text Mining”. Se trabajará con un dataset... . Se busca analizar el ..., detectando las ... por medio de ... . Todo esto con el propósito de ... .\n",
    "\n",
    "## **1.1.&emsp;Objetivos del Proyecto**\n",
    ">El objetivo del proyecto es el Análisis de Sentimientos de los candidatos presidenciales de Ecuador 2021, para luego contrastar los resultados obtenidos con los resultados oficiales de las elecciones Posteriormente se desea responder a las preguntas definidas en 1.2.\n",
    "\n",
    "## **1.2.&emsp;Preguntas de investigación**\n",
    ">- RQ1:     ¿Qué tan precisamente los datos de Twitter reflejan el sentimiento político en un proceso electoral?\n",
    ">- RQ1:     ¿En qué grado de aceptación se encuentran los candidatos dentro de la red Social Twitter?\n",
    ">- RQ3:     ¿Los resultadso oficiales son parecidos a los hallados en nuestro análisis?\n"
   ]
  },
  {
   "cell_type": "markdown",
   "metadata": {},
   "source": [
    "# **II.&emsp;TEXT CLEANING**\n",
    "\n",
    "## **2.1.&emsp; Reading dataset**\n",
    ">Para este paso..."
   ]
  },
  {
   "cell_type": "code",
   "execution_count": 16,
   "metadata": {},
   "outputs": [],
   "source": [
    "#!pip install emoji"
   ]
  },
  {
   "cell_type": "code",
   "execution_count": 31,
   "metadata": {},
   "outputs": [],
   "source": [
    "import warnings\n",
    "warnings.filterwarnings(\"ignore\")\n",
    "\n",
    "#from datetime import datetime, timezone\n",
    "import pytz\n",
    "import numpy as np              # Para operaciones matematicas\n",
    "import pandas as pd             # Manejo de datos / dataframes\n",
    "import re\n",
    "import emoji\n",
    "from nltk.tokenize import RegexpTokenizer\n",
    "from nltk.corpus import stopwords\n",
    "from nltk.tokenize import word_tokenize \n",
    "from nltk.stem import PorterStemmer\n",
    "%matplotlib inline"
   ]
  },
  {
   "cell_type": "code",
   "execution_count": 32,
   "metadata": {},
   "outputs": [],
   "source": [
    "data_raw = '../data/raw'              # directorio que contiene toda la data sin manipular\n",
    "data_processed = '../data/processed'  # directorio que contiene data procesada"
   ]
  },
  {
   "cell_type": "code",
   "execution_count": 33,
   "metadata": {},
   "outputs": [
    {
     "data": {
      "text/html": [
       "<div>\n",
       "<style scoped>\n",
       "    .dataframe tbody tr th:only-of-type {\n",
       "        vertical-align: middle;\n",
       "    }\n",
       "\n",
       "    .dataframe tbody tr th {\n",
       "        vertical-align: top;\n",
       "    }\n",
       "\n",
       "    .dataframe thead th {\n",
       "        text-align: right;\n",
       "    }\n",
       "</style>\n",
       "<table border=\"1\" class=\"dataframe\">\n",
       "  <thead>\n",
       "    <tr style=\"text-align: right;\">\n",
       "      <th></th>\n",
       "      <th>created_at</th>\n",
       "      <th>favorite_count</th>\n",
       "      <th>full_text</th>\n",
       "      <th>id_str</th>\n",
       "      <th>metadata.iso_language_code</th>\n",
       "      <th>retweeted_status.created_at</th>\n",
       "      <th>retweeted_status.full_text</th>\n",
       "      <th>user.created_at</th>\n",
       "      <th>user.favourites_count</th>\n",
       "      <th>user.followers_count</th>\n",
       "      <th>user.friends_count</th>\n",
       "      <th>user.id_str</th>\n",
       "      <th>user.location</th>\n",
       "      <th>user.verified</th>\n",
       "      <th>retweet_count</th>\n",
       "    </tr>\n",
       "  </thead>\n",
       "  <tbody>\n",
       "    <tr>\n",
       "      <th>0</th>\n",
       "      <td>2021-01-24 18:48:13+00:00</td>\n",
       "      <td>0</td>\n",
       "      <td>RT @Danielsalcan88: Se imaginan un gobierno de...</td>\n",
       "      <td>1353414316947550213</td>\n",
       "      <td>es</td>\n",
       "      <td>Sat Jan 23 23:24:31 +0000 2021</td>\n",
       "      <td>Se imaginan un gobierno de Guillermo Lasso con...</td>\n",
       "      <td>2020-01-05 21:38:08+00:00</td>\n",
       "      <td>22225</td>\n",
       "      <td>150</td>\n",
       "      <td>219</td>\n",
       "      <td>1213937693018607616</td>\n",
       "      <td>Quito, Ecuador</td>\n",
       "      <td>False</td>\n",
       "      <td>409</td>\n",
       "    </tr>\n",
       "    <tr>\n",
       "      <th>1</th>\n",
       "      <td>2021-01-24 18:50:06+00:00</td>\n",
       "      <td>0</td>\n",
       "      <td>RT @DiegoFuentesEC: Lenín Moreno NO gobernó co...</td>\n",
       "      <td>1353414791684042757</td>\n",
       "      <td>es</td>\n",
       "      <td>Mon Jan 18 22:50:08 +0000 2021</td>\n",
       "      <td>Lenín Moreno NO gobernó con Alianza PAIS, lo h...</td>\n",
       "      <td>2018-10-23 14:39:27+00:00</td>\n",
       "      <td>3027</td>\n",
       "      <td>228</td>\n",
       "      <td>1384</td>\n",
       "      <td>1054744113814429696</td>\n",
       "      <td>NaN</td>\n",
       "      <td>False</td>\n",
       "      <td>9</td>\n",
       "    </tr>\n",
       "    <tr>\n",
       "      <th>2</th>\n",
       "      <td>2021-01-24 18:51:16+00:00</td>\n",
       "      <td>0</td>\n",
       "      <td>RT @relicheandres: MITOMANÍA\\r\\n\\r\\n▪︎ Guiller...</td>\n",
       "      <td>1353415086837276673</td>\n",
       "      <td>es</td>\n",
       "      <td>Sun Jan 24 16:13:51 +0000 2021</td>\n",
       "      <td>MITOMANÍA\\r\\n\\r\\n▪︎ Guillermo Celi dice que Ma...</td>\n",
       "      <td>2012-09-21 14:11:58+00:00</td>\n",
       "      <td>109516</td>\n",
       "      <td>450</td>\n",
       "      <td>1024</td>\n",
       "      <td>837872970</td>\n",
       "      <td>Queens, New York.</td>\n",
       "      <td>False</td>\n",
       "      <td>997</td>\n",
       "    </tr>\n",
       "    <tr>\n",
       "      <th>3</th>\n",
       "      <td>2021-01-24 18:52:20+00:00</td>\n",
       "      <td>0</td>\n",
       "      <td>RT @felipeandrebsc: Carlos Vera Di la verdad, ...</td>\n",
       "      <td>1353415355914473472</td>\n",
       "      <td>es</td>\n",
       "      <td>Sun Jan 24 07:07:27 +0000 2021</td>\n",
       "      <td>Carlos Vera Di la verdad, así reciben a tu ído...</td>\n",
       "      <td>2017-02-21 02:01:26+00:00</td>\n",
       "      <td>150546</td>\n",
       "      <td>821</td>\n",
       "      <td>591</td>\n",
       "      <td>833859141185712128</td>\n",
       "      <td>NaN</td>\n",
       "      <td>False</td>\n",
       "      <td>11</td>\n",
       "    </tr>\n",
       "    <tr>\n",
       "      <th>4</th>\n",
       "      <td>2021-01-24 18:53:02+00:00</td>\n",
       "      <td>0</td>\n",
       "      <td>RT @fridayorke: Ya entendí, Hervas subió foto ...</td>\n",
       "      <td>1353415532385452032</td>\n",
       "      <td>es</td>\n",
       "      <td>Sun Jan 24 16:14:54 +0000 2021</td>\n",
       "      <td>Ya entendí, Hervas subió foto d Lasso y Moreno...</td>\n",
       "      <td>2010-12-08 20:25:30+00:00</td>\n",
       "      <td>11385</td>\n",
       "      <td>126</td>\n",
       "      <td>989</td>\n",
       "      <td>224364373</td>\n",
       "      <td>Ecuador</td>\n",
       "      <td>False</td>\n",
       "      <td>7</td>\n",
       "    </tr>\n",
       "    <tr>\n",
       "      <th>...</th>\n",
       "      <td>...</td>\n",
       "      <td>...</td>\n",
       "      <td>...</td>\n",
       "      <td>...</td>\n",
       "      <td>...</td>\n",
       "      <td>...</td>\n",
       "      <td>...</td>\n",
       "      <td>...</td>\n",
       "      <td>...</td>\n",
       "      <td>...</td>\n",
       "      <td>...</td>\n",
       "      <td>...</td>\n",
       "      <td>...</td>\n",
       "      <td>...</td>\n",
       "      <td>...</td>\n",
       "    </tr>\n",
       "    <tr>\n",
       "      <th>124064</th>\n",
       "      <td>2021-02-13 23:57:13+00:00</td>\n",
       "      <td>0</td>\n",
       "      <td>RT @Datoworld: 🇪🇨#Ecuador-Segunda Vuelta \\r\\n\\...</td>\n",
       "      <td>1360739839604367362</td>\n",
       "      <td>es</td>\n",
       "      <td>Sat Feb 13 17:06:03 +0000 2021</td>\n",
       "      <td>🇪🇨#Ecuador-Segunda Vuelta \\r\\n\\r\\n🔵Guillermo L...</td>\n",
       "      <td>2016-07-05 16:21:13+00:00</td>\n",
       "      <td>24852</td>\n",
       "      <td>535</td>\n",
       "      <td>2200</td>\n",
       "      <td>750363914186190848</td>\n",
       "      <td>Barquisimeto, Venezuela</td>\n",
       "      <td>False</td>\n",
       "      <td>40</td>\n",
       "    </tr>\n",
       "    <tr>\n",
       "      <th>124065</th>\n",
       "      <td>2021-02-13 23:57:49+00:00</td>\n",
       "      <td>0</td>\n",
       "      <td>RT @CarlosP05340289: Guillermo Lasso con su tí...</td>\n",
       "      <td>1360739987927543813</td>\n",
       "      <td>es</td>\n",
       "      <td>Sat Feb 13 17:12:41 +0000 2021</td>\n",
       "      <td>Guillermo Lasso con su título de Bachiller se ...</td>\n",
       "      <td>2014-03-31 14:53:22+00:00</td>\n",
       "      <td>14207</td>\n",
       "      <td>100</td>\n",
       "      <td>168</td>\n",
       "      <td>2449978689</td>\n",
       "      <td>NaN</td>\n",
       "      <td>False</td>\n",
       "      <td>81</td>\n",
       "    </tr>\n",
       "    <tr>\n",
       "      <th>124066</th>\n",
       "      <td>2021-02-13 23:58:41+00:00</td>\n",
       "      <td>0</td>\n",
       "      <td>RT @MarcoAnibal: Escuchar a Carlos Pérez Guart...</td>\n",
       "      <td>1360740207184732162</td>\n",
       "      <td>es</td>\n",
       "      <td>Sat Feb 13 13:58:09 +0000 2021</td>\n",
       "      <td>Escuchar a Carlos Pérez Guartambel en su careo...</td>\n",
       "      <td>2015-06-17 02:28:49+00:00</td>\n",
       "      <td>67781</td>\n",
       "      <td>293</td>\n",
       "      <td>777</td>\n",
       "      <td>3330587501</td>\n",
       "      <td>Quito, Ecuador</td>\n",
       "      <td>False</td>\n",
       "      <td>308</td>\n",
       "    </tr>\n",
       "    <tr>\n",
       "      <th>124067</th>\n",
       "      <td>2021-02-13 23:59:12+00:00</td>\n",
       "      <td>0</td>\n",
       "      <td>RT @Guayaco__2020: - Andrés Arauz: 3'027.073\\r...</td>\n",
       "      <td>1360740336100868097</td>\n",
       "      <td>es</td>\n",
       "      <td>Sat Feb 13 00:38:10 +0000 2021</td>\n",
       "      <td>- Andrés Arauz: 3'027.073\\r\\n- Guillermo Lasso...</td>\n",
       "      <td>2010-11-21 21:48:17+00:00</td>\n",
       "      <td>67236</td>\n",
       "      <td>4278</td>\n",
       "      <td>3499</td>\n",
       "      <td>218266485</td>\n",
       "      <td>Guayaquil, Ecuador</td>\n",
       "      <td>False</td>\n",
       "      <td>807</td>\n",
       "    </tr>\n",
       "    <tr>\n",
       "      <th>124068</th>\n",
       "      <td>2021-02-13 23:59:22+00:00</td>\n",
       "      <td>1</td>\n",
       "      <td>@AleSanchez25 @LassoGuillermo Muchas gracias, ...</td>\n",
       "      <td>1360740379847499780</td>\n",
       "      <td>es</td>\n",
       "      <td>NaN</td>\n",
       "      <td>NaN</td>\n",
       "      <td>2011-03-08 01:40:40+00:00</td>\n",
       "      <td>1608</td>\n",
       "      <td>147</td>\n",
       "      <td>386</td>\n",
       "      <td>262437024</td>\n",
       "      <td>Marbella, España</td>\n",
       "      <td>False</td>\n",
       "      <td>0</td>\n",
       "    </tr>\n",
       "  </tbody>\n",
       "</table>\n",
       "<p>124069 rows × 15 columns</p>\n",
       "</div>"
      ],
      "text/plain": [
       "                      created_at  favorite_count  \\\n",
       "0      2021-01-24 18:48:13+00:00               0   \n",
       "1      2021-01-24 18:50:06+00:00               0   \n",
       "2      2021-01-24 18:51:16+00:00               0   \n",
       "3      2021-01-24 18:52:20+00:00               0   \n",
       "4      2021-01-24 18:53:02+00:00               0   \n",
       "...                          ...             ...   \n",
       "124064 2021-02-13 23:57:13+00:00               0   \n",
       "124065 2021-02-13 23:57:49+00:00               0   \n",
       "124066 2021-02-13 23:58:41+00:00               0   \n",
       "124067 2021-02-13 23:59:12+00:00               0   \n",
       "124068 2021-02-13 23:59:22+00:00               1   \n",
       "\n",
       "                                                full_text  \\\n",
       "0       RT @Danielsalcan88: Se imaginan un gobierno de...   \n",
       "1       RT @DiegoFuentesEC: Lenín Moreno NO gobernó co...   \n",
       "2       RT @relicheandres: MITOMANÍA\\r\\n\\r\\n▪︎ Guiller...   \n",
       "3       RT @felipeandrebsc: Carlos Vera Di la verdad, ...   \n",
       "4       RT @fridayorke: Ya entendí, Hervas subió foto ...   \n",
       "...                                                   ...   \n",
       "124064  RT @Datoworld: 🇪🇨#Ecuador-Segunda Vuelta \\r\\n\\...   \n",
       "124065  RT @CarlosP05340289: Guillermo Lasso con su tí...   \n",
       "124066  RT @MarcoAnibal: Escuchar a Carlos Pérez Guart...   \n",
       "124067  RT @Guayaco__2020: - Andrés Arauz: 3'027.073\\r...   \n",
       "124068  @AleSanchez25 @LassoGuillermo Muchas gracias, ...   \n",
       "\n",
       "                     id_str metadata.iso_language_code  \\\n",
       "0       1353414316947550213                         es   \n",
       "1       1353414791684042757                         es   \n",
       "2       1353415086837276673                         es   \n",
       "3       1353415355914473472                         es   \n",
       "4       1353415532385452032                         es   \n",
       "...                     ...                        ...   \n",
       "124064  1360739839604367362                         es   \n",
       "124065  1360739987927543813                         es   \n",
       "124066  1360740207184732162                         es   \n",
       "124067  1360740336100868097                         es   \n",
       "124068  1360740379847499780                         es   \n",
       "\n",
       "           retweeted_status.created_at  \\\n",
       "0       Sat Jan 23 23:24:31 +0000 2021   \n",
       "1       Mon Jan 18 22:50:08 +0000 2021   \n",
       "2       Sun Jan 24 16:13:51 +0000 2021   \n",
       "3       Sun Jan 24 07:07:27 +0000 2021   \n",
       "4       Sun Jan 24 16:14:54 +0000 2021   \n",
       "...                                ...   \n",
       "124064  Sat Feb 13 17:06:03 +0000 2021   \n",
       "124065  Sat Feb 13 17:12:41 +0000 2021   \n",
       "124066  Sat Feb 13 13:58:09 +0000 2021   \n",
       "124067  Sat Feb 13 00:38:10 +0000 2021   \n",
       "124068                             NaN   \n",
       "\n",
       "                               retweeted_status.full_text  \\\n",
       "0       Se imaginan un gobierno de Guillermo Lasso con...   \n",
       "1       Lenín Moreno NO gobernó con Alianza PAIS, lo h...   \n",
       "2       MITOMANÍA\\r\\n\\r\\n▪︎ Guillermo Celi dice que Ma...   \n",
       "3       Carlos Vera Di la verdad, así reciben a tu ído...   \n",
       "4       Ya entendí, Hervas subió foto d Lasso y Moreno...   \n",
       "...                                                   ...   \n",
       "124064  🇪🇨#Ecuador-Segunda Vuelta \\r\\n\\r\\n🔵Guillermo L...   \n",
       "124065  Guillermo Lasso con su título de Bachiller se ...   \n",
       "124066  Escuchar a Carlos Pérez Guartambel en su careo...   \n",
       "124067  - Andrés Arauz: 3'027.073\\r\\n- Guillermo Lasso...   \n",
       "124068                                                NaN   \n",
       "\n",
       "                 user.created_at  user.favourites_count  user.followers_count  \\\n",
       "0      2020-01-05 21:38:08+00:00                  22225                   150   \n",
       "1      2018-10-23 14:39:27+00:00                   3027                   228   \n",
       "2      2012-09-21 14:11:58+00:00                 109516                   450   \n",
       "3      2017-02-21 02:01:26+00:00                 150546                   821   \n",
       "4      2010-12-08 20:25:30+00:00                  11385                   126   \n",
       "...                          ...                    ...                   ...   \n",
       "124064 2016-07-05 16:21:13+00:00                  24852                   535   \n",
       "124065 2014-03-31 14:53:22+00:00                  14207                   100   \n",
       "124066 2015-06-17 02:28:49+00:00                  67781                   293   \n",
       "124067 2010-11-21 21:48:17+00:00                  67236                  4278   \n",
       "124068 2011-03-08 01:40:40+00:00                   1608                   147   \n",
       "\n",
       "        user.friends_count          user.id_str            user.location  \\\n",
       "0                      219  1213937693018607616           Quito, Ecuador   \n",
       "1                     1384  1054744113814429696                      NaN   \n",
       "2                     1024            837872970        Queens, New York.   \n",
       "3                      591   833859141185712128                      NaN   \n",
       "4                      989            224364373                  Ecuador   \n",
       "...                    ...                  ...                      ...   \n",
       "124064                2200   750363914186190848  Barquisimeto, Venezuela   \n",
       "124065                 168           2449978689                      NaN   \n",
       "124066                 777           3330587501           Quito, Ecuador   \n",
       "124067                3499            218266485       Guayaquil, Ecuador   \n",
       "124068                 386            262437024         Marbella, España   \n",
       "\n",
       "        user.verified  retweet_count  \n",
       "0               False            409  \n",
       "1               False              9  \n",
       "2               False            997  \n",
       "3               False             11  \n",
       "4               False              7  \n",
       "...               ...            ...  \n",
       "124064          False             40  \n",
       "124065          False             81  \n",
       "124066          False            308  \n",
       "124067          False            807  \n",
       "124068          False              0  \n",
       "\n",
       "[124069 rows x 15 columns]"
      ]
     },
     "execution_count": 33,
     "metadata": {},
     "output_type": "execute_result"
    }
   ],
   "source": [
    "df_lasso = pd.read_csv(data_raw+\"/tweets_about_lasso.csv\")\n",
    "df_lasso['created_at'] = pd.to_datetime(df_lasso['created_at'], utc=pytz.UTC)\n",
    "df_lasso['user.created_at'] = pd.to_datetime(df_lasso['user.created_at'], utc=pytz.UTC)\n",
    "df_lasso"
   ]
  },
  {
   "cell_type": "markdown",
   "metadata": {},
   "source": [
    "## **2.2.&emsp; Removing Duplicates**\n",
    ">lorem ipsum"
   ]
  },
  {
   "cell_type": "code",
   "execution_count": 34,
   "metadata": {},
   "outputs": [
    {
     "data": {
      "text/plain": [
       "104928"
      ]
     },
     "execution_count": 34,
     "metadata": {},
     "output_type": "execute_result"
    }
   ],
   "source": [
    "# Count duplicates\n",
    "len(df_lasso['full_text'])-len(df_lasso['full_text'].drop_duplicates())"
   ]
  },
  {
   "cell_type": "code",
   "execution_count": 35,
   "metadata": {},
   "outputs": [],
   "source": [
    "df_lasso_processed = df_lasso.drop_duplicates( ['full_text'], keep='first')"
   ]
  },
  {
   "cell_type": "code",
   "execution_count": 36,
   "metadata": {},
   "outputs": [
    {
     "data": {
      "text/plain": [
       "19141"
      ]
     },
     "execution_count": 36,
     "metadata": {},
     "output_type": "execute_result"
    }
   ],
   "source": [
    "len(df_lasso_processed['full_text'])"
   ]
  },
  {
   "cell_type": "markdown",
   "metadata": {},
   "source": [
    "## **2.3.&emsp; Identify tweets by trolls**\n",
    ">Lorem ipsum"
   ]
  },
  {
   "cell_type": "code",
   "execution_count": 37,
   "metadata": {},
   "outputs": [],
   "source": [
    "def is_troll(Dt, Dc, Fc, fc, v):\n",
    "    '''\n",
    "    ----------------------------------\n",
    "    | Variable Description           |\n",
    "    ----------------------------------\n",
    "    | Dt  stands for Date Tweet      |\n",
    "    | Dc  stands for Date creation   |\n",
    "    | Fc  stands for Followers count |\n",
    "    | fc  stands for friend count    |\n",
    "    | v   stands for verified        |\n",
    "    ----------------------------------\n",
    "    | Weight penalization            |\n",
    "    ----------------------------------\n",
    "    | Timeliness metric:  WD = 0.7   |\n",
    "    | Followers metric:   WF = 0.2   |\n",
    "    | Following metric:   Wf = 0.1   |\n",
    "    ----------------------------------\n",
    "    | Acceptance Threshold           |\n",
    "    ----------------------------------\n",
    "    | Non Troll   > 0.8              |\n",
    "    | Troll       < 0.8              |\n",
    "    ----------------------------------\n",
    "    '''\n",
    "    # If user is verified then is a real person\n",
    "    if v:\n",
    "        return True\n",
    "    else:\n",
    "\n",
    "        threshold = 0.7*((Dt-Dc).days)/180 + 0.2*(Fc/250) + 0.1*(fc/300)\n",
    "\n",
    "        return threshold < 0.8\n"
   ]
  },
  {
   "cell_type": "code",
   "execution_count": 38,
   "metadata": {},
   "outputs": [],
   "source": [
    "df_lasso_processed['is_troll'] = df_lasso_processed.apply(lambda x: is_troll(x['created_at'],\n",
    "                                                         x['user.created_at'],\n",
    "                                                         x['user.followers_count'],\n",
    "                                                         x['user.friends_count'],\n",
    "                                                         x['user.verified']), axis=1)"
   ]
  },
  {
   "cell_type": "markdown",
   "metadata": {},
   "source": [
    "## **2.4.&emsp; Removing characters and Specific Stopwords**\n",
    ">lorem ipsum"
   ]
  },
  {
   "cell_type": "code",
   "execution_count": 39,
   "metadata": {},
   "outputs": [],
   "source": [
    "def clean_text(text):\n",
    "    \"\"\"Function to clean text extracted from the Internet with html tags\n",
    "    \n",
    "    Parameters\n",
    "    ----------\n",
    "    text: str \n",
    "      original string\n",
    "    \n",
    "    Return\n",
    "    ------\n",
    "    text: str\n",
    "      modified initial string\n",
    "    \"\"\"\n",
    "\n",
    "    text = text.lower() # lowercase text\n",
    "    text = re.sub(r\"(?:\\@|http?\\://|https?\\://|www)\\S+\", \"\", text) #Remove http links\n",
    "    text = EMOJI.sub(r'', text)\n",
    "    text = REPLACE_BY_SPACE_RE.sub(' ', text) # replace REPLACE_BY_SPACE_RE symbols by space in text\n",
    "    text = ' '.join(word for word in text.split() if word not in STOPWORDS) # delete stopwors from text\n",
    "    return text"
   ]
  },
  {
   "cell_type": "code",
   "execution_count": 40,
   "metadata": {
    "tags": []
   },
   "outputs": [],
   "source": [
    "# filtrado de caracteres y stopwords\n",
    "REPLACE_BY_SPACE_RE = re.compile('[/(){}\\[\\]\\|@#:,;¿?!¡-]')\n",
    "EMOJI = re.compile(\"[\"\n",
    "                               u\"\\U0001F600-\\U0001F64F\"  # emoticons\n",
    "                               u\"\\U0001F300-\\U0001F5FF\"  # symbols & pictographs\n",
    "                               u\"\\U0001F680-\\U0001F6FF\"  # transport & map symbols\n",
    "                               u\"\\U0001F1E0-\\U0001F1FF\"  # flags (iOS)\n",
    "                               u\"\\U00002500-\\U00002BEF\"  # chinese char\n",
    "                               u\"\\U00002702-\\U000027B0\"\n",
    "                               u\"\\U00002702-\\U000027B0\"\n",
    "                               u\"\\U000024C2-\\U0001F251\"\n",
    "                               u\"\\U0001f926-\\U0001f937\"\n",
    "                               u\"\\U00010000-\\U0010ffff\"\n",
    "                               u\"\\u2640-\\u2642\"\n",
    "                               u\"\\u2600-\\u2B55\"\n",
    "                               u\"\\u200d\"\n",
    "                               u\"\\u23cf\"\n",
    "                               u\"\\u23e9\"\n",
    "                               u\"\\u231a\"\n",
    "                               u\"\\ufe0f\"  # dingbats\n",
    "                               u\"\\u3030\"\n",
    "                               \"]+\", flags=re.UNICODE)\n",
    "\n",
    "STOPWORDS = ('rt')  # Adding new stopwords to the set, 'cause theese words repeat in all docs\n",
    "\n",
    "df_lasso_processed['full_text'] = df_lasso_processed[\"full_text\"].apply(clean_text)"
   ]
  },
  {
   "cell_type": "markdown",
   "metadata": {},
   "source": [
    "### _Luego de remover los caracteres especiales pueden existir Tweets vacios, debido a que estos solo contenian emotes o enlaces en su interior. Es por esta razon que se buscan estos espacios en blanco y se los quita_"
   ]
  },
  {
   "cell_type": "code",
   "execution_count": 41,
   "metadata": {},
   "outputs": [
    {
     "data": {
      "text/plain": [
       "27"
      ]
     },
     "execution_count": 41,
     "metadata": {},
     "output_type": "execute_result"
    }
   ],
   "source": [
    "df_lasso_processed[df_lasso_processed['full_text']==\"\"][\"full_text\"].count()"
   ]
  },
  {
   "cell_type": "code",
   "execution_count": 42,
   "metadata": {},
   "outputs": [],
   "source": [
    "df_lasso_processed.drop(df_lasso_processed.loc[df_lasso_processed[\"full_text\"]==\"\"].index, inplace=True)"
   ]
  },
  {
   "cell_type": "code",
   "execution_count": 43,
   "metadata": {},
   "outputs": [
    {
     "data": {
      "text/plain": [
       "0"
      ]
     },
     "execution_count": 43,
     "metadata": {},
     "output_type": "execute_result"
    }
   ],
   "source": [
    "df_lasso_processed[df_lasso_processed['full_text']==\"\"][\"full_text\"].count()"
   ]
  },
  {
   "cell_type": "code",
   "execution_count": 44,
   "metadata": {},
   "outputs": [],
   "source": [
    "df_lasso_processed.to_csv(data_processed+'/lasso_clean.csv', \n",
    "                        index=False, header=True, chunksize=10000)"
   ]
  },
  {
   "cell_type": "code",
   "execution_count": null,
   "metadata": {},
   "outputs": [],
   "source": []
  },
  {
   "cell_type": "code",
   "execution_count": null,
   "metadata": {},
   "outputs": [],
   "source": []
  }
 ],
 "metadata": {
  "colab": {
   "name": "Trabajo Final Data Science G4.ipynb",
   "provenance": [],
   "toc_visible": true
  },
  "kernelspec": {
   "display_name": "darlin",
   "language": "python",
   "name": "darlin"
  },
  "language_info": {
   "codemirror_mode": {
    "name": "ipython",
    "version": 3
   },
   "file_extension": ".py",
   "mimetype": "text/x-python",
   "name": "python",
   "nbconvert_exporter": "python",
   "pygments_lexer": "ipython3",
   "version": "3.7.0"
  }
 },
 "nbformat": 4,
 "nbformat_minor": 4
}
