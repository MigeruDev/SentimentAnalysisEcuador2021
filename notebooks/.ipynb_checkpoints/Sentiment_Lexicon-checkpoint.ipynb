{
 "cells": [
  {
   "cell_type": "markdown",
   "metadata": {
    "colab_type": "text",
    "id": "ehNjBdcxKwCR"
   },
   "source": [
    "# **<center> Análisis de Sentimientos de los candidatos presidenciales </br> Ecuador 2021, en la red social Twitter </center>**\n",
    "<h6>\n",
    "    <center> Miguel Angel Macias, Jonnathan Campoberde <br/> \n",
    "    <i>Universidad de Cuenca <br/>  <i>Facultad de Ingenieria - Escuela de Sistemas<br/> Cuenca, Ecuador</i>\n",
    "    <br/> { mangel.maciasn, jonnathan.campoberde }@ucuenca.edu.ec</center>\n",
    "<h6>"
   ]
  },
  {
   "cell_type": "markdown",
   "metadata": {
    "colab_type": "text",
    "id": "aJY55ow_KwCV"
   },
   "source": [
    "# **I.&emsp;Introducción**\n",
    "El presente trabajo tiene como objetivo emplear de manera práctica todos los conocimientos adquiridos en el transcurso de la asignatura “Text Mining”. Se trabajará con un dataset... . Se busca analizar el ..., detectando las ... por medio de ... . Todo esto con el propósito de ... .\n",
    "\n",
    "## **1.1.&emsp;Objetivos del Proyecto**\n",
    ">El objetivo del proyecto es el Análisis de Sentimientos de los candidatos presidenciales de Ecuador 2021, para luego contrastar los resultados obtenidos con los resultados oficiales de las elecciones Posteriormente se desea responder a las preguntas definidas en 1.2.\n",
    "\n",
    "## **1.2.&emsp;Preguntas de investigación**\n",
    ">- RQ1:     ¿Qué tan precisamente los datos de Twitter reflejan el sentimiento político en un proceso electoral?\n",
    ">- RQ1:     ¿En qué grado de aceptación se encuentran los candidatos dentro de la red Social Twitter?\n",
    ">- RQ3:     ¿Los resultadso oficiales son parecidos a los hallados en nuestro análisis?\n"
   ]
  },
  {
   "cell_type": "markdown",
   "metadata": {},
   "source": [
    "# **III.&emsp;SENTIMENT LEXICON**\n",
    "\n",
    "## **3.1.&emsp; Reading dataset**\n",
    ">Para este paso..."
   ]
  },
  {
   "cell_type": "code",
   "execution_count": 1,
   "metadata": {},
   "outputs": [],
   "source": [
    "#!pip install spanish_sentiment_analysis"
   ]
  },
  {
   "cell_type": "code",
   "execution_count": 1,
   "metadata": {},
   "outputs": [
    {
     "name": "stdout",
     "output_type": "stream",
     "text": [
      "Requirement already satisfied: joblib in c:\\users\\jonat\\anaconda3\\lib\\site-packages (0.17.0)\n"
     ]
    }
   ],
   "source": [
    "!pip install joblib"
   ]
  },
  {
   "cell_type": "code",
   "execution_count": 5,
   "metadata": {},
   "outputs": [
    {
     "ename": "ImportError",
     "evalue": "cannot import name 'joblib' from 'sklearn.externals' (C:\\Users\\jonat\\anaconda3\\lib\\site-packages\\sklearn\\externals\\__init__.py)",
     "output_type": "error",
     "traceback": [
      "\u001b[1;31m---------------------------------------------------------------------------\u001b[0m",
      "\u001b[1;31mImportError\u001b[0m                               Traceback (most recent call last)",
      "\u001b[1;32m<ipython-input-5-985ca8ff1659>\u001b[0m in \u001b[0;36m<module>\u001b[1;34m\u001b[0m\n\u001b[1;32m----> 1\u001b[1;33m \u001b[1;32mfrom\u001b[0m \u001b[0msklearn\u001b[0m\u001b[1;33m.\u001b[0m\u001b[0mexternals\u001b[0m \u001b[1;32mimport\u001b[0m \u001b[0mjoblib\u001b[0m\u001b[1;33m\u001b[0m\u001b[1;33m\u001b[0m\u001b[0m\n\u001b[0m",
      "\u001b[1;31mImportError\u001b[0m: cannot import name 'joblib' from 'sklearn.externals' (C:\\Users\\jonat\\anaconda3\\lib\\site-packages\\sklearn\\externals\\__init__.py)"
     ]
    }
   ],
   "source": [
    "from sklearn.externals import joblib\n"
   ]
  },
  {
   "cell_type": "code",
   "execution_count": 7,
   "metadata": {},
   "outputs": [
    {
     "ename": "ImportError",
     "evalue": "cannot import name 'joblib' from 'sklearn.externals' (C:\\Users\\jonat\\anaconda3\\lib\\site-packages\\sklearn\\externals\\__init__.py)",
     "output_type": "error",
     "traceback": [
      "\u001b[1;31m---------------------------------------------------------------------------\u001b[0m",
      "\u001b[1;31mImportError\u001b[0m                               Traceback (most recent call last)",
      "\u001b[1;32m<ipython-input-7-ffdfa1955822>\u001b[0m in \u001b[0;36m<module>\u001b[1;34m\u001b[0m\n\u001b[0;32m      5\u001b[0m \u001b[1;32mimport\u001b[0m \u001b[0mpandas\u001b[0m \u001b[1;32mas\u001b[0m \u001b[0mpd\u001b[0m             \u001b[1;31m# Manejo de datos / dataframes\u001b[0m\u001b[1;33m\u001b[0m\u001b[1;33m\u001b[0m\u001b[0m\n\u001b[0;32m      6\u001b[0m \u001b[1;33m\u001b[0m\u001b[0m\n\u001b[1;32m----> 7\u001b[1;33m \u001b[1;32mfrom\u001b[0m \u001b[0mclassifier\u001b[0m \u001b[1;32mimport\u001b[0m \u001b[1;33m*\u001b[0m\u001b[1;33m\u001b[0m\u001b[1;33m\u001b[0m\u001b[0m\n\u001b[0m\u001b[0;32m      8\u001b[0m \u001b[1;32mimport\u001b[0m \u001b[0mjoblib\u001b[0m\u001b[1;33m\u001b[0m\u001b[1;33m\u001b[0m\u001b[0m\n\u001b[0;32m      9\u001b[0m \u001b[1;33m\u001b[0m\u001b[0m\n",
      "\u001b[1;32m~\\anaconda3\\lib\\site-packages\\classifier\\__init__.py\u001b[0m in \u001b[0;36m<module>\u001b[1;34m\u001b[0m\n\u001b[1;32m----> 1\u001b[1;33m \u001b[1;32mfrom\u001b[0m \u001b[1;33m.\u001b[0m\u001b[0msentimentPipeline\u001b[0m \u001b[1;32mimport\u001b[0m \u001b[1;33m*\u001b[0m\u001b[1;33m\u001b[0m\u001b[1;33m\u001b[0m\u001b[0m\n\u001b[0m\u001b[0;32m      2\u001b[0m \u001b[1;32mfrom\u001b[0m \u001b[1;33m.\u001b[0m\u001b[0mscript_global\u001b[0m \u001b[1;32mimport\u001b[0m \u001b[1;33m*\u001b[0m\u001b[1;33m\u001b[0m\u001b[1;33m\u001b[0m\u001b[0m\n",
      "\u001b[1;32m~\\anaconda3\\lib\\site-packages\\classifier\\sentimentPipeline.py\u001b[0m in \u001b[0;36m<module>\u001b[1;34m\u001b[0m\n\u001b[1;32m----> 1\u001b[1;33m \u001b[1;32mfrom\u001b[0m \u001b[0msklearn\u001b[0m\u001b[1;33m.\u001b[0m\u001b[0mexternals\u001b[0m \u001b[1;32mimport\u001b[0m \u001b[0mjoblib\u001b[0m\u001b[1;33m\u001b[0m\u001b[1;33m\u001b[0m\u001b[0m\n\u001b[0m\u001b[0;32m      2\u001b[0m \u001b[1;32mimport\u001b[0m \u001b[0mre\u001b[0m\u001b[1;33m\u001b[0m\u001b[1;33m\u001b[0m\u001b[0m\n\u001b[0;32m      3\u001b[0m \u001b[1;32mimport\u001b[0m \u001b[0mjson\u001b[0m\u001b[1;33m\u001b[0m\u001b[1;33m\u001b[0m\u001b[0m\n\u001b[0;32m      4\u001b[0m \u001b[1;32mfrom\u001b[0m \u001b[0msklearn\u001b[0m\u001b[1;33m.\u001b[0m\u001b[0mfeature_extraction\u001b[0m\u001b[1;33m.\u001b[0m\u001b[0mtext\u001b[0m \u001b[1;32mimport\u001b[0m \u001b[0mTfidfVectorizer\u001b[0m\u001b[1;33m,\u001b[0m \u001b[0mCountVectorizer\u001b[0m\u001b[1;33m\u001b[0m\u001b[1;33m\u001b[0m\u001b[0m\n\u001b[0;32m      5\u001b[0m \u001b[1;32mfrom\u001b[0m \u001b[0msklearn\u001b[0m\u001b[1;33m.\u001b[0m\u001b[0mfeature_selection\u001b[0m \u001b[1;32mimport\u001b[0m \u001b[0mSelectKBest\u001b[0m\u001b[1;33m,\u001b[0m \u001b[0mchi2\u001b[0m\u001b[1;33m\u001b[0m\u001b[1;33m\u001b[0m\u001b[0m\n",
      "\u001b[1;31mImportError\u001b[0m: cannot import name 'joblib' from 'sklearn.externals' (C:\\Users\\jonat\\anaconda3\\lib\\site-packages\\sklearn\\externals\\__init__.py)"
     ]
    }
   ],
   "source": [
    "import warnings\n",
    "\n",
    "import pytz\n",
    "import numpy as np              # Para operaciones matematicas\n",
    "import pandas as pd             # Manejo de datos / dataframes\n",
    "\n",
    "from classifier import *\n",
    "import joblib\n",
    "\n",
    "warnings.filterwarnings(\"ignore\")\n",
    "%matplotlib inline"
   ]
  },
  {
   "cell_type": "code",
   "execution_count": null,
   "metadata": {},
   "outputs": [],
   "source": [
    "data_raw = '../data/raw'              # directorio que contiene toda la data sin manipular\n",
    "data_processed = '../data/processed'  # directorio que contiene data procesada"
   ]
  },
  {
   "cell_type": "markdown",
   "metadata": {},
   "source": [
    "# Andrés Arauz Sentiment Lexicon"
   ]
  },
  {
   "cell_type": "code",
   "execution_count": null,
   "metadata": {},
   "outputs": [],
   "source": [
    "df_arauz_clean = pd.read_csv(data_processed+\"/arauz_clean.csv\")\n",
    "df_arauz_clean"
   ]
  },
  {
   "cell_type": "markdown",
   "metadata": {},
   "source": [
    "## **3.2.&emsp;SENTI-PY and Sentiment Tagging**\n",
    ">Para este paso..."
   ]
  },
  {
   "cell_type": "code",
   "execution_count": 8,
   "metadata": {},
   "outputs": [],
   "source": [
    "senti_clf = SentimentClassifier()"
   ]
  },
  {
   "cell_type": "code",
   "execution_count": 9,
   "metadata": {},
   "outputs": [],
   "source": [
    "tweet_sent = {}\n",
    "\n",
    "for id_str, full_text in df_arauz_clean[[\"id_str\", \"full_text\"]].values:\n",
    "    senti_sc = senti_clf.predict(full_text)\n",
    "    tag = \"Neutral\"\n",
    "    if senti_sc < 0.45:\n",
    "        tag = \"Negativo\"\n",
    "    elif senti_sc > 0.55:\n",
    "        tag = \"Positivo\"\n",
    "    tweet_sent[id_str] = [tag, senti_sc] "
   ]
  },
  {
   "cell_type": "code",
   "execution_count": 10,
   "metadata": {},
   "outputs": [],
   "source": [
    "df_arauz_clean[\"sentiment_tag\"] = df_arauz_clean[\"id_str\"].apply(lambda x: tweet_sent[x][0])\n",
    "df_arauz_clean[\"sentiment_sc\"] = df_arauz_clean[\"id_str\"].apply(lambda x: tweet_sent[x][1])"
   ]
  },
  {
   "cell_type": "code",
   "execution_count": 15,
   "metadata": {},
   "outputs": [],
   "source": [
    "df_arauz_clean.to_csv(data_processed+'/arauz_tag.csv', \n",
    "                        index=False, header=True, chunksize=10000)"
   ]
  },
  {
   "cell_type": "code",
   "execution_count": null,
   "metadata": {},
   "outputs": [],
   "source": []
  },
  {
   "cell_type": "markdown",
   "metadata": {},
   "source": [
    "# Guillermo Lasso Sentiment Lexicon"
   ]
  },
  {
   "cell_type": "code",
   "execution_count": 5,
   "metadata": {},
   "outputs": [
    {
     "data": {
      "text/html": [
       "<div>\n",
       "<style scoped>\n",
       "    .dataframe tbody tr th:only-of-type {\n",
       "        vertical-align: middle;\n",
       "    }\n",
       "\n",
       "    .dataframe tbody tr th {\n",
       "        vertical-align: top;\n",
       "    }\n",
       "\n",
       "    .dataframe thead th {\n",
       "        text-align: right;\n",
       "    }\n",
       "</style>\n",
       "<table border=\"1\" class=\"dataframe\">\n",
       "  <thead>\n",
       "    <tr style=\"text-align: right;\">\n",
       "      <th></th>\n",
       "      <th>created_at</th>\n",
       "      <th>favorite_count</th>\n",
       "      <th>full_text</th>\n",
       "      <th>id_str</th>\n",
       "      <th>metadata.iso_language_code</th>\n",
       "      <th>retweeted_status.created_at</th>\n",
       "      <th>retweeted_status.full_text</th>\n",
       "      <th>user.created_at</th>\n",
       "      <th>user.favourites_count</th>\n",
       "      <th>user.followers_count</th>\n",
       "      <th>user.friends_count</th>\n",
       "      <th>user.id_str</th>\n",
       "      <th>user.location</th>\n",
       "      <th>user.verified</th>\n",
       "      <th>retweet_count</th>\n",
       "      <th>is_troll</th>\n",
       "    </tr>\n",
       "  </thead>\n",
       "  <tbody>\n",
       "    <tr>\n",
       "      <td>0</td>\n",
       "      <td>2021-02-01 00:00:00+00:00</td>\n",
       "      <td>1</td>\n",
       "      <td>elecciones2021ec las propuestas económicas de ...</td>\n",
       "      <td>1356029498307784705</td>\n",
       "      <td>es</td>\n",
       "      <td>NaN</td>\n",
       "      <td>NaN</td>\n",
       "      <td>2011-12-05 13:59:33+00:00</td>\n",
       "      <td>269</td>\n",
       "      <td>12756</td>\n",
       "      <td>288</td>\n",
       "      <td>429043466</td>\n",
       "      <td>Ecuador</td>\n",
       "      <td>False</td>\n",
       "      <td>0</td>\n",
       "      <td>False</td>\n",
       "    </tr>\n",
       "    <tr>\n",
       "      <td>1</td>\n",
       "      <td>2021-01-31 23:59:54+00:00</td>\n",
       "      <td>0</td>\n",
       "      <td>el candidato andrés arauz no aceptó responder ...</td>\n",
       "      <td>1356029470554128384</td>\n",
       "      <td>es</td>\n",
       "      <td>Sun Jan 31 15:51:12 +0000 2021</td>\n",
       "      <td>El candidato Andrés Arauz @ecuarauz no aceptó ...</td>\n",
       "      <td>2010-04-22 06:20:32+00:00</td>\n",
       "      <td>15211</td>\n",
       "      <td>1643</td>\n",
       "      <td>3233</td>\n",
       "      <td>135774682</td>\n",
       "      <td>Ombligo del mundo</td>\n",
       "      <td>False</td>\n",
       "      <td>154</td>\n",
       "      <td>False</td>\n",
       "    </tr>\n",
       "    <tr>\n",
       "      <td>2</td>\n",
       "      <td>2021-01-31 23:59:53+00:00</td>\n",
       "      <td>0</td>\n",
       "      <td>candidato del correísmo andrés arauz aumentó s...</td>\n",
       "      <td>1356029467274194946</td>\n",
       "      <td>es</td>\n",
       "      <td>Sun Jan 31 19:20:13 +0000 2021</td>\n",
       "      <td>Candidato del Correísmo, Andrés Arauz aumentó ...</td>\n",
       "      <td>2020-11-24 03:29:03+00:00</td>\n",
       "      <td>10157</td>\n",
       "      <td>169</td>\n",
       "      <td>163</td>\n",
       "      <td>1331077287144517634</td>\n",
       "      <td>NaN</td>\n",
       "      <td>False</td>\n",
       "      <td>387</td>\n",
       "      <td>True</td>\n",
       "    </tr>\n",
       "    <tr>\n",
       "      <td>3</td>\n",
       "      <td>2021-01-31 23:59:30+00:00</td>\n",
       "      <td>0</td>\n",
       "      <td>eln habría prestado $80.000 para la campaña de...</td>\n",
       "      <td>1356029369324593155</td>\n",
       "      <td>es</td>\n",
       "      <td>Sun Jan 31 16:18:52 +0000 2021</td>\n",
       "      <td>#ELN habría prestado $80.000 para la campaña d...</td>\n",
       "      <td>2010-08-20 20:40:04+00:00</td>\n",
       "      <td>2653</td>\n",
       "      <td>197</td>\n",
       "      <td>226</td>\n",
       "      <td>180914917</td>\n",
       "      <td>Quito</td>\n",
       "      <td>False</td>\n",
       "      <td>23</td>\n",
       "      <td>False</td>\n",
       "    </tr>\n",
       "    <tr>\n",
       "      <td>4</td>\n",
       "      <td>2021-01-31 23:59:27+00:00</td>\n",
       "      <td>0</td>\n",
       "      <td>$1 000 a 1 millón de familias ayudará a dinami...</td>\n",
       "      <td>1356029360399151105</td>\n",
       "      <td>es</td>\n",
       "      <td>Sun Jan 31 14:02:07 +0000 2021</td>\n",
       "      <td>🇪🇨$1 000 A 1 MILLÓN DE FAMILIAS AYUDARÁ A DINA...</td>\n",
       "      <td>2011-12-07 02:30:28+00:00</td>\n",
       "      <td>24781</td>\n",
       "      <td>747</td>\n",
       "      <td>1006</td>\n",
       "      <td>430359745</td>\n",
       "      <td>Guayaquil</td>\n",
       "      <td>False</td>\n",
       "      <td>12</td>\n",
       "      <td>False</td>\n",
       "    </tr>\n",
       "    <tr>\n",
       "      <td>...</td>\n",
       "      <td>...</td>\n",
       "      <td>...</td>\n",
       "      <td>...</td>\n",
       "      <td>...</td>\n",
       "      <td>...</td>\n",
       "      <td>...</td>\n",
       "      <td>...</td>\n",
       "      <td>...</td>\n",
       "      <td>...</td>\n",
       "      <td>...</td>\n",
       "      <td>...</td>\n",
       "      <td>...</td>\n",
       "      <td>...</td>\n",
       "      <td>...</td>\n",
       "      <td>...</td>\n",
       "      <td>...</td>\n",
       "    </tr>\n",
       "    <tr>\n",
       "      <td>12260</td>\n",
       "      <td>2021-02-01 00:09:31+00:00</td>\n",
       "      <td>0</td>\n",
       "      <td>ilustrame porque se vendían los cdrs al 40% y ...</td>\n",
       "      <td>1356031890243858433</td>\n",
       "      <td>es</td>\n",
       "      <td>NaN</td>\n",
       "      <td>NaN</td>\n",
       "      <td>2019-09-30 18:22:03+00:00</td>\n",
       "      <td>802</td>\n",
       "      <td>53</td>\n",
       "      <td>552</td>\n",
       "      <td>1178736732826734599</td>\n",
       "      <td>NaN</td>\n",
       "      <td>False</td>\n",
       "      <td>0</td>\n",
       "      <td>False</td>\n",
       "    </tr>\n",
       "    <tr>\n",
       "      <td>12261</td>\n",
       "      <td>2021-02-01 00:07:41+00:00</td>\n",
       "      <td>3</td>\n",
       "      <td>es imperativo que saquemos a estas ratas y más...</td>\n",
       "      <td>1356031431550631937</td>\n",
       "      <td>es</td>\n",
       "      <td>NaN</td>\n",
       "      <td>NaN</td>\n",
       "      <td>2020-12-09 16:17:04+00:00</td>\n",
       "      <td>217</td>\n",
       "      <td>34</td>\n",
       "      <td>55</td>\n",
       "      <td>1336706385728430081</td>\n",
       "      <td>Las Palmas</td>\n",
       "      <td>False</td>\n",
       "      <td>0</td>\n",
       "      <td>True</td>\n",
       "    </tr>\n",
       "    <tr>\n",
       "      <td>12262</td>\n",
       "      <td>2021-02-01 00:04:17+00:00</td>\n",
       "      <td>19</td>\n",
       "      <td>según consejero esto es una infracción elector...</td>\n",
       "      <td>1356030576332066816</td>\n",
       "      <td>es</td>\n",
       "      <td>NaN</td>\n",
       "      <td>NaN</td>\n",
       "      <td>2020-12-11 02:59:34+00:00</td>\n",
       "      <td>2825</td>\n",
       "      <td>2294</td>\n",
       "      <td>1766</td>\n",
       "      <td>1337230403632050176</td>\n",
       "      <td>NaN</td>\n",
       "      <td>False</td>\n",
       "      <td>17</td>\n",
       "      <td>False</td>\n",
       "    </tr>\n",
       "    <tr>\n",
       "      <td>12263</td>\n",
       "      <td>2021-02-01 00:01:11+00:00</td>\n",
       "      <td>321</td>\n",
       "      <td>14 años el correismo nos ha estado robando y t...</td>\n",
       "      <td>1356029796665470977</td>\n",
       "      <td>es</td>\n",
       "      <td>NaN</td>\n",
       "      <td>NaN</td>\n",
       "      <td>2020-03-30 03:57:46+00:00</td>\n",
       "      <td>22591</td>\n",
       "      <td>4451</td>\n",
       "      <td>1717</td>\n",
       "      <td>1244473781923516416</td>\n",
       "      <td>NaN</td>\n",
       "      <td>False</td>\n",
       "      <td>114</td>\n",
       "      <td>False</td>\n",
       "    </tr>\n",
       "    <tr>\n",
       "      <td>12264</td>\n",
       "      <td>2021-02-01 00:00:06+00:00</td>\n",
       "      <td>6</td>\n",
       "      <td>lasso nebot y bucaram gobernaron con moreno ap...</td>\n",
       "      <td>1356029522987118592</td>\n",
       "      <td>es</td>\n",
       "      <td>NaN</td>\n",
       "      <td>NaN</td>\n",
       "      <td>2013-02-03 18:05:29+00:00</td>\n",
       "      <td>98466</td>\n",
       "      <td>621</td>\n",
       "      <td>1093</td>\n",
       "      <td>1145827459</td>\n",
       "      <td>Quito, Ecuador</td>\n",
       "      <td>False</td>\n",
       "      <td>2</td>\n",
       "      <td>False</td>\n",
       "    </tr>\n",
       "  </tbody>\n",
       "</table>\n",
       "<p>12265 rows × 16 columns</p>\n",
       "</div>"
      ],
      "text/plain": [
       "                      created_at  favorite_count  \\\n",
       "0      2021-02-01 00:00:00+00:00               1   \n",
       "1      2021-01-31 23:59:54+00:00               0   \n",
       "2      2021-01-31 23:59:53+00:00               0   \n",
       "3      2021-01-31 23:59:30+00:00               0   \n",
       "4      2021-01-31 23:59:27+00:00               0   \n",
       "...                          ...             ...   \n",
       "12260  2021-02-01 00:09:31+00:00               0   \n",
       "12261  2021-02-01 00:07:41+00:00               3   \n",
       "12262  2021-02-01 00:04:17+00:00              19   \n",
       "12263  2021-02-01 00:01:11+00:00             321   \n",
       "12264  2021-02-01 00:00:06+00:00               6   \n",
       "\n",
       "                                               full_text               id_str  \\\n",
       "0      elecciones2021ec las propuestas económicas de ...  1356029498307784705   \n",
       "1      el candidato andrés arauz no aceptó responder ...  1356029470554128384   \n",
       "2      candidato del correísmo andrés arauz aumentó s...  1356029467274194946   \n",
       "3      eln habría prestado $80.000 para la campaña de...  1356029369324593155   \n",
       "4      $1 000 a 1 millón de familias ayudará a dinami...  1356029360399151105   \n",
       "...                                                  ...                  ...   \n",
       "12260  ilustrame porque se vendían los cdrs al 40% y ...  1356031890243858433   \n",
       "12261  es imperativo que saquemos a estas ratas y más...  1356031431550631937   \n",
       "12262  según consejero esto es una infracción elector...  1356030576332066816   \n",
       "12263  14 años el correismo nos ha estado robando y t...  1356029796665470977   \n",
       "12264  lasso nebot y bucaram gobernaron con moreno ap...  1356029522987118592   \n",
       "\n",
       "      metadata.iso_language_code     retweeted_status.created_at  \\\n",
       "0                             es                             NaN   \n",
       "1                             es  Sun Jan 31 15:51:12 +0000 2021   \n",
       "2                             es  Sun Jan 31 19:20:13 +0000 2021   \n",
       "3                             es  Sun Jan 31 16:18:52 +0000 2021   \n",
       "4                             es  Sun Jan 31 14:02:07 +0000 2021   \n",
       "...                          ...                             ...   \n",
       "12260                         es                             NaN   \n",
       "12261                         es                             NaN   \n",
       "12262                         es                             NaN   \n",
       "12263                         es                             NaN   \n",
       "12264                         es                             NaN   \n",
       "\n",
       "                              retweeted_status.full_text  \\\n",
       "0                                                    NaN   \n",
       "1      El candidato Andrés Arauz @ecuarauz no aceptó ...   \n",
       "2      Candidato del Correísmo, Andrés Arauz aumentó ...   \n",
       "3      #ELN habría prestado $80.000 para la campaña d...   \n",
       "4      🇪🇨$1 000 A 1 MILLÓN DE FAMILIAS AYUDARÁ A DINA...   \n",
       "...                                                  ...   \n",
       "12260                                                NaN   \n",
       "12261                                                NaN   \n",
       "12262                                                NaN   \n",
       "12263                                                NaN   \n",
       "12264                                                NaN   \n",
       "\n",
       "                 user.created_at  user.favourites_count  user.followers_count  \\\n",
       "0      2011-12-05 13:59:33+00:00                    269                 12756   \n",
       "1      2010-04-22 06:20:32+00:00                  15211                  1643   \n",
       "2      2020-11-24 03:29:03+00:00                  10157                   169   \n",
       "3      2010-08-20 20:40:04+00:00                   2653                   197   \n",
       "4      2011-12-07 02:30:28+00:00                  24781                   747   \n",
       "...                          ...                    ...                   ...   \n",
       "12260  2019-09-30 18:22:03+00:00                    802                    53   \n",
       "12261  2020-12-09 16:17:04+00:00                    217                    34   \n",
       "12262  2020-12-11 02:59:34+00:00                   2825                  2294   \n",
       "12263  2020-03-30 03:57:46+00:00                  22591                  4451   \n",
       "12264  2013-02-03 18:05:29+00:00                  98466                   621   \n",
       "\n",
       "       user.friends_count          user.id_str      user.location  \\\n",
       "0                     288            429043466            Ecuador   \n",
       "1                    3233            135774682  Ombligo del mundo   \n",
       "2                     163  1331077287144517634                NaN   \n",
       "3                     226            180914917              Quito   \n",
       "4                    1006            430359745          Guayaquil   \n",
       "...                   ...                  ...                ...   \n",
       "12260                 552  1178736732826734599                NaN   \n",
       "12261                  55  1336706385728430081         Las Palmas   \n",
       "12262                1766  1337230403632050176                NaN   \n",
       "12263                1717  1244473781923516416                NaN   \n",
       "12264                1093           1145827459     Quito, Ecuador   \n",
       "\n",
       "       user.verified  retweet_count  is_troll  \n",
       "0              False              0     False  \n",
       "1              False            154     False  \n",
       "2              False            387      True  \n",
       "3              False             23     False  \n",
       "4              False             12     False  \n",
       "...              ...            ...       ...  \n",
       "12260          False              0     False  \n",
       "12261          False              0      True  \n",
       "12262          False             17     False  \n",
       "12263          False            114     False  \n",
       "12264          False              2     False  \n",
       "\n",
       "[12265 rows x 16 columns]"
      ]
     },
     "execution_count": 5,
     "metadata": {},
     "output_type": "execute_result"
    }
   ],
   "source": [
    "df_lasso_clean = pd.read_csv(data_processed+\"/lasso_clean.csv\")\n",
    "df_lasso_clean"
   ]
  },
  {
   "cell_type": "markdown",
   "metadata": {},
   "source": [
    "## **3.2.&emsp;SENTI-PY and Sentiment Tagging**\n",
    ">Para este paso..."
   ]
  },
  {
   "cell_type": "code",
   "execution_count": 8,
   "metadata": {},
   "outputs": [],
   "source": [
    "senti_clf = SentimentClassifier()"
   ]
  },
  {
   "cell_type": "code",
   "execution_count": 9,
   "metadata": {},
   "outputs": [],
   "source": [
    "tweet_sent = {}\n",
    "\n",
    "for id_str, full_text in df_lasso_clean[[\"id_str\", \"full_text\"]].values:\n",
    "    senti_sc = senti_clf.predict(full_text)\n",
    "    tag = \"Neutral\"\n",
    "    if senti_sc < 0.45:\n",
    "        tag = \"Negativo\"\n",
    "    elif senti_sc > 0.55:\n",
    "        tag = \"Positivo\"\n",
    "    tweet_sent[id_str] = [tag, senti_sc] "
   ]
  },
  {
   "cell_type": "code",
   "execution_count": 10,
   "metadata": {},
   "outputs": [],
   "source": [
    "df_lasso_clean[\"sentiment_tag\"] = df_lasso_clean[\"id_str\"].apply(lambda x: tweet_sent[x][0])\n",
    "df_lasso_clean[\"sentiment_sc\"] = df_lasso_clean[\"id_str\"].apply(lambda x: tweet_sent[x][1])"
   ]
  },
  {
   "cell_type": "code",
   "execution_count": 15,
   "metadata": {},
   "outputs": [],
   "source": [
    "df_lasso_clean.to_csv(data_processed+'/lasso_tag.csv', \n",
    "                        index=False, header=True, chunksize=10000)"
   ]
  }
 ],
 "metadata": {
  "colab": {
   "name": "Trabajo Final Data Science G4.ipynb",
   "provenance": [],
   "toc_visible": true
  },
  "kernelspec": {
   "display_name": "Python 3",
   "language": "python",
   "name": "python3"
  },
  "language_info": {
   "codemirror_mode": {
    "name": "ipython",
    "version": 3
   },
   "file_extension": ".py",
   "mimetype": "text/x-python",
   "name": "python",
   "nbconvert_exporter": "python",
   "pygments_lexer": "ipython3",
   "version": "3.8.5"
  }
 },
 "nbformat": 4,
 "nbformat_minor": 4
}
