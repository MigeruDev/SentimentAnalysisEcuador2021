{
 "cells": [
  {
   "cell_type": "markdown",
   "metadata": {
    "colab_type": "text",
    "id": "ehNjBdcxKwCR"
   },
   "source": [
    "# **<center> Predicción del rendimiento académico estudiantil </br> Clasificacion utilizando Support Vector Machine </center>**\n",
    "<h6>\n",
    "    <center> Miguel Angel Macias, Jhon Flores <br/> \n",
    "    <i>Universidad de Cuenca <br/>  <i>Facultad de Ingenieria - Escuela de Sistemas<br/> Cuenca, Ecuador</i>\n",
    "    <br/> { mangel.maciasn, jhon.flores }@ucuenca.edu.ec</center>\n",
    "<h6>"
   ]
  },
  {
   "cell_type": "markdown",
   "metadata": {},
   "source": [
    "## **1.&emsp; Import**\n",
    ">Comenzamos importando todas las herramientas que vamos a utilizar para la manejo de los datos y entrenar el modelo para la clasificacion. Se cargan en memoria 5 tablas .csv sin manipular y 2 tablas .csv previamente tratadas."
   ]
  },
  {
   "cell_type": "code",
   "execution_count": 152,
   "metadata": {
    "colab": {},
    "colab_type": "code",
    "id": "ePTs38dpKwCW"
   },
   "outputs": [],
   "source": [
    "import numpy as np              # Para operaciones matematicas\n",
    "import pandas as pd             # Manejo de datos / dataframes\n",
    "from sys import getsizeof       # Operaciones de sistema\n",
    "import matplotlib.pyplot as plt #\n",
    "\n",
    "from sklearn.preprocessing import MinMaxScaler            #\n",
    "from sklearn.model_selection import train_test_split      #\n",
    "\n",
    "from sklearn.svm import SVC\n",
    "from sklearn import metrics                               # \n",
    "\n",
    "from sklearn.model_selection import cross_val_score, GridSearchCV\n",
    "\n",
    "%matplotlib inline"
   ]
  },
  {
   "cell_type": "code",
   "execution_count": 153,
   "metadata": {
    "colab": {
     "base_uri": "https://localhost:8080/",
     "height": 455
    },
    "colab_type": "code",
    "executionInfo": {
     "elapsed": 779,
     "status": "error",
     "timestamp": 1580919934538,
     "user": {
      "displayName": "MIGUEL ANGEL MACIAS NARVAEZ",
      "photoUrl": "https://lh3.googleusercontent.com/a-/AAuE7mCqGFLQGHy5LwUESYdzxhNuN_QOH8-eJxo-B3No=s64",
      "userId": "03083191490277251715"
     },
     "user_tz": 300
    },
    "id": "VqSaosMrKwCe",
    "outputId": "449908b4-0997-42d3-ceb6-770624c66879"
   },
   "outputs": [],
   "source": [
    "data_raw = '../data/raw'              # directorio que contiene toda la data sin manipular\n",
    "data_processed = '../data/processed'  # directorio que contiene data procesada"
   ]
  },
  {
   "cell_type": "markdown",
   "metadata": {},
   "source": [
    "#### **1.2.&emsp; Dataset df_students**\n",
    ">Contiene el registro de los datos demográficos y de comportamiento de los estudiante de dos materias de un colegio en Portugal. Los valores categoricos estan convertidos a numericos y contiene una columna \"class\" que muestra si un estudiante aprueba (1) o reprueba (0) la materia."
   ]
  },
  {
   "cell_type": "code",
   "execution_count": 154,
   "metadata": {},
   "outputs": [
    {
     "data": {
      "text/html": [
       "<div>\n",
       "<style scoped>\n",
       "    .dataframe tbody tr th:only-of-type {\n",
       "        vertical-align: middle;\n",
       "    }\n",
       "\n",
       "    .dataframe tbody tr th {\n",
       "        vertical-align: top;\n",
       "    }\n",
       "\n",
       "    .dataframe thead th {\n",
       "        text-align: right;\n",
       "    }\n",
       "</style>\n",
       "<table border=\"1\" class=\"dataframe\">\n",
       "  <thead>\n",
       "    <tr style=\"text-align: right;\">\n",
       "      <th></th>\n",
       "      <th>school</th>\n",
       "      <th>sex</th>\n",
       "      <th>age</th>\n",
       "      <th>address</th>\n",
       "      <th>famsize</th>\n",
       "      <th>Pstatus</th>\n",
       "      <th>Medu</th>\n",
       "      <th>Fedu</th>\n",
       "      <th>Mjob</th>\n",
       "      <th>Fjob</th>\n",
       "      <th>...</th>\n",
       "      <th>freetime</th>\n",
       "      <th>goout</th>\n",
       "      <th>Dalc</th>\n",
       "      <th>Walc</th>\n",
       "      <th>health</th>\n",
       "      <th>absences</th>\n",
       "      <th>G1</th>\n",
       "      <th>G2</th>\n",
       "      <th>G3</th>\n",
       "      <th>class</th>\n",
       "    </tr>\n",
       "  </thead>\n",
       "  <tbody>\n",
       "    <tr>\n",
       "      <th>0</th>\n",
       "      <td>0</td>\n",
       "      <td>0</td>\n",
       "      <td>18</td>\n",
       "      <td>1</td>\n",
       "      <td>0</td>\n",
       "      <td>0</td>\n",
       "      <td>4</td>\n",
       "      <td>4</td>\n",
       "      <td>0</td>\n",
       "      <td>4</td>\n",
       "      <td>...</td>\n",
       "      <td>3</td>\n",
       "      <td>4</td>\n",
       "      <td>1</td>\n",
       "      <td>1</td>\n",
       "      <td>3</td>\n",
       "      <td>6</td>\n",
       "      <td>5</td>\n",
       "      <td>6</td>\n",
       "      <td>6</td>\n",
       "      <td>0</td>\n",
       "    </tr>\n",
       "    <tr>\n",
       "      <th>1</th>\n",
       "      <td>0</td>\n",
       "      <td>0</td>\n",
       "      <td>17</td>\n",
       "      <td>1</td>\n",
       "      <td>0</td>\n",
       "      <td>1</td>\n",
       "      <td>1</td>\n",
       "      <td>1</td>\n",
       "      <td>0</td>\n",
       "      <td>2</td>\n",
       "      <td>...</td>\n",
       "      <td>3</td>\n",
       "      <td>3</td>\n",
       "      <td>1</td>\n",
       "      <td>1</td>\n",
       "      <td>3</td>\n",
       "      <td>4</td>\n",
       "      <td>5</td>\n",
       "      <td>5</td>\n",
       "      <td>6</td>\n",
       "      <td>0</td>\n",
       "    </tr>\n",
       "    <tr>\n",
       "      <th>2</th>\n",
       "      <td>0</td>\n",
       "      <td>0</td>\n",
       "      <td>15</td>\n",
       "      <td>1</td>\n",
       "      <td>1</td>\n",
       "      <td>1</td>\n",
       "      <td>1</td>\n",
       "      <td>1</td>\n",
       "      <td>0</td>\n",
       "      <td>2</td>\n",
       "      <td>...</td>\n",
       "      <td>3</td>\n",
       "      <td>2</td>\n",
       "      <td>2</td>\n",
       "      <td>3</td>\n",
       "      <td>3</td>\n",
       "      <td>10</td>\n",
       "      <td>7</td>\n",
       "      <td>8</td>\n",
       "      <td>10</td>\n",
       "      <td>0</td>\n",
       "    </tr>\n",
       "    <tr>\n",
       "      <th>3</th>\n",
       "      <td>0</td>\n",
       "      <td>0</td>\n",
       "      <td>15</td>\n",
       "      <td>1</td>\n",
       "      <td>0</td>\n",
       "      <td>1</td>\n",
       "      <td>4</td>\n",
       "      <td>2</td>\n",
       "      <td>1</td>\n",
       "      <td>3</td>\n",
       "      <td>...</td>\n",
       "      <td>2</td>\n",
       "      <td>2</td>\n",
       "      <td>1</td>\n",
       "      <td>1</td>\n",
       "      <td>5</td>\n",
       "      <td>2</td>\n",
       "      <td>15</td>\n",
       "      <td>14</td>\n",
       "      <td>15</td>\n",
       "      <td>1</td>\n",
       "    </tr>\n",
       "    <tr>\n",
       "      <th>4</th>\n",
       "      <td>0</td>\n",
       "      <td>0</td>\n",
       "      <td>16</td>\n",
       "      <td>1</td>\n",
       "      <td>0</td>\n",
       "      <td>1</td>\n",
       "      <td>3</td>\n",
       "      <td>3</td>\n",
       "      <td>2</td>\n",
       "      <td>2</td>\n",
       "      <td>...</td>\n",
       "      <td>3</td>\n",
       "      <td>2</td>\n",
       "      <td>1</td>\n",
       "      <td>2</td>\n",
       "      <td>5</td>\n",
       "      <td>4</td>\n",
       "      <td>6</td>\n",
       "      <td>10</td>\n",
       "      <td>10</td>\n",
       "      <td>0</td>\n",
       "    </tr>\n",
       "  </tbody>\n",
       "</table>\n",
       "<p>5 rows × 34 columns</p>\n",
       "</div>"
      ],
      "text/plain": [
       "   school  sex  age  address  famsize  Pstatus  Medu  Fedu  Mjob  Fjob  ...  \\\n",
       "0       0    0   18        1        0        0     4     4     0     4  ...   \n",
       "1       0    0   17        1        0        1     1     1     0     2  ...   \n",
       "2       0    0   15        1        1        1     1     1     0     2  ...   \n",
       "3       0    0   15        1        0        1     4     2     1     3  ...   \n",
       "4       0    0   16        1        0        1     3     3     2     2  ...   \n",
       "\n",
       "   freetime  goout  Dalc  Walc  health  absences  G1  G2  G3  class  \n",
       "0         3      4     1     1       3         6   5   6   6      0  \n",
       "1         3      3     1     1       3         4   5   5   6      0  \n",
       "2         3      2     2     3       3        10   7   8  10      0  \n",
       "3         2      2     1     1       5         2  15  14  15      1  \n",
       "4         3      2     1     2       5         4   6  10  10      0  \n",
       "\n",
       "[5 rows x 34 columns]"
      ]
     },
     "execution_count": 154,
     "metadata": {},
     "output_type": "execute_result"
    }
   ],
   "source": [
    "df_students = pd.read_csv(data_processed+\"/df_students.csv\")\n",
    "df_students.head()"
   ]
  },
  {
   "cell_type": "code",
   "execution_count": 155,
   "metadata": {},
   "outputs": [
    {
     "data": {
      "text/plain": [
       "Index(['school', 'sex', 'age', 'address', 'famsize', 'Pstatus', 'Medu', 'Fedu',\n",
       "       'Mjob', 'Fjob', 'reason', 'guardian', 'traveltime', 'studytime',\n",
       "       'failures', 'schoolsup', 'famsup', 'paid', 'activities', 'nursery',\n",
       "       'higher', 'internet', 'romantic', 'famrel', 'freetime', 'goout', 'Dalc',\n",
       "       'Walc', 'health', 'absences', 'G1', 'G2', 'G3', 'class'],\n",
       "      dtype='object')"
      ]
     },
     "execution_count": 155,
     "metadata": {},
     "output_type": "execute_result"
    }
   ],
   "source": [
    "df_students.columns"
   ]
  },
  {
   "cell_type": "markdown",
   "metadata": {},
   "source": [
    "## **2.&emsp; Modelo Support Vector Clasifier (SVC)**\n",
    "Ahora se construira un modelo con el dataset previamente mencionado. Para el modelo se tomaron en cuenta columnas que aportan al modelo que fueron obtenidas en el EDA por medio de los Feature selection. El modelo contruido sera para clasificar si un estudiante apreueba (1) o reprueba (0) la materia. A continuacion se muestra cuales son las caracteristicas para el modelo:\n",
    ">- failures - número de fallas de clases pasadas (numeric: n if 1<=n<3, else 4)\n",
    "- schoolsup - apoyo educativo adicional (binary: yes or no)\n",
    "- paid - clases pagas adicionales dentro de la asignatura (Math or Portuguese) (binary: yes or no)\n",
    "- nursery - asistió a la enfermería (binary: yes or no)\n",
    "- freetime - tiempo libre después de la escuela (numeric: from 1 - very low to 5 - very high)\n",
    "- Dalc - consumo de alcohol en la jornada laboral (numeric: from 1 - very low to 5 - very high)\n",
    "- absences - número de ausencias escolares (numeric: from 0 to 93)\n",
    "- studytime - tiempo de estudio semanal (numeric: 1 - <2 hours, 2 - 2 to 5 hours, 3 - 5 to 10 hours, or 4 - >10 hours)\n",
    "- goout - salir con amigos (numeric: from 1 - very low to 5 - very high)\n",
    "- G1 - calificación del primer período (numeric: from 0 to 20)"
   ]
  },
  {
   "cell_type": "markdown",
   "metadata": {},
   "source": [
    "#### **2.1.&emsp; Separacion de conjunto de Estrenamiento y Prueba**\n",
    ">Separamos las caractertisticas en variables dependientes e independientes. Luego esas variables se dividiran en un conjunto de entrenamiento y prueba."
   ]
  },
  {
   "cell_type": "code",
   "execution_count": 156,
   "metadata": {},
   "outputs": [],
   "source": [
    "# failures, schoolsup, paid, nursery, freetime, Dalc, absences, studytime, goout, G1\n",
    "X = df_students[[\"failures\", \"schoolsup\", \"paid\", \"nursery\",\n",
    "                 \"freetime\", \"Dalc\", \"absences\", \"studytime\", \"goout\", \"G1\"]]\n",
    "y = df_students['class']\n",
    "\n",
    "scaler = MinMaxScaler()\n",
    "tmp = scaler.fit_transform(X)\n",
    "X = pd.DataFrame(tmp, columns=X.columns)\n",
    "\n",
    "# Split dataset into training set and test set\n",
    "X_train, X_test, y_train, y_test = train_test_split(X, y, test_size=0.3) # 70% training and 30% test"
   ]
  },
  {
   "cell_type": "markdown",
   "metadata": {},
   "source": [
    "#### **2.2.&emsp; Entrenamiento del Modelo**"
   ]
  },
  {
   "cell_type": "markdown",
   "metadata": {},
   "source": [
    "###### **2.2.1.&emsp; Tuning de Hyperparametros**\n",
    ">Se realizara un tuneo de los hyperparametros del modelo para obtener un mejor resultado."
   ]
  },
  {
   "cell_type": "code",
   "execution_count": null,
   "metadata": {},
   "outputs": [],
   "source": [
    "# Perform Grid-Search\n",
    "clf = SVC()\n",
    "\n",
    "parameters = {\n",
    "    \"kernel\": ['linear', 'poly', 'rbf', 'sigmoid'],\n",
    "    \"C\": [1e2, 1e3, 1e4, 1e5, 1e6, 1e7],\n",
    "    \"gamma\": np.logspace(-2, 2, 5)\n",
    "}\n",
    "\n",
    "# clf_svc = RandomizedSearchCV(clf_svc, param_distributions=parameters, scoring=\"accuracy\", cv=5, n_jobs=-1, n_iter=15)\n",
    "clf = GridSearchCV(clf, param_grid=parameters, scoring=\"accuracy\", cv=5, n_jobs=-1)\n",
    "model_svc = clf.fit(X_train, y_train)\n",
    "\n",
    "#print (\"R2 score:\", r2(y_test,y_predict))\n",
    "print(\"Best score : \", model_svc.best_score_)\n",
    "print(\"Best Parameters : \", model_svc.best_params_)\n",
    "#print(\"Accuracy Score : \", accuracy_score(model_svc.predict(X_test), y_test))\n",
    "print(\"Training Accuracy : \", model_svc.score(X_train, y_train))\n",
    "print(\"Test Accuracy : \", model_svc.score(X_test, y_test))\n"
   ]
  },
  {
   "cell_type": "markdown",
   "metadata": {},
   "source": [
    ">Ahora, se entrena el modelo en el conjunto de entrenamiento. Luego se realizará predicciones en el conjunto de prueba que se tiene previamente. Luego, se verifica la precisión utilizando valores reales y pronosticados."
   ]
  },
  {
   "cell_type": "code",
   "execution_count": 158,
   "metadata": {},
   "outputs": [
    {
     "name": "stdout",
     "output_type": "stream",
     "text": [
      "Prediction Random Forest: 0.869\n"
     ]
    }
   ],
   "source": [
    "svclassifier = SVC(kernel='linear', random_state=42)\n",
    "svclassifier.fit(X_train, y_train)\n",
    "\n",
    "y_pred = svclassifier.predict(X_test)\n",
    "print(\"Prediction Random Forest: {:.3f}\".format(metrics.accuracy_score(y_pred,y_test)))"
   ]
  },
  {
   "cell_type": "code",
   "execution_count": 159,
   "metadata": {},
   "outputs": [
    {
     "name": "stdout",
     "output_type": "stream",
     "text": [
      "Training score:  0.8712328767123287\n",
      "Test score:  0.8694267515923567\n"
     ]
    }
   ],
   "source": [
    "print(\"Training score: \", svclassifier.score(X_train, y_train))\n",
    "print(\"Test score: \", svclassifier.score(X_test, y_test))"
   ]
  },
  {
   "cell_type": "code",
   "execution_count": null,
   "metadata": {},
   "outputs": [],
   "source": []
  },
  {
   "cell_type": "markdown",
   "metadata": {},
   "source": [
    "## **3.&emsp; Evaluacion del Clasificador SVC**\n",
    "Ya realizado la prediccion de que si los estudiantes aprobaron o no la materia, lo que se realizara ahora es comparar los valores de la prediccion con los datos reales."
   ]
  },
  {
   "cell_type": "markdown",
   "metadata": {},
   "source": [
    "#### **3.1.&emsp; Creacion Matriz de Confusion**\n",
    ">En esta matriz "
   ]
  },
  {
   "cell_type": "code",
   "execution_count": 160,
   "metadata": {},
   "outputs": [
    {
     "data": {
      "text/html": [
       "<div>\n",
       "<style scoped>\n",
       "    .dataframe tbody tr th:only-of-type {\n",
       "        vertical-align: middle;\n",
       "    }\n",
       "\n",
       "    .dataframe tbody tr th {\n",
       "        vertical-align: top;\n",
       "    }\n",
       "\n",
       "    .dataframe thead th {\n",
       "        text-align: right;\n",
       "    }\n",
       "</style>\n",
       "<table border=\"1\" class=\"dataframe\">\n",
       "  <thead>\n",
       "    <tr style=\"text-align: right;\">\n",
       "      <th>Datos Predichos</th>\n",
       "      <th>0</th>\n",
       "      <th>1</th>\n",
       "    </tr>\n",
       "    <tr>\n",
       "      <th>Datos Actuales</th>\n",
       "      <th></th>\n",
       "      <th></th>\n",
       "    </tr>\n",
       "  </thead>\n",
       "  <tbody>\n",
       "    <tr>\n",
       "      <th>0</th>\n",
       "      <td>86</td>\n",
       "      <td>28</td>\n",
       "    </tr>\n",
       "    <tr>\n",
       "      <th>1</th>\n",
       "      <td>13</td>\n",
       "      <td>187</td>\n",
       "    </tr>\n",
       "  </tbody>\n",
       "</table>\n",
       "</div>"
      ],
      "text/plain": [
       "Datos Predichos   0    1\n",
       "Datos Actuales          \n",
       "0                86   28\n",
       "1                13  187"
      ]
     },
     "execution_count": 160,
     "metadata": {},
     "output_type": "execute_result"
    }
   ],
   "source": [
    "pd.crosstab(y_test, y_pred, rownames=['Datos Actuales'], colnames=['Datos Predichos'])"
   ]
  },
  {
   "cell_type": "code",
   "execution_count": 161,
   "metadata": {},
   "outputs": [
    {
     "name": "stdout",
     "output_type": "stream",
     "text": [
      "Confusion matrix, without normalization\n",
      "[[ 86  28]\n",
      " [ 13 187]]\n"
     ]
    },
    {
     "data": {
      "image/png": "[encoded data removed]",
      "text/plain": [
       "<Figure size 720x720 with 2 Axes>"
      ]
     },
     "metadata": {
      "needs_background": "light"
     },
     "output_type": "display_data"
    }
   ],
   "source": [
    "from sklearn.metrics import confusion_matrix\n",
    "import itertools\n",
    "#plt.style.use('fivethirtyeight')\n",
    "#plt.rcParams['font.size'] = 18\n",
    "\n",
    "def plot_confusion_matrix(cm, classes,\n",
    "                          normalize=False,\n",
    "                          title='Confusion matrix',\n",
    "                          cmap=plt.cm.Oranges):\n",
    "    \"\"\"\n",
    "    This function prints and plots the confusion matrix.\n",
    "    Normalization can be applied by setting `normalize=True`.\n",
    "    Source: http://scikit-learn.org/stable/auto_examples/model_selection/plot_confusion_matrix.html\n",
    "    \"\"\"\n",
    "    if normalize:\n",
    "        cm = cm.astype('float') / cm.sum(axis=1)[:, np.newaxis]\n",
    "        print(\"Normalized confusion matrix\")\n",
    "    else:\n",
    "        print('Confusion matrix, without normalization')\n",
    "\n",
    "    print(cm)\n",
    "\n",
    "    # Plot the confusion matrix\n",
    "    plt.figure(figsize = (10, 10))\n",
    "    plt.imshow(cm, interpolation='nearest', cmap=cmap)\n",
    "    plt.title(title, size = 24)\n",
    "    plt.colorbar(aspect=4)\n",
    "    tick_marks = np.arange(len(classes))\n",
    "    plt.xticks(tick_marks, classes, rotation=45, size = 14)\n",
    "    plt.yticks(tick_marks, classes, size = 14)\n",
    "\n",
    "    fmt = '.2f' if normalize else 'd'\n",
    "    thresh = cm.max() / 2.\n",
    "    \n",
    "    # Labeling the plot\n",
    "    for i, j in itertools.product(range(cm.shape[0]), range(cm.shape[1])):\n",
    "        plt.text(j, i, format(cm[i, j], fmt), fontsize = 20,\n",
    "                 horizontalalignment=\"center\",\n",
    "                 color=\"white\" if cm[i, j] > thresh else \"black\")\n",
    "        \n",
    "    plt.grid(None)\n",
    "    plt.tight_layout()\n",
    "    plt.ylabel('True label', size = 18)\n",
    "    plt.xlabel('Predicted label', size = 18)\n",
    "    \n",
    "cm = confusion_matrix(y_test, y_pred)\n",
    "plot_confusion_matrix(cm, classes = ['Reprueba', 'Aprueba'],\n",
    "                      title = 'Confusion Matrix')"
   ]
  },
  {
   "cell_type": "code",
   "execution_count": null,
   "metadata": {},
   "outputs": [],
   "source": []
  },
  {
   "cell_type": "markdown",
   "metadata": {},
   "source": [
    "### Clasification Report"
   ]
  },
  {
   "cell_type": "code",
   "execution_count": 162,
   "metadata": {},
   "outputs": [
    {
     "name": "stdout",
     "output_type": "stream",
     "text": [
      "[[ 86  28]\n",
      " [ 13 187]]\n",
      "              precision    recall  f1-score   support\n",
      "\n",
      "           0       0.87      0.75      0.81       114\n",
      "           1       0.87      0.94      0.90       200\n",
      "\n",
      "    accuracy                           0.87       314\n",
      "   macro avg       0.87      0.84      0.85       314\n",
      "weighted avg       0.87      0.87      0.87       314\n",
      "\n",
      "0.8694267515923567\n"
     ]
    }
   ],
   "source": [
    "from sklearn.metrics import classification_report, confusion_matrix, accuracy_score\n",
    "\n",
    "print(confusion_matrix(y_test,y_pred))\n",
    "print(classification_report(y_test,y_pred))\n",
    "print(accuracy_score(y_test, y_pred))"
   ]
  },
  {
   "cell_type": "code",
   "execution_count": null,
   "metadata": {},
   "outputs": [],
   "source": []
  },
  {
   "cell_type": "code",
   "execution_count": null,
   "metadata": {},
   "outputs": [],
   "source": []
  }
 ],
 "metadata": {
  "kernelspec": {
   "display_name": "Python 3",
   "language": "python",
   "name": "python3"
  },
  "language_info": {
   "codemirror_mode": {
    "name": "ipython",
    "version": 3
   },
   "file_extension": ".py",
   "mimetype": "text/x-python",
   "name": "python",
   "nbconvert_exporter": "python",
   "pygments_lexer": "ipython3",
   "version": "3.7.3"
  }
 },
 "nbformat": 4,
 "nbformat_minor": 4
}
