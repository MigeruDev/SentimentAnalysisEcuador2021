{
 "cells": [
  {
   "cell_type": "markdown",
   "metadata": {},
   "source": [
    "# Compare models"
   ]
  },
  {
   "cell_type": "code",
   "execution_count": 1,
   "metadata": {},
   "outputs": [],
   "source": [
    "import pandas as pd\n",
    "import numpy as np\n",
    "import joblib\n",
    "from sklearn.model_selection import train_test_split\n",
    "from sklearn import metrics\n",
    "from sklearn.feature_extraction.text import TfidfVectorizer"
   ]
  },
  {
   "cell_type": "markdown",
   "metadata": {},
   "source": [
    "## Load Data"
   ]
  },
  {
   "cell_type": "code",
   "execution_count": 2,
   "metadata": {},
   "outputs": [],
   "source": [
    "data_processed = '../data/processed/'  # directorio que contiene data procesada"
   ]
  },
  {
   "cell_type": "code",
   "execution_count": 3,
   "metadata": {},
   "outputs": [
    {
     "data": {
      "text/html": [
       "<div>\n",
       "<style scoped>\n",
       "    .dataframe tbody tr th:only-of-type {\n",
       "        vertical-align: middle;\n",
       "    }\n",
       "\n",
       "    .dataframe tbody tr th {\n",
       "        vertical-align: top;\n",
       "    }\n",
       "\n",
       "    .dataframe thead th {\n",
       "        text-align: right;\n",
       "    }\n",
       "</style>\n",
       "<table border=\"1\" class=\"dataframe\">\n",
       "  <thead>\n",
       "    <tr style=\"text-align: right;\">\n",
       "      <th></th>\n",
       "      <th>full_text</th>\n",
       "      <th>sentiment_tag</th>\n",
       "    </tr>\n",
       "  </thead>\n",
       "  <tbody>\n",
       "    <tr>\n",
       "      <th>0</th>\n",
       "      <td>lelo andrés arauz dicho q gestionado gobierno ...</td>\n",
       "      <td>Negativo</td>\n",
       "    </tr>\n",
       "    <tr>\n",
       "      <th>1</th>\n",
       "      <td>edad enterar jorge glas andrés arauz primo</td>\n",
       "      <td>Negativo</td>\n",
       "    </tr>\n",
       "    <tr>\n",
       "      <th>2</th>\n",
       "      <td>extraordinario caravana lojo recibir andrés ar...</td>\n",
       "      <td>Positivo</td>\n",
       "    </tr>\n",
       "    <tr>\n",
       "      <th>3</th>\n",
       "      <td>david villamar mildeunar propuesta andrés arau...</td>\n",
       "      <td>Negativo</td>\n",
       "    </tr>\n",
       "    <tr>\n",
       "      <th>4</th>\n",
       "      <td>andrés arauz ganador debatepresidencial según ...</td>\n",
       "      <td>Negativo</td>\n",
       "    </tr>\n",
       "  </tbody>\n",
       "</table>\n",
       "</div>"
      ],
      "text/plain": [
       "                                           full_text sentiment_tag\n",
       "0  lelo andrés arauz dicho q gestionado gobierno ...      Negativo\n",
       "1         edad enterar jorge glas andrés arauz primo      Negativo\n",
       "2  extraordinario caravana lojo recibir andrés ar...      Positivo\n",
       "3  david villamar mildeunar propuesta andrés arau...      Negativo\n",
       "4  andrés arauz ganador debatepresidencial según ...      Negativo"
      ]
     },
     "execution_count": 3,
     "metadata": {},
     "output_type": "execute_result"
    }
   ],
   "source": [
    "df = pd.read_csv(data_processed+'to_train_models.csv',usecols=['full_text','sentiment_tag'],dtype=str)\n",
    "df.head(5)"
   ]
  },
  {
   "cell_type": "code",
   "execution_count": 4,
   "metadata": {},
   "outputs": [],
   "source": [
    "df.dropna(axis=0,inplace=True)"
   ]
  },
  {
   "cell_type": "markdown",
   "metadata": {},
   "source": [
    "##### Nota: Random State es para que siempre se puede reproducir los mismos valores para cada partición, y la partición esta realizada a 80% entrenamiento y 20% de testing"
   ]
  },
  {
   "cell_type": "code",
   "execution_count": 5,
   "metadata": {},
   "outputs": [],
   "source": [
    "X = df.full_text\n",
    "y = df.sentiment_tag\n",
    "X_train, X_test, y_train, y_test = train_test_split(X, y, test_size=0.2, random_state = 42)"
   ]
  },
  {
   "cell_type": "markdown",
   "metadata": {},
   "source": [
    "## Load Models"
   ]
  },
  {
   "cell_type": "code",
   "execution_count": 6,
   "metadata": {},
   "outputs": [],
   "source": [
    "data_models = '../models/'  # directorio que contiene data procesada"
   ]
  },
  {
   "cell_type": "markdown",
   "metadata": {},
   "source": [
    "#### SVC"
   ]
  },
  {
   "cell_type": "code",
   "execution_count": 7,
   "metadata": {},
   "outputs": [],
   "source": [
    "svc_model = joblib.load(data_models+\"SVC.sav\")"
   ]
  },
  {
   "cell_type": "markdown",
   "metadata": {},
   "source": [
    "#### Random Forest"
   ]
  },
  {
   "cell_type": "code",
   "execution_count": 8,
   "metadata": {},
   "outputs": [],
   "source": [
    "rf_model = joblib.load(data_models+\"Random_Forest.sav\")"
   ]
  },
  {
   "cell_type": "markdown",
   "metadata": {},
   "source": [
    "#### Naive Bayes"
   ]
  },
  {
   "cell_type": "code",
   "execution_count": 9,
   "metadata": {},
   "outputs": [],
   "source": [
    "nb_model = joblib.load(data_models+\"Naive_Bayes.sav\")"
   ]
  },
  {
   "cell_type": "markdown",
   "metadata": {},
   "source": [
    "## TF-IDF"
   ]
  },
  {
   "cell_type": "code",
   "execution_count": 10,
   "metadata": {},
   "outputs": [
    {
     "name": "stdout",
     "output_type": "stream",
     "text": [
      "n_samples: 32339, n_features: 163603\n"
     ]
    }
   ],
   "source": [
    "# settings for count vectorizer\n",
    "tfidf_vectorizer_bigram = TfidfVectorizer(ngram_range=(1,2),use_idf=True) \n",
    "\n",
    "# sending train_data to vector\n",
    "X_train_tf_bigram = tfidf_vectorizer_bigram.fit_transform(X_train)\n",
    "print(\"n_samples: %d, n_features: %d\" % X_train_tf_bigram.shape)"
   ]
  },
  {
   "cell_type": "code",
   "execution_count": 11,
   "metadata": {},
   "outputs": [
    {
     "name": "stdout",
     "output_type": "stream",
     "text": [
      "n_samples: 8085, n_features: 163603\n"
     ]
    }
   ],
   "source": [
    "# sending test_data to vector\n",
    "X_test_tf_bigram = tfidf_vectorizer_bigram.transform(X_test)\n",
    "print(\"n_samples: %d, n_features: %d\" % X_test_tf_bigram.shape)"
   ]
  },
  {
   "cell_type": "markdown",
   "metadata": {},
   "source": [
    "## Evaluate the Models"
   ]
  },
  {
   "cell_type": "code",
   "execution_count": 53,
   "metadata": {},
   "outputs": [],
   "source": [
    "eval_models = {\n",
    "    \"Model\": [],\n",
    "    \"Metric\": [],\n",
    "    \"Values\": []\n",
    "}"
   ]
  },
  {
   "cell_type": "code",
   "execution_count": 54,
   "metadata": {},
   "outputs": [],
   "source": [
    "#metrics = [\"Precision\",\"Recall\",\"F1_Scrore\"]\n",
    "models = {\"SVC\": svc_model,\n",
    "          \"Random Forest\": rf_model,\n",
    "          \"Naive Bayes\": nb_model\n",
    "         }\n",
    "metrics_eval = {\"Precision\": lambda y_test,nb_pred: metrics.precision_score(y_test, nb_pred,average='weighted'),\n",
    "          \"Recall\": lambda y_test,nb_pred: metrics.recall_score(y_test, nb_pred,average='weighted'),\n",
    "          \"F1_Scrore\": lambda y_test,nb_pred: metrics.f1_score(y_test, nb_pred,average='weighted')}\n",
    "def eval_metric(X_test,y_test):\n",
    "    global metrics,models\n",
    "    for name_model,model in models.items():\n",
    "        prediction = model.predict(X_test)\n",
    "        for name_metric,metric in metrics_eval.items():\n",
    "            eval_models[\"Model\"].append(name_model)\n",
    "            eval_models[\"Metric\"].append(name_metric)\n",
    "            eval_models[\"Values\"].append(round(metric(y_test,prediction)*100,1)) "
   ]
  },
  {
   "cell_type": "markdown",
   "metadata": {},
   "source": [
    "## Graphic of the Scores"
   ]
  },
  {
   "cell_type": "code",
   "execution_count": 55,
   "metadata": {},
   "outputs": [],
   "source": [
    "import matplotlib.pyplot as plt\n",
    "import seaborn as sns"
   ]
  },
  {
   "cell_type": "code",
   "execution_count": 56,
   "metadata": {},
   "outputs": [],
   "source": [
    "eval_metric(X_test_tf_bigram,y_test)\n",
    "#models[\"SVC\"].predict()"
   ]
  },
  {
   "cell_type": "code",
   "execution_count": 57,
   "metadata": {},
   "outputs": [],
   "source": [
    "df_eval = pd.DataFrame(eval_models)"
   ]
  },
  {
   "cell_type": "code",
   "execution_count": 59,
   "metadata": {},
   "outputs": [
    {
     "data": {
      "text/plain": [
       "<Figure size 432x288 with 0 Axes>"
      ]
     },
     "metadata": {},
     "output_type": "display_data"
    },
    {
     "data": {
      "image/png": "[encoded data removed]",
      "text/plain": [
       "<Figure size 720x432 with 1 Axes>"
      ]
     },
     "metadata": {},
     "output_type": "display_data"
    }
   ],
   "source": [
    "plt.figure()\n",
    "\n",
    "sns.set(font_scale=1)\n",
    "plt.figure(figsize=(10, 6))\n",
    "\n",
    "ax = sns.barplot(x=\"Model\", y=\"Values\", hue=\"Metric\", data=df_eval,alpha=1)\n",
    "plt.title('Scores de los Modelos', fontsize=18)\n",
    "plt.ylabel('Valor', fontsize=12)\n",
    "plt.xlabel('Modelo', fontsize=12)\n",
    "plt.legend(loc='lower right')\n",
    "\n",
    "for p in ax.patches:\n",
    "        ax.text(p.xy[0] + p.get_width()/8, p.xy[1] + p.get_height()+0.009, \n",
    "                str(round(p.get_height(), 3)), fontsize=12)\n",
    "plt.show()"
   ]
  },
  {
   "cell_type": "code",
   "execution_count": null,
   "metadata": {},
   "outputs": [],
   "source": []
  },
  {
   "cell_type": "code",
   "execution_count": null,
   "metadata": {},
   "outputs": [],
   "source": []
  },
  {
   "cell_type": "code",
   "execution_count": null,
   "metadata": {},
   "outputs": [],
   "source": []
  },
  {
   "cell_type": "code",
   "execution_count": null,
   "metadata": {},
   "outputs": [],
   "source": []
  }
 ],
 "metadata": {
  "kernelspec": {
   "display_name": "Python 3",
   "language": "python",
   "name": "python3"
  },
  "language_info": {
   "codemirror_mode": {
    "name": "ipython",
    "version": 3
   },
   "file_extension": ".py",
   "mimetype": "text/x-python",
   "name": "python",
   "nbconvert_exporter": "python",
   "pygments_lexer": "ipython3",
   "version": "3.8.5"
  }
 },
 "nbformat": 4,
 "nbformat_minor": 4
}
