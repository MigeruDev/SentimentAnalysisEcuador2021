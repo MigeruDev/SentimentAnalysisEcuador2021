{
 "cells": [
  {
   "cell_type": "markdown",
   "metadata": {
    "colab_type": "text",
    "id": "ehNjBdcxKwCR"
   },
   "source": [
    "# **<center> Análisis de Sentimientos de los candidatos presidenciales </br> Ecuador 2021, en la red social Twitter </center>**\n",
    "<h6>\n",
    "    <center> Miguel Angel Macias, Jonnathan Campoberde <br/> \n",
    "    <i>Universidad de Cuenca <br/>  <i>Facultad de Ingenieria - Escuela de Sistemas<br/> Cuenca, Ecuador</i>\n",
    "    <br/> { mangel.maciasn, jonnathan.campoberde }@ucuenca.edu.ec</center>\n",
    "<h6>"
   ]
  },
  {
   "cell_type": "markdown",
   "metadata": {
    "colab_type": "text",
    "id": "aJY55ow_KwCV"
   },
   "source": [
    "# **I.&emsp;Introducción**\n",
    "El presente trabajo tiene como objetivo emplear de manera práctica todos los conocimientos adquiridos en el transcurso de la asignatura “Text Mining”. En este trabajo se realizó una limpieza de los datos, se removieron caracteres especiales, emojis y enlaces de los tweets recolectados; así también se realizó una inspección de posibles cuentas trolls que afecten el AS de las opiniones de usuarios a favor o en contra de un movimiento político. Luego del tratamiento y análisis de los tweets se entrenaron 3 modelos de clasificación de texto usando Support Vector Machine (SVM), Naive Bayes (NB) y Random Forest (RF) para posteriormente compararlos y elegir qué modelo presentó los mejores resultados. \n",
    "Los tweets que se recolectaron tratan acerca de los dos candidatos presidenciales que lideran las encuestas para las elecciones de Ecuador 2021. Los dos candidatos, Andrés Arauz y Guillermo Lasso, pertenecen a los dos movimientos políticos más dominantes del estado ecuatoriano.\n",
    "\n",
    "## **1.1.&emsp;Objetivos del Proyecto**\n",
    ">. El objetivo de este artículo es el AS de estos dos candidatos para luego contrastarlos con los resultados oficiales de las elecciones, así también, entrenar un modelo de clasificación de sentimientos de los tweets que se generen en redes sociales acerca de la política dentro del país. Posteriormente se desea responder a las siguientes preguntas de investigación definidas en 1.2.\n",
    "\n",
    "## **1.2.&emsp;Preguntas de investigación**\n",
    ">- RQ1:     ¿Qué tan preciso los datos de Twitter reflejan el sentimiento político en un proceso electoral?\n",
    ">- RQ1:     ¿En qué grado de aceptación se encuentran los candidatos dentro de la red social Twitter?\n",
    ">- RQ3:     ¿Los resultados oficiales son parecidos a los resultados encontrados en nuestro análisis? \n"
   ]
  },
  {
   "cell_type": "markdown",
   "metadata": {},
   "source": [
    "# **II.&emsp;TEXT CLEANING**\n",
    "\n",
    "## **2.1.&emsp; Reading dataset**\n",
    ">Para este paso..."
   ]
  },
  {
   "cell_type": "code",
   "execution_count": 9,
   "metadata": {},
   "outputs": [],
   "source": [
    "#!pip install emoji"
   ]
  },
  {
   "cell_type": "code",
   "execution_count": 10,
   "metadata": {},
   "outputs": [],
   "source": [
    "import warnings\n",
    "warnings.filterwarnings(\"ignore\")\n",
    "\n",
    "#from datetime import datetime, timezone\n",
    "import pytz\n",
    "import numpy as np              # Para operaciones matematicas\n",
    "import pandas as pd             # Manejo de datos / dataframes\n",
    "import re\n",
    "import emoji\n",
    "from nltk.tokenize import RegexpTokenizer\n",
    "from nltk.corpus import stopwords\n",
    "from nltk.tokenize import word_tokenize \n",
    "from nltk.stem import PorterStemmer\n",
    "%matplotlib inline"
   ]
  },
  {
   "cell_type": "code",
   "execution_count": 11,
   "metadata": {},
   "outputs": [],
   "source": [
    "data_raw = '../data/raw'              # directorio que contiene toda la data sin manipular\n",
    "data_processed = '../data/processed'  # directorio que contiene data procesada"
   ]
  },
  {
   "cell_type": "code",
   "execution_count": 13,
   "metadata": {},
   "outputs": [
    {
     "data": {
      "text/html": [
       "<div>\n",
       "<style scoped>\n",
       "    .dataframe tbody tr th:only-of-type {\n",
       "        vertical-align: middle;\n",
       "    }\n",
       "\n",
       "    .dataframe tbody tr th {\n",
       "        vertical-align: top;\n",
       "    }\n",
       "\n",
       "    .dataframe thead th {\n",
       "        text-align: right;\n",
       "    }\n",
       "</style>\n",
       "<table border=\"1\" class=\"dataframe\">\n",
       "  <thead>\n",
       "    <tr style=\"text-align: right;\">\n",
       "      <th></th>\n",
       "      <th>created_at</th>\n",
       "      <th>favorite_count</th>\n",
       "      <th>full_text</th>\n",
       "      <th>id_str</th>\n",
       "      <th>metadata.iso_language_code</th>\n",
       "      <th>retweeted_status.created_at</th>\n",
       "      <th>retweeted_status.full_text</th>\n",
       "      <th>user.created_at</th>\n",
       "      <th>user.favourites_count</th>\n",
       "      <th>user.followers_count</th>\n",
       "      <th>user.friends_count</th>\n",
       "      <th>user.id_str</th>\n",
       "      <th>user.location</th>\n",
       "      <th>user.verified</th>\n",
       "      <th>retweet_count</th>\n",
       "    </tr>\n",
       "  </thead>\n",
       "  <tbody>\n",
       "    <tr>\n",
       "      <th>0</th>\n",
       "      <td>2021-01-24 11:09:43+00:00</td>\n",
       "      <td>0</td>\n",
       "      <td>RT @CarlosP05340289: El LELO Andrés Arauz nos ...</td>\n",
       "      <td>1353298931913019393</td>\n",
       "      <td>es</td>\n",
       "      <td>Sat Jan 23 22:05:45 +0000 2021</td>\n",
       "      <td>El LELO Andrés Arauz nos ha dicho q ha gestion...</td>\n",
       "      <td>2019-07-08 04:50:16+00:00</td>\n",
       "      <td>23792</td>\n",
       "      <td>208</td>\n",
       "      <td>814</td>\n",
       "      <td>1148091911183503360</td>\n",
       "      <td>NaN</td>\n",
       "      <td>False</td>\n",
       "      <td>212</td>\n",
       "    </tr>\n",
       "    <tr>\n",
       "      <th>1</th>\n",
       "      <td>2021-01-24 11:11:10+00:00</td>\n",
       "      <td>0</td>\n",
       "      <td>RT @sybelmartinez: A qué edad se enteraron que...</td>\n",
       "      <td>1353299298407096320</td>\n",
       "      <td>es</td>\n",
       "      <td>Sat Jan 23 23:38:46 +0000 2021</td>\n",
       "      <td>A qué edad se enteraron que Jorge Glas y André...</td>\n",
       "      <td>2012-10-09 14:57:55+00:00</td>\n",
       "      <td>1835</td>\n",
       "      <td>88</td>\n",
       "      <td>325</td>\n",
       "      <td>870030324</td>\n",
       "      <td>NaN</td>\n",
       "      <td>False</td>\n",
       "      <td>545</td>\n",
       "    </tr>\n",
       "    <tr>\n",
       "      <th>2</th>\n",
       "      <td>2021-01-24 11:11:47+00:00</td>\n",
       "      <td>0</td>\n",
       "      <td>RT @veronicaariasf: Con una extraordinaria car...</td>\n",
       "      <td>1353299454103838720</td>\n",
       "      <td>es</td>\n",
       "      <td>Sun Jan 24 00:05:24 +0000 2021</td>\n",
       "      <td>Con una extraordinaria caravana, #Loja recibió...</td>\n",
       "      <td>2019-12-07 21:33:55+00:00</td>\n",
       "      <td>20154</td>\n",
       "      <td>73</td>\n",
       "      <td>45</td>\n",
       "      <td>1203427383782629376</td>\n",
       "      <td>NaN</td>\n",
       "      <td>False</td>\n",
       "      <td>466</td>\n",
       "    </tr>\n",
       "    <tr>\n",
       "      <th>3</th>\n",
       "      <td>2021-01-24 11:12:50+00:00</td>\n",
       "      <td>0</td>\n",
       "      <td>RT @kolectiVOZ: David Villamar: \"Los #MilDeUna...</td>\n",
       "      <td>1353299717485158400</td>\n",
       "      <td>es</td>\n",
       "      <td>Sun Jan 24 01:30:39 +0000 2021</td>\n",
       "      <td>David Villamar: \"Los #MilDeUna, propuesta de A...</td>\n",
       "      <td>2013-08-06 16:33:44+00:00</td>\n",
       "      <td>78836</td>\n",
       "      <td>1008</td>\n",
       "      <td>1396</td>\n",
       "      <td>1650738853</td>\n",
       "      <td>Un Mundo donde haya Justicia</td>\n",
       "      <td>False</td>\n",
       "      <td>292</td>\n",
       "    </tr>\n",
       "    <tr>\n",
       "      <th>4</th>\n",
       "      <td>2021-01-24 11:14:35+00:00</td>\n",
       "      <td>0</td>\n",
       "      <td>RT @PrensaDelBanano: Andrés Arauz fue el ganad...</td>\n",
       "      <td>1353300160277852160</td>\n",
       "      <td>es</td>\n",
       "      <td>Sat Jan 23 16:41:37 +0000 2021</td>\n",
       "      <td>Andrés Arauz fue el ganador del #DebatePreside...</td>\n",
       "      <td>2019-08-29 23:23:54+00:00</td>\n",
       "      <td>81000</td>\n",
       "      <td>290</td>\n",
       "      <td>437</td>\n",
       "      <td>1167216174972702724</td>\n",
       "      <td>NaN</td>\n",
       "      <td>False</td>\n",
       "      <td>116</td>\n",
       "    </tr>\n",
       "    <tr>\n",
       "      <th>...</th>\n",
       "      <td>...</td>\n",
       "      <td>...</td>\n",
       "      <td>...</td>\n",
       "      <td>...</td>\n",
       "      <td>...</td>\n",
       "      <td>...</td>\n",
       "      <td>...</td>\n",
       "      <td>...</td>\n",
       "      <td>...</td>\n",
       "      <td>...</td>\n",
       "      <td>...</td>\n",
       "      <td>...</td>\n",
       "      <td>...</td>\n",
       "      <td>...</td>\n",
       "      <td>...</td>\n",
       "    </tr>\n",
       "    <tr>\n",
       "      <th>202315</th>\n",
       "      <td>2021-02-13 23:59:52+00:00</td>\n",
       "      <td>0</td>\n",
       "      <td>RT @VickyDavilaH: SEMANA: Samper está furioso ...</td>\n",
       "      <td>1360740507043966979</td>\n",
       "      <td>es</td>\n",
       "      <td>Sat Feb 13 20:21:35 +0000 2021</td>\n",
       "      <td>SEMANA: Samper está furioso y defiende al cand...</td>\n",
       "      <td>2010-04-28 02:20:18+00:00</td>\n",
       "      <td>126408</td>\n",
       "      <td>384</td>\n",
       "      <td>163</td>\n",
       "      <td>137895474</td>\n",
       "      <td>NaN</td>\n",
       "      <td>False</td>\n",
       "      <td>474</td>\n",
       "    </tr>\n",
       "    <tr>\n",
       "      <th>202316</th>\n",
       "      <td>2021-02-13 23:59:53+00:00</td>\n",
       "      <td>2</td>\n",
       "      <td>@tioelmoi Diana Salazar no debias meterte a tr...</td>\n",
       "      <td>1360740510298734592</td>\n",
       "      <td>es</td>\n",
       "      <td>NaN</td>\n",
       "      <td>NaN</td>\n",
       "      <td>2013-06-30 16:33:16+00:00</td>\n",
       "      <td>10</td>\n",
       "      <td>78</td>\n",
       "      <td>72</td>\n",
       "      <td>1558430348</td>\n",
       "      <td>Ecuador</td>\n",
       "      <td>False</td>\n",
       "      <td>0</td>\n",
       "    </tr>\n",
       "    <tr>\n",
       "      <th>202317</th>\n",
       "      <td>2021-02-13 23:59:53+00:00</td>\n",
       "      <td>0</td>\n",
       "      <td>RT @farriancito: Andres Venegas Londoño, alias...</td>\n",
       "      <td>1360740510890160129</td>\n",
       "      <td>es</td>\n",
       "      <td>Sat Feb 13 23:56:29 +0000 2021</td>\n",
       "      <td>Andres Venegas Londoño, alias 'Uriel', fue dad...</td>\n",
       "      <td>2019-11-12 17:48:40+00:00</td>\n",
       "      <td>21782</td>\n",
       "      <td>135</td>\n",
       "      <td>1138</td>\n",
       "      <td>1194311000910188550</td>\n",
       "      <td>NaN</td>\n",
       "      <td>False</td>\n",
       "      <td>55</td>\n",
       "    </tr>\n",
       "    <tr>\n",
       "      <th>202318</th>\n",
       "      <td>2021-02-13 23:59:56+00:00</td>\n",
       "      <td>0</td>\n",
       "      <td>RT @PatricioMery: El escenario ideal para el E...</td>\n",
       "      <td>1360740523892473859</td>\n",
       "      <td>es</td>\n",
       "      <td>Sat Feb 13 18:50:33 +0000 2021</td>\n",
       "      <td>El escenario ideal para el Estado Profundo: in...</td>\n",
       "      <td>2010-05-07 23:35:40+00:00</td>\n",
       "      <td>6949</td>\n",
       "      <td>4479</td>\n",
       "      <td>5000</td>\n",
       "      <td>141383221</td>\n",
       "      <td>Ecuador - Guayaco</td>\n",
       "      <td>False</td>\n",
       "      <td>173</td>\n",
       "    </tr>\n",
       "    <tr>\n",
       "      <th>202319</th>\n",
       "      <td>2021-02-13 23:59:56+00:00</td>\n",
       "      <td>0</td>\n",
       "      <td>RT @OrlenysOV: Semejante maniobra colectiva ne...</td>\n",
       "      <td>1360740520520282112</td>\n",
       "      <td>es</td>\n",
       "      <td>Sat Feb 13 01:50:38 +0000 2021</td>\n",
       "      <td>Semejante maniobra colectiva neoliberal, solo ...</td>\n",
       "      <td>2020-06-04 19:48:15+00:00</td>\n",
       "      <td>36084</td>\n",
       "      <td>799</td>\n",
       "      <td>1231</td>\n",
       "      <td>1268630609494249475</td>\n",
       "      <td>Quintero, Chile</td>\n",
       "      <td>False</td>\n",
       "      <td>39</td>\n",
       "    </tr>\n",
       "  </tbody>\n",
       "</table>\n",
       "<p>202320 rows × 15 columns</p>\n",
       "</div>"
      ],
      "text/plain": [
       "                      created_at  favorite_count  \\\n",
       "0      2021-01-24 11:09:43+00:00               0   \n",
       "1      2021-01-24 11:11:10+00:00               0   \n",
       "2      2021-01-24 11:11:47+00:00               0   \n",
       "3      2021-01-24 11:12:50+00:00               0   \n",
       "4      2021-01-24 11:14:35+00:00               0   \n",
       "...                          ...             ...   \n",
       "202315 2021-02-13 23:59:52+00:00               0   \n",
       "202316 2021-02-13 23:59:53+00:00               2   \n",
       "202317 2021-02-13 23:59:53+00:00               0   \n",
       "202318 2021-02-13 23:59:56+00:00               0   \n",
       "202319 2021-02-13 23:59:56+00:00               0   \n",
       "\n",
       "                                                full_text  \\\n",
       "0       RT @CarlosP05340289: El LELO Andrés Arauz nos ...   \n",
       "1       RT @sybelmartinez: A qué edad se enteraron que...   \n",
       "2       RT @veronicaariasf: Con una extraordinaria car...   \n",
       "3       RT @kolectiVOZ: David Villamar: \"Los #MilDeUna...   \n",
       "4       RT @PrensaDelBanano: Andrés Arauz fue el ganad...   \n",
       "...                                                   ...   \n",
       "202315  RT @VickyDavilaH: SEMANA: Samper está furioso ...   \n",
       "202316  @tioelmoi Diana Salazar no debias meterte a tr...   \n",
       "202317  RT @farriancito: Andres Venegas Londoño, alias...   \n",
       "202318  RT @PatricioMery: El escenario ideal para el E...   \n",
       "202319  RT @OrlenysOV: Semejante maniobra colectiva ne...   \n",
       "\n",
       "                     id_str metadata.iso_language_code  \\\n",
       "0       1353298931913019393                         es   \n",
       "1       1353299298407096320                         es   \n",
       "2       1353299454103838720                         es   \n",
       "3       1353299717485158400                         es   \n",
       "4       1353300160277852160                         es   \n",
       "...                     ...                        ...   \n",
       "202315  1360740507043966979                         es   \n",
       "202316  1360740510298734592                         es   \n",
       "202317  1360740510890160129                         es   \n",
       "202318  1360740523892473859                         es   \n",
       "202319  1360740520520282112                         es   \n",
       "\n",
       "           retweeted_status.created_at  \\\n",
       "0       Sat Jan 23 22:05:45 +0000 2021   \n",
       "1       Sat Jan 23 23:38:46 +0000 2021   \n",
       "2       Sun Jan 24 00:05:24 +0000 2021   \n",
       "3       Sun Jan 24 01:30:39 +0000 2021   \n",
       "4       Sat Jan 23 16:41:37 +0000 2021   \n",
       "...                                ...   \n",
       "202315  Sat Feb 13 20:21:35 +0000 2021   \n",
       "202316                             NaN   \n",
       "202317  Sat Feb 13 23:56:29 +0000 2021   \n",
       "202318  Sat Feb 13 18:50:33 +0000 2021   \n",
       "202319  Sat Feb 13 01:50:38 +0000 2021   \n",
       "\n",
       "                               retweeted_status.full_text  \\\n",
       "0       El LELO Andrés Arauz nos ha dicho q ha gestion...   \n",
       "1       A qué edad se enteraron que Jorge Glas y André...   \n",
       "2       Con una extraordinaria caravana, #Loja recibió...   \n",
       "3       David Villamar: \"Los #MilDeUna, propuesta de A...   \n",
       "4       Andrés Arauz fue el ganador del #DebatePreside...   \n",
       "...                                                   ...   \n",
       "202315  SEMANA: Samper está furioso y defiende al cand...   \n",
       "202316                                                NaN   \n",
       "202317  Andres Venegas Londoño, alias 'Uriel', fue dad...   \n",
       "202318  El escenario ideal para el Estado Profundo: in...   \n",
       "202319  Semejante maniobra colectiva neoliberal, solo ...   \n",
       "\n",
       "                 user.created_at  user.favourites_count  user.followers_count  \\\n",
       "0      2019-07-08 04:50:16+00:00                  23792                   208   \n",
       "1      2012-10-09 14:57:55+00:00                   1835                    88   \n",
       "2      2019-12-07 21:33:55+00:00                  20154                    73   \n",
       "3      2013-08-06 16:33:44+00:00                  78836                  1008   \n",
       "4      2019-08-29 23:23:54+00:00                  81000                   290   \n",
       "...                          ...                    ...                   ...   \n",
       "202315 2010-04-28 02:20:18+00:00                 126408                   384   \n",
       "202316 2013-06-30 16:33:16+00:00                     10                    78   \n",
       "202317 2019-11-12 17:48:40+00:00                  21782                   135   \n",
       "202318 2010-05-07 23:35:40+00:00                   6949                  4479   \n",
       "202319 2020-06-04 19:48:15+00:00                  36084                   799   \n",
       "\n",
       "        user.friends_count          user.id_str  \\\n",
       "0                      814  1148091911183503360   \n",
       "1                      325            870030324   \n",
       "2                       45  1203427383782629376   \n",
       "3                     1396           1650738853   \n",
       "4                      437  1167216174972702724   \n",
       "...                    ...                  ...   \n",
       "202315                 163            137895474   \n",
       "202316                  72           1558430348   \n",
       "202317                1138  1194311000910188550   \n",
       "202318                5000            141383221   \n",
       "202319                1231  1268630609494249475   \n",
       "\n",
       "                        user.location  user.verified  retweet_count  \n",
       "0                                 NaN          False            212  \n",
       "1                                 NaN          False            545  \n",
       "2                                 NaN          False            466  \n",
       "3       Un Mundo donde haya Justicia           False            292  \n",
       "4                                 NaN          False            116  \n",
       "...                               ...            ...            ...  \n",
       "202315                            NaN          False            474  \n",
       "202316                        Ecuador          False              0  \n",
       "202317                            NaN          False             55  \n",
       "202318              Ecuador - Guayaco          False            173  \n",
       "202319                Quintero, Chile          False             39  \n",
       "\n",
       "[202320 rows x 15 columns]"
      ]
     },
     "execution_count": 13,
     "metadata": {},
     "output_type": "execute_result"
    }
   ],
   "source": [
    "df_arauz = pd.read_csv(data_raw+\"/tweets_about_arauz.csv\")\n",
    "df_arauz['created_at'] = pd.to_datetime(df_arauz['created_at'], utc=pytz.UTC)\n",
    "df_arauz['user.created_at'] = pd.to_datetime(df_arauz['user.created_at'], utc=pytz.UTC)\n",
    "df_arauz"
   ]
  },
  {
   "cell_type": "markdown",
   "metadata": {},
   "source": [
    "## **2.2.&emsp; Removing Duplicates**\n",
    ">lorem ipsum"
   ]
  },
  {
   "cell_type": "code",
   "execution_count": 14,
   "metadata": {},
   "outputs": [
    {
     "data": {
      "text/plain": [
       "180960"
      ]
     },
     "execution_count": 14,
     "metadata": {},
     "output_type": "execute_result"
    }
   ],
   "source": [
    "# Count duplicates\n",
    "len(df_arauz['full_text'])-len(df_arauz['full_text'].drop_duplicates())"
   ]
  },
  {
   "cell_type": "code",
   "execution_count": 15,
   "metadata": {},
   "outputs": [],
   "source": [
    "df_arauz_processed = df_arauz.drop_duplicates( ['full_text'], keep='first')"
   ]
  },
  {
   "cell_type": "code",
   "execution_count": 16,
   "metadata": {},
   "outputs": [
    {
     "data": {
      "text/plain": [
       "21360"
      ]
     },
     "execution_count": 16,
     "metadata": {},
     "output_type": "execute_result"
    }
   ],
   "source": [
    "len(df_arauz_processed['full_text'])"
   ]
  },
  {
   "cell_type": "markdown",
   "metadata": {},
   "source": [
    "## **2.3.&emsp; Identify tweets by trolls**\n",
    ">Lorem ipsum"
   ]
  },
  {
   "cell_type": "code",
   "execution_count": 17,
   "metadata": {},
   "outputs": [],
   "source": [
    "def is_troll(Dt, Dc, Fc, fc, v):\n",
    "    '''\n",
    "    ----------------------------------\n",
    "    | Variable Description           |\n",
    "    ----------------------------------\n",
    "    | Dt  stands for Date Tweet      |\n",
    "    | Dc  stands for Date creation   |\n",
    "    | Fc  stands for Followers count |\n",
    "    | fc  stands for friend count    |\n",
    "    | v   stands for verified        |\n",
    "    ----------------------------------\n",
    "    | Weight penalization            |\n",
    "    ----------------------------------\n",
    "    | Timeliness metric:  WD = 0.7   |\n",
    "    | Followers metric:   WF = 0.2   |\n",
    "    | Following metric:   Wf = 0.1   |\n",
    "    ----------------------------------\n",
    "    | Acceptance Threshold           |\n",
    "    ----------------------------------\n",
    "    | Non Troll   > 0.8              |\n",
    "    | Troll       < 0.8              |\n",
    "    ----------------------------------\n",
    "    '''\n",
    "    # If user is verified then is a real person\n",
    "    if v:\n",
    "        return True\n",
    "    else:\n",
    "\n",
    "        threshold = 0.7*((Dt-Dc).days)/180 + 0.2*(Fc/250) + 0.1*(fc/300)\n",
    "\n",
    "        return threshold < 0.8\n"
   ]
  },
  {
   "cell_type": "code",
   "execution_count": 18,
   "metadata": {},
   "outputs": [],
   "source": [
    "df_arauz_processed['is_troll'] = df_arauz_processed.apply(lambda x: is_troll(x['created_at'],\n",
    "                                                         x['user.created_at'],\n",
    "                                                         x['user.followers_count'],\n",
    "                                                         x['user.friends_count'],\n",
    "                                                         x['user.verified']), axis=1)"
   ]
  },
  {
   "cell_type": "markdown",
   "metadata": {},
   "source": [
    "## **2.4.&emsp; Removing characters and Specific Stopwords**\n",
    ">lorem ipsum"
   ]
  },
  {
   "cell_type": "code",
   "execution_count": 19,
   "metadata": {},
   "outputs": [],
   "source": [
    "def clean_text(text):\n",
    "    \"\"\"Function to clean text extracted from the Internet with html tags\n",
    "    \n",
    "    Parameters\n",
    "    ----------\n",
    "    text: str \n",
    "      original string\n",
    "    \n",
    "    Return\n",
    "    ------\n",
    "    text: str\n",
    "      modified initial string\n",
    "    \"\"\"\n",
    "\n",
    "    text = text.lower() # lowercase text\n",
    "    text = re.sub(r\"(?:\\@|http?\\://|https?\\://|www)\\S+\", \"\", text) #Remove http links\n",
    "    text = EMOJI.sub(r'', text)\n",
    "    text = REPLACE_BY_SPACE_RE.sub(' ', text) # replace REPLACE_BY_SPACE_RE symbols by space in text\n",
    "    text = ' '.join(word for word in text.split() if word not in STOPWORDS) # delete stopwors from text\n",
    "    return text"
   ]
  },
  {
   "cell_type": "code",
   "execution_count": 20,
   "metadata": {
    "tags": []
   },
   "outputs": [],
   "source": [
    "# filtrado de caracteres y stopwords\n",
    "REPLACE_BY_SPACE_RE = re.compile('[/(){}\\[\\]\\|@#:,;¿?!¡-]')\n",
    "EMOJI = re.compile(\"[\"\n",
    "                               u\"\\U0001F600-\\U0001F64F\"  # emoticons\n",
    "                               u\"\\U0001F300-\\U0001F5FF\"  # symbols & pictographs\n",
    "                               u\"\\U0001F680-\\U0001F6FF\"  # transport & map symbols\n",
    "                               u\"\\U0001F1E0-\\U0001F1FF\"  # flags (iOS)\n",
    "                               u\"\\U00002500-\\U00002BEF\"  # chinese char\n",
    "                               u\"\\U00002702-\\U000027B0\"\n",
    "                               u\"\\U00002702-\\U000027B0\"\n",
    "                               u\"\\U000024C2-\\U0001F251\"\n",
    "                               u\"\\U0001f926-\\U0001f937\"\n",
    "                               u\"\\U00010000-\\U0010ffff\"\n",
    "                               u\"\\u2640-\\u2642\"\n",
    "                               u\"\\u2600-\\u2B55\"\n",
    "                               u\"\\u200d\"\n",
    "                               u\"\\u23cf\"\n",
    "                               u\"\\u23e9\"\n",
    "                               u\"\\u231a\"\n",
    "                               u\"\\ufe0f\"  # dingbats\n",
    "                               u\"\\u3030\"\n",
    "                               \"]+\", flags=re.UNICODE)\n",
    "\n",
    "STOPWORDS = ('rt')  # Adding new stopwords to the set, 'cause theese words repeat in all docs\n",
    "\n",
    "df_arauz_processed['full_text'] = df_arauz_processed[\"full_text\"].apply(clean_text)"
   ]
  },
  {
   "cell_type": "markdown",
   "metadata": {},
   "source": [
    "### _Luego de remover los caracteres especiales pueden existir Tweets vacios, debido a que estos solo contenian emotes o enlaces en su interior. Es por esta razon que se buscan estos espacios en blanco y se los quita_"
   ]
  },
  {
   "cell_type": "code",
   "execution_count": 21,
   "metadata": {},
   "outputs": [
    {
     "data": {
      "text/plain": [
       "48"
      ]
     },
     "execution_count": 21,
     "metadata": {},
     "output_type": "execute_result"
    }
   ],
   "source": [
    "df_arauz_processed[df_arauz_processed['full_text']==\"\"][\"full_text\"].count()"
   ]
  },
  {
   "cell_type": "code",
   "execution_count": 22,
   "metadata": {},
   "outputs": [],
   "source": [
    "df_arauz_processed.drop(df_arauz_processed.loc[df_arauz_processed[\"full_text\"]==\"\"].index, inplace=True)"
   ]
  },
  {
   "cell_type": "code",
   "execution_count": 23,
   "metadata": {},
   "outputs": [
    {
     "data": {
      "text/plain": [
       "0"
      ]
     },
     "execution_count": 23,
     "metadata": {},
     "output_type": "execute_result"
    }
   ],
   "source": [
    "df_arauz_processed[df_arauz_processed['full_text']==\"\"][\"full_text\"].count()"
   ]
  },
  {
   "cell_type": "code",
   "execution_count": 24,
   "metadata": {},
   "outputs": [],
   "source": [
    "df_arauz_processed.to_csv(data_processed+'/arauz_clean.csv', \n",
    "                        index=False, header=True, chunksize=10000)"
   ]
  },
  {
   "cell_type": "code",
   "execution_count": null,
   "metadata": {},
   "outputs": [],
   "source": []
  }
 ],
 "metadata": {
  "colab": {
   "name": "Trabajo Final Data Science G4.ipynb",
   "provenance": [],
   "toc_visible": true
  },
  "kernelspec": {
   "display_name": "Python 3",
   "language": "python",
   "name": "python3"
  },
  "language_info": {
   "codemirror_mode": {
    "name": "ipython",
    "version": 3
   },
   "file_extension": ".py",
   "mimetype": "text/x-python",
   "name": "python",
   "nbconvert_exporter": "python",
   "pygments_lexer": "ipython3",
   "version": "3.7.0"
  }
 },
 "nbformat": 4,
 "nbformat_minor": 4
}
